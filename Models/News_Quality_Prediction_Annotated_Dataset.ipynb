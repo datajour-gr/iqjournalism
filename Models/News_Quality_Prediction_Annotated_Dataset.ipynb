{
 "cells": [
  {
   "cell_type": "markdown",
   "metadata": {
    "_uuid": "bbd660b62cc616efa33651beedc49b86045b784d",
    "id": "DhvHCIykHL-a"
   },
   "source": [
    "## <font size=5> <strong>News Quality Prediction - Annotated Dataset\n",
    " "
   ]
  },
  {
   "cell_type": "markdown",
   "metadata": {
    "_uuid": "e41ea25bec5928203cec544d0413fecd4b4e5555",
    "id": "EtiiBiR4HL-e"
   },
   "source": [
    "## I. Importing essential libraries"
   ]
  },
  {
   "cell_type": "code",
   "execution_count": 1,
   "metadata": {
    "_uuid": "f571f7e57c828d45fe55f6136fe8c2e796f74d4e",
    "id": "TTfDKboDHL-f"
   },
   "outputs": [],
   "source": [
    "import numpy as np\n",
    "import pandas as pd\n",
    "import matplotlib.pyplot as plt\n",
    "import seaborn as sns\n",
    "import os\n",
    "%matplotlib inline\n",
    "\n",
    "import warnings\n",
    "warnings.filterwarnings('ignore')\n",
    "\n",
    "# to make this notebook's output stable across runs\n",
    "np.random.seed(42)\n",
    "from sklearn.metrics import confusion_matrix, f1_score\n",
    "# To plot pretty figures\n",
    "%matplotlib inline\n",
    "import matplotlib as mpl\n",
    "import matplotlib.pyplot as plt\n",
    "mpl.rc('axes', labelsize=14)\n",
    "mpl.rc('xtick', labelsize=12)\n",
    "mpl.rc('ytick', labelsize=12)"
   ]
  },
  {
   "cell_type": "markdown",
   "metadata": {
    "_uuid": "44e71221837f6fa60edc2c83b7492ddb019cc1cd",
    "id": "kvNQN09rHL-h"
   },
   "source": [
    "## II. Importing and understanding our dataset "
   ]
  },
  {
   "cell_type": "code",
   "execution_count": 2,
   "metadata": {
    "_uuid": "2a1a1dae64ae3c934849b2b918bc7d68cd59e3f6",
    "id": "x49776PyHL-i"
   },
   "outputs": [],
   "source": [
    "dataset = pd.read_csv('../data/quality9.csv')"
   ]
  },
  {
   "cell_type": "markdown",
   "metadata": {
    "_uuid": "481fa1d160a3256ef2470535bfb0574820fbaabd",
    "id": "xZFYeQQtHL-k"
   },
   "source": [
    "#### Verifying it as a 'dataframe' object in pandas"
   ]
  },
  {
   "cell_type": "code",
   "execution_count": 3,
   "metadata": {
    "_uuid": "86353d54a331dbf55a63874402cf13e2a72c3750",
    "colab": {
     "base_uri": "https://localhost:8080/"
    },
    "id": "VSxLk42THL-l",
    "outputId": "8da607c7-3b1c-41c5-9741-ce99f61e97f3"
   },
   "outputs": [
    {
     "data": {
      "text/plain": [
       "pandas.core.frame.DataFrame"
      ]
     },
     "execution_count": 3,
     "metadata": {},
     "output_type": "execute_result"
    }
   ],
   "source": [
    "type(dataset)"
   ]
  },
  {
   "cell_type": "code",
   "execution_count": 4,
   "metadata": {
    "colab": {
     "base_uri": "https://localhost:8080/"
    },
    "id": "Wsj8kfdCrJgM",
    "outputId": "1c8fcf29-d69d-4ec7-e51b-d180ffddd1a8"
   },
   "outputs": [
    {
     "data": {
      "text/plain": [
       "Index(['title', 'Noimages', 'Length', 'Difficulty', 'uniq_wds', 'char_count',\n",
       "       'avg_word', 'perc_uniq', 'Sentence length', 'stopwords', 'Mistakes',\n",
       "       'Numbers', 'first_person', 'rare', 'mtld', 'msttr', 'hdd',\n",
       "       'Capitals in article', 'Anger', 'Positivity', 'Joy', 'Disgust',\n",
       "       'Surprise', 'Trust', 'Anticipation', 'Sadness', 'negative', 'Fear',\n",
       "       'density', 'Sad_', 'Happy', 'Inspired', 'I do not care', 'Annoyed',\n",
       "       'Amused', 'Afraid', 'Polarity', 'negativity_vader', 'neutrality_vader',\n",
       "       'positivity_vader', 'subjectivity', 'No Celebs', 'caps', 'Adjectives',\n",
       "       'cadence', 'No Animals', 'No Crime', 'No Sensual', 'Entertainment',\n",
       "       'Afinnity', 'Strong subjectivity', 'Weak subjectivity', 'Valence',\n",
       "       'Arousal', 'Dominance', 'Anger intensity', 'Joy intensity',\n",
       "       'Sadness intensity', 'Fear intensity', 'Diversity', 'Balance',\n",
       "       'Lexical richness', 'Title Polarity', 'cursing', 'quality',\n",
       "       '#title_words', 'img/word'],\n",
       "      dtype='object')"
      ]
     },
     "execution_count": 4,
     "metadata": {},
     "output_type": "execute_result"
    }
   ],
   "source": [
    "dataset.columns"
   ]
  },
  {
   "cell_type": "markdown",
   "metadata": {
    "_uuid": "44649a50ce58d2e10a032f7d0e7ecf435e932481",
    "id": "vtzzyRT_HL-n"
   },
   "source": [
    "#### Shape of dataset"
   ]
  },
  {
   "cell_type": "code",
   "execution_count": 5,
   "metadata": {
    "_uuid": "0a2396061d262bee451e61dd51be84d0bd1ac9d0",
    "colab": {
     "base_uri": "https://localhost:8080/"
    },
    "id": "NBH5Dl-KHL-p",
    "outputId": "0c27582c-13f8-4e31-d741-bf4760449f43"
   },
   "outputs": [
    {
     "data": {
      "text/plain": [
       "(1935, 67)"
      ]
     },
     "execution_count": 5,
     "metadata": {},
     "output_type": "execute_result"
    }
   ],
   "source": [
    "dataset.shape"
   ]
  },
  {
   "cell_type": "code",
   "execution_count": 6,
   "metadata": {},
   "outputs": [],
   "source": [
    "dataset = dataset[[ 'Difficulty', 'Mistakes', 'Length', \n",
    "       'Title Polarity','No Celebs', 'Diversity', 'Inspired',         \n",
    "                   'Joy intensity', 'Anticipation',\n",
    "       'Strong subjectivity', 'first_person', \n",
    "                   'Adjectives',  \n",
    "                   'Annoyed', 'Numbers',\n",
    "                   'Trust', \n",
    "                   'Fear intensity',\n",
    "       'Disgust', 'Sadness intensity', \n",
    "                   'Anger intensity',\n",
    "                   'No Crime', 'No Sensual', 'No Animals', \n",
    "                   'img/word', \n",
    "                   '#title_words', \n",
    "                   'quality'] \n",
    "        ].copy()"
   ]
  },
  {
   "cell_type": "markdown",
   "metadata": {
    "_uuid": "3e1de0c39fc28f086a5e8377cc5fbdbf91d377b3",
    "id": "66zDqrjoHL-s"
   },
   "source": [
    "#### Printing out a few columns"
   ]
  },
  {
   "cell_type": "code",
   "execution_count": 7,
   "metadata": {
    "_uuid": "87ebcc578e5959fe9a9c9a538c73122183454459",
    "colab": {
     "base_uri": "https://localhost:8080/",
     "height": 297
    },
    "id": "KCSgbqFzHL-s",
    "outputId": "9263af5f-0715-48d7-d333-a903dbd1bacb"
   },
   "outputs": [
    {
     "data": {
      "text/html": [
       "<div>\n",
       "<style scoped>\n",
       "    .dataframe tbody tr th:only-of-type {\n",
       "        vertical-align: middle;\n",
       "    }\n",
       "\n",
       "    .dataframe tbody tr th {\n",
       "        vertical-align: top;\n",
       "    }\n",
       "\n",
       "    .dataframe thead th {\n",
       "        text-align: right;\n",
       "    }\n",
       "</style>\n",
       "<table border=\"1\" class=\"dataframe\">\n",
       "  <thead>\n",
       "    <tr style=\"text-align: right;\">\n",
       "      <th></th>\n",
       "      <th>Difficulty</th>\n",
       "      <th>Mistakes</th>\n",
       "      <th>Length</th>\n",
       "      <th>Title Polarity</th>\n",
       "      <th>No Celebs</th>\n",
       "      <th>Diversity</th>\n",
       "      <th>Inspired</th>\n",
       "      <th>Joy intensity</th>\n",
       "      <th>Anticipation</th>\n",
       "      <th>Strong subjectivity</th>\n",
       "      <th>...</th>\n",
       "      <th>Fear intensity</th>\n",
       "      <th>Disgust</th>\n",
       "      <th>Sadness intensity</th>\n",
       "      <th>Anger intensity</th>\n",
       "      <th>No Crime</th>\n",
       "      <th>No Sensual</th>\n",
       "      <th>No Animals</th>\n",
       "      <th>img/word</th>\n",
       "      <th>#title_words</th>\n",
       "      <th>quality</th>\n",
       "    </tr>\n",
       "  </thead>\n",
       "  <tbody>\n",
       "    <tr>\n",
       "      <th>0</th>\n",
       "      <td>50</td>\n",
       "      <td>0.999092</td>\n",
       "      <td>1037</td>\n",
       "      <td>0.500</td>\n",
       "      <td>1</td>\n",
       "      <td>1</td>\n",
       "      <td>11.563169</td>\n",
       "      <td>0.179867</td>\n",
       "      <td>8.137045</td>\n",
       "      <td>0.037608</td>\n",
       "      <td>...</td>\n",
       "      <td>0.145000</td>\n",
       "      <td>2.141328</td>\n",
       "      <td>0.110819</td>\n",
       "      <td>0.109217</td>\n",
       "      <td>1</td>\n",
       "      <td>2</td>\n",
       "      <td>2</td>\n",
       "      <td>0.010608</td>\n",
       "      <td>29.0</td>\n",
       "      <td>1</td>\n",
       "    </tr>\n",
       "    <tr>\n",
       "      <th>1</th>\n",
       "      <td>53</td>\n",
       "      <td>0.989343</td>\n",
       "      <td>920</td>\n",
       "      <td>0.000</td>\n",
       "      <td>0</td>\n",
       "      <td>7</td>\n",
       "      <td>10.023310</td>\n",
       "      <td>0.144050</td>\n",
       "      <td>6.060606</td>\n",
       "      <td>0.021739</td>\n",
       "      <td>...</td>\n",
       "      <td>0.297250</td>\n",
       "      <td>3.496503</td>\n",
       "      <td>0.167850</td>\n",
       "      <td>0.206850</td>\n",
       "      <td>21</td>\n",
       "      <td>0</td>\n",
       "      <td>1</td>\n",
       "      <td>0.007609</td>\n",
       "      <td>20.0</td>\n",
       "      <td>1</td>\n",
       "    </tr>\n",
       "    <tr>\n",
       "      <th>2</th>\n",
       "      <td>41</td>\n",
       "      <td>0.999450</td>\n",
       "      <td>647</td>\n",
       "      <td>0.165</td>\n",
       "      <td>2</td>\n",
       "      <td>7</td>\n",
       "      <td>13.473054</td>\n",
       "      <td>0.080775</td>\n",
       "      <td>8.982036</td>\n",
       "      <td>0.052469</td>\n",
       "      <td>...</td>\n",
       "      <td>0.142975</td>\n",
       "      <td>2.694611</td>\n",
       "      <td>0.146075</td>\n",
       "      <td>0.151125</td>\n",
       "      <td>1</td>\n",
       "      <td>0</td>\n",
       "      <td>1</td>\n",
       "      <td>0.013910</td>\n",
       "      <td>18.0</td>\n",
       "      <td>1</td>\n",
       "    </tr>\n",
       "    <tr>\n",
       "      <th>3</th>\n",
       "      <td>60</td>\n",
       "      <td>0.999794</td>\n",
       "      <td>524</td>\n",
       "      <td>0.000</td>\n",
       "      <td>0</td>\n",
       "      <td>5</td>\n",
       "      <td>10.038610</td>\n",
       "      <td>0.311414</td>\n",
       "      <td>5.019305</td>\n",
       "      <td>0.043893</td>\n",
       "      <td>...</td>\n",
       "      <td>0.105724</td>\n",
       "      <td>0.386100</td>\n",
       "      <td>0.094862</td>\n",
       "      <td>0.060828</td>\n",
       "      <td>2</td>\n",
       "      <td>1</td>\n",
       "      <td>0</td>\n",
       "      <td>0.011450</td>\n",
       "      <td>20.0</td>\n",
       "      <td>0</td>\n",
       "    </tr>\n",
       "    <tr>\n",
       "      <th>4</th>\n",
       "      <td>69</td>\n",
       "      <td>1.000000</td>\n",
       "      <td>385</td>\n",
       "      <td>0.300</td>\n",
       "      <td>0</td>\n",
       "      <td>4</td>\n",
       "      <td>10.476190</td>\n",
       "      <td>0.191125</td>\n",
       "      <td>3.333333</td>\n",
       "      <td>0.038961</td>\n",
       "      <td>...</td>\n",
       "      <td>0.224594</td>\n",
       "      <td>1.904762</td>\n",
       "      <td>0.330031</td>\n",
       "      <td>0.084281</td>\n",
       "      <td>0</td>\n",
       "      <td>1</td>\n",
       "      <td>0</td>\n",
       "      <td>0.010390</td>\n",
       "      <td>30.0</td>\n",
       "      <td>0</td>\n",
       "    </tr>\n",
       "  </tbody>\n",
       "</table>\n",
       "<p>5 rows × 25 columns</p>\n",
       "</div>"
      ],
      "text/plain": [
       "   Difficulty  Mistakes  Length  Title Polarity  No Celebs  Diversity  \\\n",
       "0          50  0.999092    1037           0.500          1          1   \n",
       "1          53  0.989343     920           0.000          0          7   \n",
       "2          41  0.999450     647           0.165          2          7   \n",
       "3          60  0.999794     524           0.000          0          5   \n",
       "4          69  1.000000     385           0.300          0          4   \n",
       "\n",
       "    Inspired  Joy intensity  Anticipation  Strong subjectivity  ...  \\\n",
       "0  11.563169       0.179867      8.137045             0.037608  ...   \n",
       "1  10.023310       0.144050      6.060606             0.021739  ...   \n",
       "2  13.473054       0.080775      8.982036             0.052469  ...   \n",
       "3  10.038610       0.311414      5.019305             0.043893  ...   \n",
       "4  10.476190       0.191125      3.333333             0.038961  ...   \n",
       "\n",
       "   Fear intensity   Disgust  Sadness intensity  Anger intensity  No Crime  \\\n",
       "0        0.145000  2.141328           0.110819         0.109217         1   \n",
       "1        0.297250  3.496503           0.167850         0.206850        21   \n",
       "2        0.142975  2.694611           0.146075         0.151125         1   \n",
       "3        0.105724  0.386100           0.094862         0.060828         2   \n",
       "4        0.224594  1.904762           0.330031         0.084281         0   \n",
       "\n",
       "   No Sensual  No Animals  img/word  #title_words  quality  \n",
       "0           2           2  0.010608          29.0        1  \n",
       "1           0           1  0.007609          20.0        1  \n",
       "2           0           1  0.013910          18.0        1  \n",
       "3           1           0  0.011450          20.0        0  \n",
       "4           1           0  0.010390          30.0        0  \n",
       "\n",
       "[5 rows x 25 columns]"
      ]
     },
     "execution_count": 7,
     "metadata": {},
     "output_type": "execute_result"
    }
   ],
   "source": [
    "dataset.head(5)"
   ]
  },
  {
   "cell_type": "code",
   "execution_count": 8,
   "metadata": {
    "_uuid": "5132eb43114bf99d5f857f459d0c9d2faffc9644",
    "colab": {
     "base_uri": "https://localhost:8080/",
     "height": 314
    },
    "id": "AChzdlI1HL-t",
    "outputId": "f0a91e29-b5fb-4a2c-f260-801a7b1e6fc0"
   },
   "outputs": [
    {
     "data": {
      "text/html": [
       "<div>\n",
       "<style scoped>\n",
       "    .dataframe tbody tr th:only-of-type {\n",
       "        vertical-align: middle;\n",
       "    }\n",
       "\n",
       "    .dataframe tbody tr th {\n",
       "        vertical-align: top;\n",
       "    }\n",
       "\n",
       "    .dataframe thead th {\n",
       "        text-align: right;\n",
       "    }\n",
       "</style>\n",
       "<table border=\"1\" class=\"dataframe\">\n",
       "  <thead>\n",
       "    <tr style=\"text-align: right;\">\n",
       "      <th></th>\n",
       "      <th>Difficulty</th>\n",
       "      <th>Mistakes</th>\n",
       "      <th>Length</th>\n",
       "      <th>Title Polarity</th>\n",
       "      <th>No Celebs</th>\n",
       "      <th>Diversity</th>\n",
       "      <th>Inspired</th>\n",
       "      <th>Joy intensity</th>\n",
       "      <th>Anticipation</th>\n",
       "      <th>Strong subjectivity</th>\n",
       "      <th>...</th>\n",
       "      <th>Fear intensity</th>\n",
       "      <th>Disgust</th>\n",
       "      <th>Sadness intensity</th>\n",
       "      <th>Anger intensity</th>\n",
       "      <th>No Crime</th>\n",
       "      <th>No Sensual</th>\n",
       "      <th>No Animals</th>\n",
       "      <th>img/word</th>\n",
       "      <th>#title_words</th>\n",
       "      <th>quality</th>\n",
       "    </tr>\n",
       "  </thead>\n",
       "  <tbody>\n",
       "    <tr>\n",
       "      <th>582</th>\n",
       "      <td>42</td>\n",
       "      <td>0.997392</td>\n",
       "      <td>689</td>\n",
       "      <td>0.000000</td>\n",
       "      <td>1</td>\n",
       "      <td>9</td>\n",
       "      <td>9.287926</td>\n",
       "      <td>0.293580</td>\n",
       "      <td>3.715170</td>\n",
       "      <td>0.043541</td>\n",
       "      <td>...</td>\n",
       "      <td>0.037820</td>\n",
       "      <td>0.928793</td>\n",
       "      <td>0.084860</td>\n",
       "      <td>0.052140</td>\n",
       "      <td>0</td>\n",
       "      <td>0</td>\n",
       "      <td>1</td>\n",
       "      <td>0.007257</td>\n",
       "      <td>11.0</td>\n",
       "      <td>0</td>\n",
       "    </tr>\n",
       "    <tr>\n",
       "      <th>901</th>\n",
       "      <td>62</td>\n",
       "      <td>1.000000</td>\n",
       "      <td>1868</td>\n",
       "      <td>-0.077778</td>\n",
       "      <td>1</td>\n",
       "      <td>16</td>\n",
       "      <td>15.975422</td>\n",
       "      <td>0.075975</td>\n",
       "      <td>3.533026</td>\n",
       "      <td>0.019272</td>\n",
       "      <td>...</td>\n",
       "      <td>0.395244</td>\n",
       "      <td>2.457757</td>\n",
       "      <td>0.172306</td>\n",
       "      <td>0.220125</td>\n",
       "      <td>29</td>\n",
       "      <td>2</td>\n",
       "      <td>0</td>\n",
       "      <td>0.010707</td>\n",
       "      <td>36.0</td>\n",
       "      <td>0</td>\n",
       "    </tr>\n",
       "    <tr>\n",
       "      <th>907</th>\n",
       "      <td>39</td>\n",
       "      <td>1.000000</td>\n",
       "      <td>409</td>\n",
       "      <td>-0.100000</td>\n",
       "      <td>1</td>\n",
       "      <td>3</td>\n",
       "      <td>17.272727</td>\n",
       "      <td>0.350250</td>\n",
       "      <td>7.727273</td>\n",
       "      <td>0.039120</td>\n",
       "      <td>...</td>\n",
       "      <td>0.149781</td>\n",
       "      <td>1.363636</td>\n",
       "      <td>0.131719</td>\n",
       "      <td>0.082000</td>\n",
       "      <td>1</td>\n",
       "      <td>7</td>\n",
       "      <td>0</td>\n",
       "      <td>0.007335</td>\n",
       "      <td>12.0</td>\n",
       "      <td>0</td>\n",
       "    </tr>\n",
       "    <tr>\n",
       "      <th>1753</th>\n",
       "      <td>65</td>\n",
       "      <td>1.000000</td>\n",
       "      <td>264</td>\n",
       "      <td>0.000000</td>\n",
       "      <td>0</td>\n",
       "      <td>1</td>\n",
       "      <td>13.375796</td>\n",
       "      <td>0.057400</td>\n",
       "      <td>3.184713</td>\n",
       "      <td>0.030303</td>\n",
       "      <td>...</td>\n",
       "      <td>0.361029</td>\n",
       "      <td>2.547771</td>\n",
       "      <td>0.171514</td>\n",
       "      <td>0.233829</td>\n",
       "      <td>9</td>\n",
       "      <td>0</td>\n",
       "      <td>0</td>\n",
       "      <td>0.003788</td>\n",
       "      <td>10.0</td>\n",
       "      <td>0</td>\n",
       "    </tr>\n",
       "    <tr>\n",
       "      <th>1463</th>\n",
       "      <td>49</td>\n",
       "      <td>1.000000</td>\n",
       "      <td>399</td>\n",
       "      <td>0.166667</td>\n",
       "      <td>0</td>\n",
       "      <td>3</td>\n",
       "      <td>6.220096</td>\n",
       "      <td>0.131737</td>\n",
       "      <td>2.392344</td>\n",
       "      <td>0.045113</td>\n",
       "      <td>...</td>\n",
       "      <td>0.233158</td>\n",
       "      <td>1.435407</td>\n",
       "      <td>0.132421</td>\n",
       "      <td>0.064474</td>\n",
       "      <td>4</td>\n",
       "      <td>6</td>\n",
       "      <td>0</td>\n",
       "      <td>0.007519</td>\n",
       "      <td>17.0</td>\n",
       "      <td>0</td>\n",
       "    </tr>\n",
       "  </tbody>\n",
       "</table>\n",
       "<p>5 rows × 25 columns</p>\n",
       "</div>"
      ],
      "text/plain": [
       "      Difficulty  Mistakes  Length  Title Polarity  No Celebs  Diversity  \\\n",
       "582           42  0.997392     689        0.000000          1          9   \n",
       "901           62  1.000000    1868       -0.077778          1         16   \n",
       "907           39  1.000000     409       -0.100000          1          3   \n",
       "1753          65  1.000000     264        0.000000          0          1   \n",
       "1463          49  1.000000     399        0.166667          0          3   \n",
       "\n",
       "       Inspired  Joy intensity  Anticipation  Strong subjectivity  ...  \\\n",
       "582    9.287926       0.293580      3.715170             0.043541  ...   \n",
       "901   15.975422       0.075975      3.533026             0.019272  ...   \n",
       "907   17.272727       0.350250      7.727273             0.039120  ...   \n",
       "1753  13.375796       0.057400      3.184713             0.030303  ...   \n",
       "1463   6.220096       0.131737      2.392344             0.045113  ...   \n",
       "\n",
       "      Fear intensity   Disgust  Sadness intensity  Anger intensity  No Crime  \\\n",
       "582         0.037820  0.928793           0.084860         0.052140         0   \n",
       "901         0.395244  2.457757           0.172306         0.220125        29   \n",
       "907         0.149781  1.363636           0.131719         0.082000         1   \n",
       "1753        0.361029  2.547771           0.171514         0.233829         9   \n",
       "1463        0.233158  1.435407           0.132421         0.064474         4   \n",
       "\n",
       "      No Sensual  No Animals  img/word  #title_words  quality  \n",
       "582            0           1  0.007257          11.0        0  \n",
       "901            2           0  0.010707          36.0        0  \n",
       "907            7           0  0.007335          12.0        0  \n",
       "1753           0           0  0.003788          10.0        0  \n",
       "1463           6           0  0.007519          17.0        0  \n",
       "\n",
       "[5 rows x 25 columns]"
      ]
     },
     "execution_count": 8,
     "metadata": {},
     "output_type": "execute_result"
    }
   ],
   "source": [
    "dataset.sample(5)"
   ]
  },
  {
   "cell_type": "markdown",
   "metadata": {
    "_uuid": "1113236bec2848d33c5bfe088ff0d03246b8b7ce",
    "id": "4vrUpZpTHL-u"
   },
   "source": [
    "#### Description"
   ]
  },
  {
   "cell_type": "code",
   "execution_count": 9,
   "metadata": {
    "_uuid": "c31619815cb0dae5586985671fdc21110b39a821",
    "colab": {
     "base_uri": "https://localhost:8080/",
     "height": 428
    },
    "id": "NJHactPAHL-u",
    "outputId": "7b2bb32c-f743-4a11-8ed2-9d561c462882"
   },
   "outputs": [
    {
     "data": {
      "text/html": [
       "<div>\n",
       "<style scoped>\n",
       "    .dataframe tbody tr th:only-of-type {\n",
       "        vertical-align: middle;\n",
       "    }\n",
       "\n",
       "    .dataframe tbody tr th {\n",
       "        vertical-align: top;\n",
       "    }\n",
       "\n",
       "    .dataframe thead th {\n",
       "        text-align: right;\n",
       "    }\n",
       "</style>\n",
       "<table border=\"1\" class=\"dataframe\">\n",
       "  <thead>\n",
       "    <tr style=\"text-align: right;\">\n",
       "      <th></th>\n",
       "      <th>Difficulty</th>\n",
       "      <th>Mistakes</th>\n",
       "      <th>Length</th>\n",
       "      <th>Title Polarity</th>\n",
       "      <th>No Celebs</th>\n",
       "      <th>Diversity</th>\n",
       "      <th>Inspired</th>\n",
       "      <th>Joy intensity</th>\n",
       "      <th>Anticipation</th>\n",
       "      <th>Strong subjectivity</th>\n",
       "      <th>...</th>\n",
       "      <th>Fear intensity</th>\n",
       "      <th>Disgust</th>\n",
       "      <th>Sadness intensity</th>\n",
       "      <th>Anger intensity</th>\n",
       "      <th>No Crime</th>\n",
       "      <th>No Sensual</th>\n",
       "      <th>No Animals</th>\n",
       "      <th>img/word</th>\n",
       "      <th>#title_words</th>\n",
       "      <th>quality</th>\n",
       "    </tr>\n",
       "  </thead>\n",
       "  <tbody>\n",
       "    <tr>\n",
       "      <th>count</th>\n",
       "      <td>1935.000000</td>\n",
       "      <td>1935.000000</td>\n",
       "      <td>1935.000000</td>\n",
       "      <td>1935.000000</td>\n",
       "      <td>1935.000000</td>\n",
       "      <td>1935.000000</td>\n",
       "      <td>1935.000000</td>\n",
       "      <td>1935.000000</td>\n",
       "      <td>1935.000000</td>\n",
       "      <td>1935.000000</td>\n",
       "      <td>...</td>\n",
       "      <td>1935.000000</td>\n",
       "      <td>1935.000000</td>\n",
       "      <td>1935.000000</td>\n",
       "      <td>1935.000000</td>\n",
       "      <td>1935.000000</td>\n",
       "      <td>1935.000000</td>\n",
       "      <td>1935.000000</td>\n",
       "      <td>1935.000000</td>\n",
       "      <td>1935.000000</td>\n",
       "      <td>1935.000000</td>\n",
       "    </tr>\n",
       "    <tr>\n",
       "      <th>mean</th>\n",
       "      <td>51.221189</td>\n",
       "      <td>0.998991</td>\n",
       "      <td>724.553488</td>\n",
       "      <td>-0.013388</td>\n",
       "      <td>0.765375</td>\n",
       "      <td>4.838760</td>\n",
       "      <td>11.928577</td>\n",
       "      <td>0.173866</td>\n",
       "      <td>5.864836</td>\n",
       "      <td>0.039092</td>\n",
       "      <td>...</td>\n",
       "      <td>0.212321</td>\n",
       "      <td>2.511403</td>\n",
       "      <td>0.145220</td>\n",
       "      <td>0.136543</td>\n",
       "      <td>4.471835</td>\n",
       "      <td>1.097158</td>\n",
       "      <td>1.138501</td>\n",
       "      <td>0.016010</td>\n",
       "      <td>15.391731</td>\n",
       "      <td>0.494057</td>\n",
       "    </tr>\n",
       "    <tr>\n",
       "      <th>std</th>\n",
       "      <td>11.478619</td>\n",
       "      <td>0.009733</td>\n",
       "      <td>601.283147</td>\n",
       "      <td>0.246153</td>\n",
       "      <td>1.481963</td>\n",
       "      <td>4.004502</td>\n",
       "      <td>4.086370</td>\n",
       "      <td>0.090582</td>\n",
       "      <td>2.514994</td>\n",
       "      <td>0.016020</td>\n",
       "      <td>...</td>\n",
       "      <td>0.109380</td>\n",
       "      <td>1.805138</td>\n",
       "      <td>0.081731</td>\n",
       "      <td>0.085432</td>\n",
       "      <td>6.455248</td>\n",
       "      <td>2.675846</td>\n",
       "      <td>3.107592</td>\n",
       "      <td>0.033117</td>\n",
       "      <td>7.344143</td>\n",
       "      <td>0.500094</td>\n",
       "    </tr>\n",
       "    <tr>\n",
       "      <th>min</th>\n",
       "      <td>9.000000</td>\n",
       "      <td>0.647773</td>\n",
       "      <td>107.000000</td>\n",
       "      <td>-1.000000</td>\n",
       "      <td>0.000000</td>\n",
       "      <td>0.000000</td>\n",
       "      <td>1.923077</td>\n",
       "      <td>0.000000</td>\n",
       "      <td>0.000000</td>\n",
       "      <td>0.000000</td>\n",
       "      <td>...</td>\n",
       "      <td>0.000000</td>\n",
       "      <td>0.000000</td>\n",
       "      <td>0.000000</td>\n",
       "      <td>0.000000</td>\n",
       "      <td>0.000000</td>\n",
       "      <td>0.000000</td>\n",
       "      <td>0.000000</td>\n",
       "      <td>0.000000</td>\n",
       "      <td>3.000000</td>\n",
       "      <td>0.000000</td>\n",
       "    </tr>\n",
       "    <tr>\n",
       "      <th>25%</th>\n",
       "      <td>43.000000</td>\n",
       "      <td>0.999554</td>\n",
       "      <td>377.000000</td>\n",
       "      <td>-0.053056</td>\n",
       "      <td>0.000000</td>\n",
       "      <td>2.000000</td>\n",
       "      <td>9.090909</td>\n",
       "      <td>0.109671</td>\n",
       "      <td>4.111350</td>\n",
       "      <td>0.027853</td>\n",
       "      <td>...</td>\n",
       "      <td>0.129995</td>\n",
       "      <td>1.170733</td>\n",
       "      <td>0.084841</td>\n",
       "      <td>0.069964</td>\n",
       "      <td>0.000000</td>\n",
       "      <td>0.000000</td>\n",
       "      <td>0.000000</td>\n",
       "      <td>0.002920</td>\n",
       "      <td>11.000000</td>\n",
       "      <td>0.000000</td>\n",
       "    </tr>\n",
       "    <tr>\n",
       "      <th>50%</th>\n",
       "      <td>52.000000</td>\n",
       "      <td>1.000000</td>\n",
       "      <td>549.000000</td>\n",
       "      <td>0.000000</td>\n",
       "      <td>0.000000</td>\n",
       "      <td>4.000000</td>\n",
       "      <td>11.483254</td>\n",
       "      <td>0.160679</td>\n",
       "      <td>5.568445</td>\n",
       "      <td>0.038206</td>\n",
       "      <td>...</td>\n",
       "      <td>0.201034</td>\n",
       "      <td>2.180685</td>\n",
       "      <td>0.133070</td>\n",
       "      <td>0.122846</td>\n",
       "      <td>2.000000</td>\n",
       "      <td>0.000000</td>\n",
       "      <td>0.000000</td>\n",
       "      <td>0.007380</td>\n",
       "      <td>13.000000</td>\n",
       "      <td>0.000000</td>\n",
       "    </tr>\n",
       "    <tr>\n",
       "      <th>75%</th>\n",
       "      <td>59.000000</td>\n",
       "      <td>1.000000</td>\n",
       "      <td>897.500000</td>\n",
       "      <td>0.023323</td>\n",
       "      <td>1.000000</td>\n",
       "      <td>7.000000</td>\n",
       "      <td>14.426304</td>\n",
       "      <td>0.223042</td>\n",
       "      <td>7.310399</td>\n",
       "      <td>0.048969</td>\n",
       "      <td>...</td>\n",
       "      <td>0.287215</td>\n",
       "      <td>3.500273</td>\n",
       "      <td>0.193827</td>\n",
       "      <td>0.189141</td>\n",
       "      <td>6.000000</td>\n",
       "      <td>1.000000</td>\n",
       "      <td>1.000000</td>\n",
       "      <td>0.014134</td>\n",
       "      <td>17.000000</td>\n",
       "      <td>1.000000</td>\n",
       "    </tr>\n",
       "    <tr>\n",
       "      <th>max</th>\n",
       "      <td>81.000000</td>\n",
       "      <td>1.000000</td>\n",
       "      <td>7637.000000</td>\n",
       "      <td>1.000000</td>\n",
       "      <td>23.000000</td>\n",
       "      <td>35.000000</td>\n",
       "      <td>30.293160</td>\n",
       "      <td>0.672750</td>\n",
       "      <td>19.354839</td>\n",
       "      <td>0.112462</td>\n",
       "      <td>...</td>\n",
       "      <td>0.592353</td>\n",
       "      <td>14.705882</td>\n",
       "      <td>0.472089</td>\n",
       "      <td>0.528571</td>\n",
       "      <td>65.000000</td>\n",
       "      <td>36.000000</td>\n",
       "      <td>46.000000</td>\n",
       "      <td>0.329032</td>\n",
       "      <td>44.000000</td>\n",
       "      <td>1.000000</td>\n",
       "    </tr>\n",
       "  </tbody>\n",
       "</table>\n",
       "<p>8 rows × 25 columns</p>\n",
       "</div>"
      ],
      "text/plain": [
       "        Difficulty     Mistakes       Length  Title Polarity    No Celebs  \\\n",
       "count  1935.000000  1935.000000  1935.000000     1935.000000  1935.000000   \n",
       "mean     51.221189     0.998991   724.553488       -0.013388     0.765375   \n",
       "std      11.478619     0.009733   601.283147        0.246153     1.481963   \n",
       "min       9.000000     0.647773   107.000000       -1.000000     0.000000   \n",
       "25%      43.000000     0.999554   377.000000       -0.053056     0.000000   \n",
       "50%      52.000000     1.000000   549.000000        0.000000     0.000000   \n",
       "75%      59.000000     1.000000   897.500000        0.023323     1.000000   \n",
       "max      81.000000     1.000000  7637.000000        1.000000    23.000000   \n",
       "\n",
       "         Diversity     Inspired  Joy intensity  Anticipation  \\\n",
       "count  1935.000000  1935.000000    1935.000000   1935.000000   \n",
       "mean      4.838760    11.928577       0.173866      5.864836   \n",
       "std       4.004502     4.086370       0.090582      2.514994   \n",
       "min       0.000000     1.923077       0.000000      0.000000   \n",
       "25%       2.000000     9.090909       0.109671      4.111350   \n",
       "50%       4.000000    11.483254       0.160679      5.568445   \n",
       "75%       7.000000    14.426304       0.223042      7.310399   \n",
       "max      35.000000    30.293160       0.672750     19.354839   \n",
       "\n",
       "       Strong subjectivity  ...  Fear intensity      Disgust  \\\n",
       "count          1935.000000  ...     1935.000000  1935.000000   \n",
       "mean              0.039092  ...        0.212321     2.511403   \n",
       "std               0.016020  ...        0.109380     1.805138   \n",
       "min               0.000000  ...        0.000000     0.000000   \n",
       "25%               0.027853  ...        0.129995     1.170733   \n",
       "50%               0.038206  ...        0.201034     2.180685   \n",
       "75%               0.048969  ...        0.287215     3.500273   \n",
       "max               0.112462  ...        0.592353    14.705882   \n",
       "\n",
       "       Sadness intensity  Anger intensity     No Crime   No Sensual  \\\n",
       "count        1935.000000      1935.000000  1935.000000  1935.000000   \n",
       "mean            0.145220         0.136543     4.471835     1.097158   \n",
       "std             0.081731         0.085432     6.455248     2.675846   \n",
       "min             0.000000         0.000000     0.000000     0.000000   \n",
       "25%             0.084841         0.069964     0.000000     0.000000   \n",
       "50%             0.133070         0.122846     2.000000     0.000000   \n",
       "75%             0.193827         0.189141     6.000000     1.000000   \n",
       "max             0.472089         0.528571    65.000000    36.000000   \n",
       "\n",
       "        No Animals     img/word  #title_words      quality  \n",
       "count  1935.000000  1935.000000   1935.000000  1935.000000  \n",
       "mean      1.138501     0.016010     15.391731     0.494057  \n",
       "std       3.107592     0.033117      7.344143     0.500094  \n",
       "min       0.000000     0.000000      3.000000     0.000000  \n",
       "25%       0.000000     0.002920     11.000000     0.000000  \n",
       "50%       0.000000     0.007380     13.000000     0.000000  \n",
       "75%       1.000000     0.014134     17.000000     1.000000  \n",
       "max      46.000000     0.329032     44.000000     1.000000  \n",
       "\n",
       "[8 rows x 25 columns]"
      ]
     },
     "execution_count": 9,
     "metadata": {},
     "output_type": "execute_result"
    }
   ],
   "source": [
    "dataset.describe()"
   ]
  },
  {
   "cell_type": "code",
   "execution_count": 10,
   "metadata": {
    "_uuid": "718b82039841c137ab7e08a6e79e264643134642",
    "colab": {
     "base_uri": "https://localhost:8080/"
    },
    "id": "nAxO_zp6HL-v",
    "outputId": "2654f754-02b9-4c99-e8e3-001b0de8c382"
   },
   "outputs": [
    {
     "name": "stdout",
     "output_type": "stream",
     "text": [
      "<class 'pandas.core.frame.DataFrame'>\n",
      "RangeIndex: 1935 entries, 0 to 1934\n",
      "Data columns (total 25 columns):\n",
      " #   Column               Non-Null Count  Dtype  \n",
      "---  ------               --------------  -----  \n",
      " 0   Difficulty           1935 non-null   int64  \n",
      " 1   Mistakes             1935 non-null   float64\n",
      " 2   Length               1935 non-null   int64  \n",
      " 3   Title Polarity       1935 non-null   float64\n",
      " 4   No Celebs            1935 non-null   int64  \n",
      " 5   Diversity            1935 non-null   int64  \n",
      " 6   Inspired             1935 non-null   float64\n",
      " 7   Joy intensity        1935 non-null   float64\n",
      " 8   Anticipation         1935 non-null   float64\n",
      " 9   Strong subjectivity  1935 non-null   float64\n",
      " 10  first_person         1935 non-null   float64\n",
      " 11  Adjectives           1935 non-null   float64\n",
      " 12  Annoyed              1935 non-null   float64\n",
      " 13  Numbers              1935 non-null   int64  \n",
      " 14  Trust                1935 non-null   float64\n",
      " 15  Fear intensity       1935 non-null   float64\n",
      " 16  Disgust              1935 non-null   float64\n",
      " 17  Sadness intensity    1935 non-null   float64\n",
      " 18  Anger intensity      1935 non-null   float64\n",
      " 19  No Crime             1935 non-null   int64  \n",
      " 20  No Sensual           1935 non-null   int64  \n",
      " 21  No Animals           1935 non-null   int64  \n",
      " 22  img/word             1935 non-null   float64\n",
      " 23  #title_words         1935 non-null   float64\n",
      " 24  quality              1935 non-null   int64  \n",
      "dtypes: float64(16), int64(9)\n",
      "memory usage: 378.1 KB\n"
     ]
    }
   ],
   "source": [
    "dataset.info()"
   ]
  },
  {
   "cell_type": "code",
   "execution_count": 11,
   "metadata": {
    "_uuid": "99d7182ca186d37f63b1fc433fe74ad5e2bc7d2f",
    "id": "MKHKu4z8HL-w"
   },
   "outputs": [],
   "source": [
    "#WE HAVE NO MISSING VALUES"
   ]
  },
  {
   "cell_type": "markdown",
   "metadata": {
    "_uuid": "85b59fefde7c5ecdb50e3b8da0cb719f4e14630f",
    "id": "UDugCxHBHL-y"
   },
   "source": [
    "#### Let's understand our columns better:"
   ]
  },
  {
   "cell_type": "markdown",
   "metadata": {
    "_uuid": "6a970312b67b588610a8579ecc2ba4bac0fcee04",
    "id": "NfSLb9U0HL-0"
   },
   "source": [
    "#### Analysing the 'target' variable"
   ]
  },
  {
   "cell_type": "code",
   "execution_count": 12,
   "metadata": {
    "_uuid": "b883243919bd382193ed15e2a90f9b522bf6f1f7",
    "colab": {
     "base_uri": "https://localhost:8080/"
    },
    "id": "pws2NpyXHL-1",
    "outputId": "9e102453-079f-44ac-b228-56892cc2df99",
    "scrolled": true
   },
   "outputs": [
    {
     "data": {
      "text/plain": [
       "count    1935.000000\n",
       "mean        0.494057\n",
       "std         0.500094\n",
       "min         0.000000\n",
       "25%         0.000000\n",
       "50%         0.000000\n",
       "75%         1.000000\n",
       "max         1.000000\n",
       "Name: quality, dtype: float64"
      ]
     },
     "execution_count": 12,
     "metadata": {},
     "output_type": "execute_result"
    }
   ],
   "source": [
    "dataset[\"quality\"].describe()"
   ]
  },
  {
   "cell_type": "code",
   "execution_count": 13,
   "metadata": {
    "_uuid": "9c107b83e0148914826282bf1f0ab28505d577ab",
    "colab": {
     "base_uri": "https://localhost:8080/"
    },
    "id": "csqLnyx6HL-7",
    "outputId": "c6677c69-0dda-49da-836c-8f50da198837",
    "scrolled": true
   },
   "outputs": [
    {
     "data": {
      "text/plain": [
       "array([1, 0])"
      ]
     },
     "execution_count": 13,
     "metadata": {},
     "output_type": "execute_result"
    }
   ],
   "source": [
    "dataset[\"quality\"].unique()"
   ]
  },
  {
   "cell_type": "markdown",
   "metadata": {
    "_uuid": "8c96e97e3f52844e8c4c6ff069f53bfe97c9982d",
    "id": "HXfbVSwyHL--"
   },
   "source": [
    "#### Clearly, this is a classification problem, with the target variable having values '0' and '1'"
   ]
  },
  {
   "cell_type": "markdown",
   "metadata": {
    "_uuid": "3ae0dfa26e2daf4cfc8e1c6f3b5008d0dab22ec0",
    "id": "eoILfeMWHL-_"
   },
   "source": [
    "### Checking correlation between columns"
   ]
  },
  {
   "cell_type": "code",
   "execution_count": 14,
   "metadata": {
    "_uuid": "3059188d3874be2e0c80e13655609ac6a6fc644f",
    "colab": {
     "base_uri": "https://localhost:8080/"
    },
    "id": "znRk9Va0HL_A",
    "outputId": "99dbb783-f89d-4087-c78a-187f9ce7835d"
   },
   "outputs": [
    {
     "name": "stdout",
     "output_type": "stream",
     "text": [
      "quality                1.000000\n",
      "Difficulty             0.462214\n",
      "Diversity              0.400494\n",
      "Adjectives             0.371633\n",
      "Trust                  0.362439\n",
      "Length                 0.337049\n",
      "first_person           0.329908\n",
      "Numbers                0.269473\n",
      "No Celebs              0.231839\n",
      "No Crime               0.200840\n",
      "Joy intensity          0.185720\n",
      "#title_words           0.146766\n",
      "Anticipation           0.130398\n",
      "Annoyed                0.120989\n",
      "Inspired               0.115509\n",
      "Strong subjectivity    0.089355\n",
      "Fear intensity         0.074113\n",
      "Sadness intensity      0.065716\n",
      "Title Polarity         0.065697\n",
      "img/word               0.064588\n",
      "No Sensual             0.054050\n",
      "Anger intensity        0.038973\n",
      "Mistakes               0.021224\n",
      "No Animals             0.021158\n",
      "Disgust                0.001310\n",
      "Name: quality, dtype: float64\n"
     ]
    }
   ],
   "source": [
    "print(dataset.corr()[\"quality\"].abs().sort_values(ascending=False))"
   ]
  },
  {
   "cell_type": "code",
   "execution_count": 15,
   "metadata": {
    "_uuid": "6e8cf6f86952d94764c1021207fa5b383b2b84bf",
    "id": "mn13gLZIHL_B"
   },
   "outputs": [],
   "source": [
    "#This shows that most columns are moderately correlated with target."
   ]
  },
  {
   "cell_type": "markdown",
   "metadata": {
    "_uuid": "40b6c0a9d03bcab78b87bd41c7df3fe1b930547a",
    "id": "TxuW4HdoHL_C"
   },
   "source": [
    "## Exploratory Data Analysis (EDA)"
   ]
  },
  {
   "cell_type": "markdown",
   "metadata": {
    "_uuid": "41da6ba94903ad6ee64b1ba6a1462815ae603536",
    "id": "BvZemrmMHL_C"
   },
   "source": [
    "### First, analysing the target variable:"
   ]
  },
  {
   "cell_type": "code",
   "execution_count": 162,
   "metadata": {
    "_uuid": "29aa23ccb8e6438688e16346b3474f4cc03bae13",
    "colab": {
     "base_uri": "https://localhost:8080/",
     "height": 331
    },
    "id": "yoRl9FUnHL_C",
    "outputId": "2497453c-a141-45cc-90e5-85d1d996c0cc"
   },
   "outputs": [
    {
     "name": "stdout",
     "output_type": "stream",
     "text": [
      "0    979\n",
      "1    956\n",
      "Name: quality, dtype: int64\n"
     ]
    },
    {
     "data": {
      "image/png": "[encoded data removed]",
      "text/plain": [
       "<Figure size 432x288 with 1 Axes>"
      ]
     },
     "metadata": {
      "needs_background": "light"
     },
     "output_type": "display_data"
    }
   ],
   "source": [
    "y = dataset[\"quality\"]\n",
    "\n",
    "sns.countplot(y)\n",
    "\n",
    "\n",
    "target_temp = dataset.quality.value_counts()\n",
    "\n",
    "print(target_temp)"
   ]
  },
  {
   "cell_type": "markdown",
   "metadata": {
    "_uuid": "d1c95f2180e264978c85703ece34898dab4d522b",
    "id": "HNk3jbnnHL_E"
   },
   "source": [
    "## IV. Train Test split"
   ]
  },
  {
   "cell_type": "code",
   "execution_count": 16,
   "metadata": {
    "_uuid": "829fcda5b63e1b9f7ecb7762e8ca617166533aca",
    "id": "hzRoWiomHL_E"
   },
   "outputs": [],
   "source": [
    "from sklearn.model_selection import train_test_split\n",
    "\n",
    "predictors = dataset.drop(\"quality\",axis=1)\n",
    "target = dataset[\"quality\"]\n",
    "\n",
    "X_train,X_test,Y_train,Y_test = train_test_split(predictors,target,test_size=0.20,random_state=0)"
   ]
  },
  {
   "cell_type": "markdown",
   "metadata": {
    "_uuid": "3b4f28488a92917f26e9876c1880295ec9c077ed",
    "id": "a0HB7vRyHL_F"
   },
   "source": [
    "## V. Model Fitting"
   ]
  },
  {
   "cell_type": "code",
   "execution_count": 17,
   "metadata": {
    "_uuid": "fe363c1be8335a48a4444660db5fa6bd0a24b71a",
    "id": "Bg0M3HvFHL_F"
   },
   "outputs": [],
   "source": [
    "from sklearn.metrics import accuracy_score, classification_report"
   ]
  },
  {
   "cell_type": "markdown",
   "metadata": {
    "_uuid": "afa6b322cbc225f3353bd295aea24fe5fbbb78fe",
    "id": "cUrsrlutHL_N"
   },
   "source": [
    "### Logistic Regression"
   ]
  },
  {
   "cell_type": "code",
   "execution_count": null,
   "metadata": {
    "_uuid": "9aea2f597203ccf38cd0d67ae58bff6e163dea1c",
    "id": "SCx0E8RGHL_N"
   },
   "outputs": [],
   "source": [
    "from sklearn.linear_model import LogisticRegression\n",
    "\n",
    "lr = LogisticRegression()\n",
    "\n",
    "lr.fit(X_train,Y_train)\n",
    "\n",
    "Y_pred_lr = lr.predict(X_test)"
   ]
  },
  {
   "cell_type": "code",
   "execution_count": null,
   "metadata": {
    "_uuid": "58fb833d1c74355ebdafe926968632942f377421",
    "colab": {
     "base_uri": "https://localhost:8080/"
    },
    "id": "rF-lTYVzHL_O",
    "outputId": "6cb14d70-cf51-4937-ce84-534329b462f1"
   },
   "outputs": [],
   "source": [
    "Y_pred_lr.shape"
   ]
  },
  {
   "cell_type": "code",
   "execution_count": 167,
   "metadata": {
    "_uuid": "ee4cba838316adf863f8daf131d36a970d36b839",
    "colab": {
     "base_uri": "https://localhost:8080/"
    },
    "id": "QTEdtGX3HL_O",
    "outputId": "937e1d7a-c343-44ff-bb2d-e25445ff1c28"
   },
   "outputs": [
    {
     "name": "stdout",
     "output_type": "stream",
     "text": [
      "The accuracy score achieved using Logistic Regression is: 79.07 %\n"
     ]
    }
   ],
   "source": [
    "score_lr = round(accuracy_score(Y_pred_lr,Y_test)*100,2)\n",
    "\n",
    "print(\"The accuracy score achieved using Logistic Regression is: \"+str(score_lr)+\" %\")"
   ]
  },
  {
   "cell_type": "code",
   "execution_count": 168,
   "metadata": {},
   "outputs": [
    {
     "data": {
      "text/plain": [
       "0.7899265568979578"
      ]
     },
     "execution_count": 168,
     "metadata": {},
     "output_type": "execute_result"
    }
   ],
   "source": [
    "f1_score(Y_test, Y_pred_lr, average='weighted')"
   ]
  },
  {
   "cell_type": "code",
   "execution_count": 169,
   "metadata": {
    "colab": {
     "base_uri": "https://localhost:8080/"
    },
    "id": "NZ4vkosGHL_P",
    "outputId": "a8a3668d-aa58-438a-bedb-3d341630cf15"
   },
   "outputs": [
    {
     "name": "stdout",
     "output_type": "stream",
     "text": [
      "Classification Report\n",
      "               precision    recall  f1-score   support\n",
      "\n",
      "           0       0.76      0.85      0.80       192\n",
      "           1       0.84      0.73      0.78       195\n",
      "\n",
      "    accuracy                           0.79       387\n",
      "   macro avg       0.80      0.79      0.79       387\n",
      "weighted avg       0.80      0.79      0.79       387\n",
      "\n"
     ]
    }
   ],
   "source": [
    "print('Classification Report\\n', classification_report(Y_test, Y_pred_lr))"
   ]
  },
  {
   "cell_type": "code",
   "execution_count": 170,
   "metadata": {},
   "outputs": [
    {
     "data": {
      "text/plain": [
       "0.7899265568979578"
      ]
     },
     "execution_count": 170,
     "metadata": {},
     "output_type": "execute_result"
    }
   ],
   "source": [
    "f1_score(Y_test, Y_pred_lr, average='weighted')"
   ]
  },
  {
   "cell_type": "markdown",
   "metadata": {
    "_uuid": "4f92fceb9584ae03d3ab370ee11899cb287be690",
    "id": "NQePPOoFHL_P"
   },
   "source": [
    "### Naive Bayes"
   ]
  },
  {
   "cell_type": "code",
   "execution_count": 171,
   "metadata": {
    "_uuid": "ffcdab99b4108902547f0179a242a9757078dc68",
    "id": "XO5IkxLkHL_Q"
   },
   "outputs": [],
   "source": [
    "from sklearn.naive_bayes import GaussianNB\n",
    "\n",
    "nb = GaussianNB()\n",
    "\n",
    "nb.fit(X_train,Y_train)\n",
    "\n",
    "Y_pred_nb = nb.predict(X_test)"
   ]
  },
  {
   "cell_type": "code",
   "execution_count": 172,
   "metadata": {
    "_uuid": "9109059d06e4c92494451b3cdab0bbb5a1816072",
    "colab": {
     "base_uri": "https://localhost:8080/"
    },
    "id": "2eHosuEUHL_Q",
    "outputId": "5e3b9ea6-e915-4001-fe63-17e570cbc285"
   },
   "outputs": [
    {
     "data": {
      "text/plain": [
       "(387,)"
      ]
     },
     "execution_count": 172,
     "metadata": {},
     "output_type": "execute_result"
    }
   ],
   "source": [
    "Y_pred_nb.shape"
   ]
  },
  {
   "cell_type": "code",
   "execution_count": 173,
   "metadata": {
    "_uuid": "e8f8f55db061ada0b669ffa46e9ecc745fcda1ae",
    "colab": {
     "base_uri": "https://localhost:8080/"
    },
    "id": "VObgVCvNHL_R",
    "outputId": "6f8587a2-d897-4b9b-9db2-ed1a358c5319"
   },
   "outputs": [
    {
     "name": "stdout",
     "output_type": "stream",
     "text": [
      "The accuracy score achieved using Naive Bayes is: 76.49 %\n"
     ]
    }
   ],
   "source": [
    "score_nb = round(accuracy_score(Y_pred_nb,Y_test)*100,2)\n",
    "\n",
    "print(\"The accuracy score achieved using Naive Bayes is: \"+str(score_nb)+\" %\")"
   ]
  },
  {
   "cell_type": "code",
   "execution_count": 174,
   "metadata": {},
   "outputs": [
    {
     "data": {
      "text/plain": [
       "0.7606266674057034"
      ]
     },
     "execution_count": 174,
     "metadata": {},
     "output_type": "execute_result"
    }
   ],
   "source": [
    "f1_score(Y_test, Y_pred_nb, average='weighted')"
   ]
  },
  {
   "cell_type": "code",
   "execution_count": 175,
   "metadata": {
    "colab": {
     "base_uri": "https://localhost:8080/"
    },
    "id": "-0Y2Er_kHL_S",
    "outputId": "8411c8f4-2b5f-4f6a-e332-2f6448506ff6"
   },
   "outputs": [
    {
     "name": "stdout",
     "output_type": "stream",
     "text": [
      "Classification Report\n",
      "               precision    recall  f1-score   support\n",
      "\n",
      "           0       0.71      0.90      0.79       192\n",
      "           1       0.87      0.63      0.73       195\n",
      "\n",
      "    accuracy                           0.76       387\n",
      "   macro avg       0.79      0.77      0.76       387\n",
      "weighted avg       0.79      0.76      0.76       387\n",
      "\n"
     ]
    }
   ],
   "source": [
    "print('Classification Report\\n', classification_report(Y_test, Y_pred_nb))"
   ]
  },
  {
   "cell_type": "markdown",
   "metadata": {
    "_uuid": "2af8b010893284bae0d6cccf66ccfda646e7ca58",
    "id": "-S0EYeSYHL_S"
   },
   "source": [
    "### SVM"
   ]
  },
  {
   "cell_type": "code",
   "execution_count": 176,
   "metadata": {
    "_uuid": "f1936ece7b76b67e552758a4c80e9421bffe0bc2",
    "id": "IdmS8jKhHL_S"
   },
   "outputs": [],
   "source": [
    "from sklearn import svm\n",
    "\n",
    "sv = svm.SVC(kernel='linear')\n",
    "\n",
    "sv.fit(X_train, Y_train)\n",
    "\n",
    "Y_pred_svm = sv.predict(X_test)"
   ]
  },
  {
   "cell_type": "code",
   "execution_count": 177,
   "metadata": {
    "_uuid": "36f60f104264d44760705b9c802504f426e15592",
    "colab": {
     "base_uri": "https://localhost:8080/"
    },
    "id": "zUHfWimKHL_T",
    "outputId": "194d4264-9b4f-4905-a2f8-a0c8c23de550"
   },
   "outputs": [
    {
     "data": {
      "text/plain": [
       "(387,)"
      ]
     },
     "execution_count": 177,
     "metadata": {},
     "output_type": "execute_result"
    }
   ],
   "source": [
    "Y_pred_svm.shape"
   ]
  },
  {
   "cell_type": "code",
   "execution_count": 178,
   "metadata": {
    "_uuid": "f5a73bca6721f42b3983c328fd475390ba9bc4d3",
    "colab": {
     "base_uri": "https://localhost:8080/"
    },
    "id": "MuzvJphUHL_T",
    "outputId": "a1c87fa3-ff68-498e-932e-b191d8329236"
   },
   "outputs": [
    {
     "name": "stdout",
     "output_type": "stream",
     "text": [
      "The accuracy score achieved using Linear SVM is: 78.29 %\n"
     ]
    }
   ],
   "source": [
    "score_svm = round(accuracy_score(Y_pred_svm,Y_test)*100,2)\n",
    "\n",
    "print(\"The accuracy score achieved using Linear SVM is: \"+str(score_svm)+\" %\")"
   ]
  },
  {
   "cell_type": "code",
   "execution_count": 179,
   "metadata": {},
   "outputs": [
    {
     "data": {
      "text/plain": [
       "0.7825538474170781"
      ]
     },
     "execution_count": 179,
     "metadata": {},
     "output_type": "execute_result"
    }
   ],
   "source": [
    "f1_score(Y_test, Y_pred_svm, average='weighted')"
   ]
  },
  {
   "cell_type": "code",
   "execution_count": 180,
   "metadata": {
    "colab": {
     "base_uri": "https://localhost:8080/"
    },
    "id": "zyTdyJWvHL_U",
    "outputId": "ab1b497a-dc7a-4941-d7f2-d1c9b5d24e09"
   },
   "outputs": [
    {
     "name": "stdout",
     "output_type": "stream",
     "text": [
      "Classification Report\n",
      "               precision    recall  f1-score   support\n",
      "\n",
      "           0       0.76      0.83      0.79       192\n",
      "           1       0.81      0.74      0.77       195\n",
      "\n",
      "    accuracy                           0.78       387\n",
      "   macro avg       0.79      0.78      0.78       387\n",
      "weighted avg       0.79      0.78      0.78       387\n",
      "\n"
     ]
    }
   ],
   "source": [
    "print('Classification Report\\n', classification_report(Y_test, Y_pred_svm))"
   ]
  },
  {
   "cell_type": "markdown",
   "metadata": {
    "_uuid": "4e26d165b57f3f7882570964f1c2dc4a548404de",
    "id": "0I7zTa39HL_U"
   },
   "source": [
    "### K Nearest Neighbors"
   ]
  },
  {
   "cell_type": "code",
   "execution_count": 181,
   "metadata": {
    "_uuid": "286352867c53d5fb7dac2fc9bf4b2ac58a466ad0",
    "id": "fpC6Csr0HL_V"
   },
   "outputs": [],
   "source": [
    "from sklearn.neighbors import KNeighborsClassifier\n",
    "\n",
    "knn = KNeighborsClassifier(n_neighbors=7)\n",
    "knn.fit(X_train,Y_train)\n",
    "Y_pred_knn=knn.predict(X_test)"
   ]
  },
  {
   "cell_type": "code",
   "execution_count": 182,
   "metadata": {
    "_uuid": "bccb7c1fcec36dd2eb7eb222f49604029adec2b4",
    "colab": {
     "base_uri": "https://localhost:8080/"
    },
    "id": "qdwWi_J5HL_V",
    "outputId": "518ab1f4-1ed8-4609-c041-4b31bbba2bb1"
   },
   "outputs": [
    {
     "data": {
      "text/plain": [
       "(387,)"
      ]
     },
     "execution_count": 182,
     "metadata": {},
     "output_type": "execute_result"
    }
   ],
   "source": [
    "Y_pred_knn.shape"
   ]
  },
  {
   "cell_type": "code",
   "execution_count": 183,
   "metadata": {
    "_uuid": "dda4e8f8f18f96557cdd38cee177de0456db5f45",
    "colab": {
     "base_uri": "https://localhost:8080/"
    },
    "id": "YMcdTE4DHL_W",
    "outputId": "38914243-4eab-4367-977e-fe30e619cfe5"
   },
   "outputs": [
    {
     "name": "stdout",
     "output_type": "stream",
     "text": [
      "The accuracy score achieved using KNN is: 75.19 %\n"
     ]
    }
   ],
   "source": [
    "score_knn = round(accuracy_score(Y_pred_knn,Y_test)*100,2)\n",
    "\n",
    "print(\"The accuracy score achieved using KNN is: \"+str(score_knn)+\" %\")"
   ]
  },
  {
   "cell_type": "code",
   "execution_count": 184,
   "metadata": {},
   "outputs": [
    {
     "data": {
      "text/plain": [
       "0.7518220057285225"
      ]
     },
     "execution_count": 184,
     "metadata": {},
     "output_type": "execute_result"
    }
   ],
   "source": [
    "f1_score(Y_test, Y_pred_knn, average='weighted')"
   ]
  },
  {
   "cell_type": "code",
   "execution_count": 185,
   "metadata": {
    "colab": {
     "base_uri": "https://localhost:8080/"
    },
    "id": "MDG-WV1uHL_W",
    "outputId": "afb1b66a-809d-4629-909e-47a3ea9267b0"
   },
   "outputs": [
    {
     "name": "stdout",
     "output_type": "stream",
     "text": [
      "Classification Report\n",
      "               precision    recall  f1-score   support\n",
      "\n",
      "           0       0.74      0.78      0.76       192\n",
      "           1       0.77      0.73      0.75       195\n",
      "\n",
      "    accuracy                           0.75       387\n",
      "   macro avg       0.75      0.75      0.75       387\n",
      "weighted avg       0.75      0.75      0.75       387\n",
      "\n"
     ]
    }
   ],
   "source": [
    "print('Classification Report\\n', classification_report(Y_test, Y_pred_knn))"
   ]
  },
  {
   "cell_type": "markdown",
   "metadata": {
    "_uuid": "abb767170c662e4d9a8b240fd0fd7286ffb0b67f",
    "id": "AOCkLsi4HL_W"
   },
   "source": [
    "### Decision Tree"
   ]
  },
  {
   "cell_type": "code",
   "execution_count": 210,
   "metadata": {
    "_uuid": "8c141316764dce80103d1879c9b17d853702a746",
    "id": "fubOuFq7HL_X"
   },
   "outputs": [],
   "source": [
    "from sklearn.tree import DecisionTreeClassifier\n",
    "\n",
    "max_accuracy = 0\n",
    "\n",
    "for x in range(2000):\n",
    "    dt = DecisionTreeClassifier(random_state=x, max_depth = 8)\n",
    "    dt.fit(X_train,Y_train)\n",
    "    Y_pred_dt = dt.predict(X_test)\n",
    "    current_accuracy = round(accuracy_score(Y_pred_dt,Y_test)*100,2)\n",
    "    if(current_accuracy>max_accuracy):\n",
    "        max_accuracy = current_accuracy\n",
    "        best_x = x\n",
    "        \n",
    "#print(max_accuracy)\n",
    "#print(best_x)\n",
    "\n",
    "dt = DecisionTreeClassifier(random_state=best_x)\n",
    "dt.fit(X_train,Y_train)\n",
    "Y_pred_dt = dt.predict(X_test)"
   ]
  },
  {
   "cell_type": "code",
   "execution_count": 211,
   "metadata": {
    "_uuid": "8de0bd2d57abd24d3a97a5b020a24439eb106f2b",
    "colab": {
     "base_uri": "https://localhost:8080/"
    },
    "id": "6rYNHmuBHL_X",
    "outputId": "938c45fb-b516-41d1-808d-cfdcb362dbd8"
   },
   "outputs": [
    {
     "name": "stdout",
     "output_type": "stream",
     "text": [
      "(387,)\n"
     ]
    }
   ],
   "source": [
    "print(Y_pred_dt.shape)"
   ]
  },
  {
   "cell_type": "code",
   "execution_count": 212,
   "metadata": {
    "_uuid": "52ab93482d3b53824e9bc2b3e4114c57253e0c5b",
    "colab": {
     "base_uri": "https://localhost:8080/"
    },
    "id": "wKtAKyPpHL_Y",
    "outputId": "40a3d864-f92e-4a1c-86e3-ecb06c5e0259"
   },
   "outputs": [
    {
     "name": "stdout",
     "output_type": "stream",
     "text": [
      "The accuracy score achieved using Decision Tree is: 71.58 %\n"
     ]
    }
   ],
   "source": [
    "score_dt = round(accuracy_score(Y_pred_dt,Y_test)*100,2)\n",
    "\n",
    "print(\"The accuracy score achieved using Decision Tree is: \"+str(score_dt)+\" %\")"
   ]
  },
  {
   "cell_type": "code",
   "execution_count": 213,
   "metadata": {},
   "outputs": [
    {
     "data": {
      "text/plain": [
       "0.7156293815639323"
      ]
     },
     "execution_count": 213,
     "metadata": {},
     "output_type": "execute_result"
    }
   ],
   "source": [
    "f1_score(Y_test, Y_pred_dt, average='weighted')"
   ]
  },
  {
   "cell_type": "code",
   "execution_count": 214,
   "metadata": {
    "colab": {
     "base_uri": "https://localhost:8080/"
    },
    "id": "BmJs17AjHL_Y",
    "outputId": "ac443032-cde7-42e4-f74b-d96f97fc0001"
   },
   "outputs": [
    {
     "name": "stdout",
     "output_type": "stream",
     "text": [
      "Classification Report\n",
      "               precision    recall  f1-score   support\n",
      "\n",
      "           0       0.70      0.74      0.72       192\n",
      "           1       0.73      0.69      0.71       195\n",
      "\n",
      "    accuracy                           0.72       387\n",
      "   macro avg       0.72      0.72      0.72       387\n",
      "weighted avg       0.72      0.72      0.72       387\n",
      "\n"
     ]
    }
   ],
   "source": [
    "print('Classification Report\\n', classification_report(Y_test, Y_pred_dt))"
   ]
  },
  {
   "cell_type": "code",
   "execution_count": 65,
   "metadata": {},
   "outputs": [
    {
     "data": {
      "text/html": [
       "<div>\n",
       "<style scoped>\n",
       "    .dataframe tbody tr th:only-of-type {\n",
       "        vertical-align: middle;\n",
       "    }\n",
       "\n",
       "    .dataframe tbody tr th {\n",
       "        vertical-align: top;\n",
       "    }\n",
       "\n",
       "    .dataframe thead th {\n",
       "        text-align: right;\n",
       "    }\n",
       "</style>\n",
       "<table border=\"1\" class=\"dataframe\">\n",
       "  <thead>\n",
       "    <tr style=\"text-align: right;\">\n",
       "      <th></th>\n",
       "      <th>Importance</th>\n",
       "    </tr>\n",
       "  </thead>\n",
       "  <tbody>\n",
       "    <tr>\n",
       "      <th>Difficulty</th>\n",
       "      <td>0.217240</td>\n",
       "    </tr>\n",
       "    <tr>\n",
       "      <th>Length</th>\n",
       "      <td>0.158690</td>\n",
       "    </tr>\n",
       "    <tr>\n",
       "      <th>img/word</th>\n",
       "      <td>0.061989</td>\n",
       "    </tr>\n",
       "    <tr>\n",
       "      <th>Fear intensity</th>\n",
       "      <td>0.053224</td>\n",
       "    </tr>\n",
       "    <tr>\n",
       "      <th>Adjectives</th>\n",
       "      <td>0.051122</td>\n",
       "    </tr>\n",
       "    <tr>\n",
       "      <th>Trust</th>\n",
       "      <td>0.049675</td>\n",
       "    </tr>\n",
       "    <tr>\n",
       "      <th>Title Polarity</th>\n",
       "      <td>0.038043</td>\n",
       "    </tr>\n",
       "    <tr>\n",
       "      <th>first_person</th>\n",
       "      <td>0.035182</td>\n",
       "    </tr>\n",
       "    <tr>\n",
       "      <th>Numbers</th>\n",
       "      <td>0.031728</td>\n",
       "    </tr>\n",
       "    <tr>\n",
       "      <th>No Sensual</th>\n",
       "      <td>0.031313</td>\n",
       "    </tr>\n",
       "    <tr>\n",
       "      <th>Disgust</th>\n",
       "      <td>0.029662</td>\n",
       "    </tr>\n",
       "    <tr>\n",
       "      <th>Inspired</th>\n",
       "      <td>0.029387</td>\n",
       "    </tr>\n",
       "    <tr>\n",
       "      <th>Diversity</th>\n",
       "      <td>0.027949</td>\n",
       "    </tr>\n",
       "    <tr>\n",
       "      <th>Strong subjectivity</th>\n",
       "      <td>0.025621</td>\n",
       "    </tr>\n",
       "    <tr>\n",
       "      <th>Joy intensity</th>\n",
       "      <td>0.025517</td>\n",
       "    </tr>\n",
       "    <tr>\n",
       "      <th>Annoyed</th>\n",
       "      <td>0.025375</td>\n",
       "    </tr>\n",
       "    <tr>\n",
       "      <th>No Crime</th>\n",
       "      <td>0.023414</td>\n",
       "    </tr>\n",
       "    <tr>\n",
       "      <th>Sadness intensity</th>\n",
       "      <td>0.023060</td>\n",
       "    </tr>\n",
       "    <tr>\n",
       "      <th>#title_words</th>\n",
       "      <td>0.020818</td>\n",
       "    </tr>\n",
       "    <tr>\n",
       "      <th>Anticipation</th>\n",
       "      <td>0.016669</td>\n",
       "    </tr>\n",
       "  </tbody>\n",
       "</table>\n",
       "</div>"
      ],
      "text/plain": [
       "                     Importance\n",
       "Difficulty             0.217240\n",
       "Length                 0.158690\n",
       "img/word               0.061989\n",
       "Fear intensity         0.053224\n",
       "Adjectives             0.051122\n",
       "Trust                  0.049675\n",
       "Title Polarity         0.038043\n",
       "first_person           0.035182\n",
       "Numbers                0.031728\n",
       "No Sensual             0.031313\n",
       "Disgust                0.029662\n",
       "Inspired               0.029387\n",
       "Diversity              0.027949\n",
       "Strong subjectivity    0.025621\n",
       "Joy intensity          0.025517\n",
       "Annoyed                0.025375\n",
       "No Crime               0.023414\n",
       "Sadness intensity      0.023060\n",
       "#title_words           0.020818\n",
       "Anticipation           0.016669"
      ]
     },
     "execution_count": 65,
     "metadata": {},
     "output_type": "execute_result"
    }
   ],
   "source": [
    "fi = pd.DataFrame(dt.feature_importances_, X_train.columns)\n",
    "fi.columns = ['Importance']\n",
    "fi.sort_values(by = 'Importance', ascending=False)[0:20]"
   ]
  },
  {
   "cell_type": "markdown",
   "metadata": {
    "_uuid": "9e663d26efb00a434751f06ad0292949eff6c358",
    "id": "Ddav5CdxHL_Z"
   },
   "source": [
    "### Random Forest"
   ]
  },
  {
   "cell_type": "code",
   "execution_count": 19,
   "metadata": {
    "_uuid": "8284f5222cf90be1bcd37887c45f91cf22ed1193",
    "id": "94lcqcIpHL_a"
   },
   "outputs": [],
   "source": [
    "from sklearn.ensemble import RandomForestClassifier\n",
    "\n",
    "max_accuracy = 0\n",
    "\n",
    "\n",
    "for x in range(4):\n",
    "    rf = RandomForestClassifier(random_state=x, min_samples_split=3, n_estimators=9000,max_features=0.9)\n",
    "    rf.fit(X_train,Y_train)\n",
    "    Y_pred_rf = rf.predict(X_test)\n",
    "    current_accuracy = round(accuracy_score(Y_pred_rf,Y_test)*100,2)\n",
    "    if(current_accuracy>max_accuracy):\n",
    "        max_accuracy = current_accuracy\n",
    "        best_x = x\n",
    "        \n",
    "#print(max_accuracy)\n",
    "#print(best_x)\n",
    "\n",
    "rf = RandomForestClassifier(random_state=best_x)\n",
    "rf.fit(X_train,Y_train)\n",
    "Y_pred_rf = rf.predict(X_test)"
   ]
  },
  {
   "cell_type": "code",
   "execution_count": 20,
   "metadata": {
    "_uuid": "edc8e1cbb57be0aa9e9ad5f4997212d53a9a4c99",
    "colab": {
     "base_uri": "https://localhost:8080/"
    },
    "id": "tX7mvNKaHL_a",
    "outputId": "67c00e24-a706-4a0c-dacf-408ce85c5605"
   },
   "outputs": [
    {
     "data": {
      "text/plain": [
       "(387,)"
      ]
     },
     "execution_count": 20,
     "metadata": {},
     "output_type": "execute_result"
    }
   ],
   "source": [
    "Y_pred_rf.shape"
   ]
  },
  {
   "cell_type": "code",
   "execution_count": 21,
   "metadata": {
    "_uuid": "965228f30e05e07e7960a3375dc7dc85b49caed7",
    "colab": {
     "base_uri": "https://localhost:8080/"
    },
    "id": "LV7cYJCfHL_b",
    "outputId": "2c8762d2-5041-4f97-e0a3-09259da41eff"
   },
   "outputs": [
    {
     "name": "stdout",
     "output_type": "stream",
     "text": [
      "The accuracy score achieved using Decision Tree is: 80.88 %\n"
     ]
    }
   ],
   "source": [
    "score_rf = round(accuracy_score(Y_pred_rf,Y_test)*100,2)\n",
    "\n",
    "print(\"The accuracy score achieved using Decision Tree is: \"+str(score_rf)+\" %\")"
   ]
  },
  {
   "cell_type": "code",
   "execution_count": 22,
   "metadata": {},
   "outputs": [
    {
     "data": {
      "text/plain": [
       "0.8080193393296059"
      ]
     },
     "execution_count": 22,
     "metadata": {},
     "output_type": "execute_result"
    }
   ],
   "source": [
    "f1_score(Y_test, Y_pred_rf, average='weighted')"
   ]
  },
  {
   "cell_type": "code",
   "execution_count": 23,
   "metadata": {
    "colab": {
     "base_uri": "https://localhost:8080/"
    },
    "id": "BPO1fA93HL_b",
    "outputId": "b55a86c1-98b6-4917-8d89-3b814d075d48"
   },
   "outputs": [
    {
     "name": "stdout",
     "output_type": "stream",
     "text": [
      "Classification Report\n",
      "               precision    recall  f1-score   support\n",
      "\n",
      "           0       0.77      0.88      0.82       192\n",
      "           1       0.86      0.74      0.80       195\n",
      "\n",
      "    accuracy                           0.81       387\n",
      "   macro avg       0.81      0.81      0.81       387\n",
      "weighted avg       0.81      0.81      0.81       387\n",
      "\n"
     ]
    }
   ],
   "source": [
    "print('Classification Report\\n', classification_report(Y_test, Y_pred_rf))"
   ]
  },
  {
   "cell_type": "code",
   "execution_count": 25,
   "metadata": {},
   "outputs": [
    {
     "data": {
      "text/plain": [
       "RandomForestClassifier(max_features=0.5, min_samples_leaf=4, n_estimators=2000,\n",
       "                       n_jobs=-1, oob_score=True)"
      ]
     },
     "execution_count": 25,
     "metadata": {},
     "output_type": "execute_result"
    }
   ],
   "source": [
    "#2\n",
    "rf = RandomForestClassifier(n_estimators=2000, min_samples_leaf=4, max_features=0.5, n_jobs=-1, oob_score=True)\n",
    "rf.fit(X_train,Y_train)"
   ]
  },
  {
   "cell_type": "code",
   "execution_count": 26,
   "metadata": {},
   "outputs": [
    {
     "data": {
      "text/plain": [
       "0.8080193393296059"
      ]
     },
     "execution_count": 26,
     "metadata": {},
     "output_type": "execute_result"
    }
   ],
   "source": [
    "f1_score(Y_test, Y_pred_rf, average='weighted')"
   ]
  },
  {
   "cell_type": "code",
   "execution_count": null,
   "metadata": {},
   "outputs": [],
   "source": [
    "fi = pd.DataFrame(rf.feature_importances_, X_train.columns)\n",
    "fi.columns = ['Importance']\n",
    "fi.sort_values(by = 'Importance', ascending=False)[0:20]"
   ]
  },
  {
   "cell_type": "markdown",
   "metadata": {
    "_uuid": "6a0fc13a6c2fccd6a725a7691cfe95d74348a8ae",
    "id": "ObjiEkAnHL_c"
   },
   "source": [
    "### XGBoost"
   ]
  },
  {
   "cell_type": "code",
   "execution_count": 151,
   "metadata": {
    "_uuid": "5a437f3c0e190887e2192ecb1844eaa6eb1d34a7",
    "id": "BV0Gq2ZoHL_c"
   },
   "outputs": [
    {
     "name": "stdout",
     "output_type": "stream",
     "text": [
      "[0]\tvalidation_0-auc:0.83150\n",
      "[1]\tvalidation_0-auc:0.85701\n",
      "[2]\tvalidation_0-auc:0.86424\n",
      "[3]\tvalidation_0-auc:0.86640\n",
      "[4]\tvalidation_0-auc:0.87288\n",
      "[5]\tvalidation_0-auc:0.87651\n",
      "[6]\tvalidation_0-auc:0.88053\n",
      "[7]\tvalidation_0-auc:0.87882\n",
      "[8]\tvalidation_0-auc:0.87719\n",
      "[9]\tvalidation_0-auc:0.88128\n",
      "[10]\tvalidation_0-auc:0.88371\n",
      "[11]\tvalidation_0-auc:0.88245\n",
      "[12]\tvalidation_0-auc:0.88146\n",
      "[13]\tvalidation_0-auc:0.88467\n",
      "[14]\tvalidation_0-auc:0.88534\n",
      "[15]\tvalidation_0-auc:0.88592\n",
      "[16]\tvalidation_0-auc:0.88654\n",
      "[17]\tvalidation_0-auc:0.88723\n",
      "[18]\tvalidation_0-auc:0.88624\n",
      "[19]\tvalidation_0-auc:0.88729\n",
      "[20]\tvalidation_0-auc:0.88785\n",
      "[21]\tvalidation_0-auc:0.88691\n",
      "[22]\tvalidation_0-auc:0.88558\n",
      "[23]\tvalidation_0-auc:0.88643\n",
      "[24]\tvalidation_0-auc:0.88526\n",
      "[25]\tvalidation_0-auc:0.88429\n"
     ]
    }
   ],
   "source": [
    "#https://xgboost.readthedocs.io/en/stable/python/python_intro.html\n",
    "import xgboost as xgb\n",
    "\n",
    "xgb_model = xgb.XGBClassifier(objective=\"binary:logistic\", random_state=42, eval_metric=\"auc\")\n",
    "xgb_model.fit(X_train, Y_train, early_stopping_rounds=5, eval_set=[(X_test, Y_test)])\n",
    "\n",
    "Y_pred_xgb = xgb_model.predict(X_test)"
   ]
  },
  {
   "cell_type": "code",
   "execution_count": 144,
   "metadata": {},
   "outputs": [
    {
     "name": "stdout",
     "output_type": "stream",
     "text": [
      "best score: 0.8878472222222222, best iteration: 20, best ntree limit 21\n"
     ]
    }
   ],
   "source": [
    "print(\"best score: {0}, best iteration: {1}, best ntree limit {2}\".format(xgb_model.best_score, xgb_model.best_iteration, xgb_model.best_ntree_limit))"
   ]
  },
  {
   "cell_type": "code",
   "execution_count": 142,
   "metadata": {},
   "outputs": [
    {
     "data": {
      "text/plain": [
       "0.7903646333384072"
      ]
     },
     "execution_count": 142,
     "metadata": {},
     "output_type": "execute_result"
    }
   ],
   "source": [
    "f1_score(Y_test, Y_pred_xgb, average='weighted')"
   ]
  },
  {
   "cell_type": "code",
   "execution_count": 143,
   "metadata": {
    "_uuid": "319c4f0d2e62b03c95a48df0ecc33b15e7fa7f39",
    "colab": {
     "base_uri": "https://localhost:8080/"
    },
    "id": "6Q-hZP3mHL_d",
    "outputId": "319f4574-1ec3-49b1-f58d-2ca46cc740d8"
   },
   "outputs": [
    {
     "name": "stdout",
     "output_type": "stream",
     "text": [
      "The accuracy score achieved using XGBoost is: 79.07 %\n"
     ]
    }
   ],
   "source": [
    "score_xgb = round(accuracy_score(Y_pred_xgb,Y_test)*100,2)\n",
    "\n",
    "print(\"The accuracy score achieved using XGBoost is: \"+str(score_xgb)+\" %\")"
   ]
  },
  {
   "cell_type": "code",
   "execution_count": 137,
   "metadata": {
    "colab": {
     "base_uri": "https://localhost:8080/"
    },
    "id": "cCs1NwWgHL_d",
    "outputId": "e5f58a60-110a-4b08-9cd7-399ef50d731a"
   },
   "outputs": [
    {
     "name": "stdout",
     "output_type": "stream",
     "text": [
      "Classification Report\n",
      "               precision    recall  f1-score   support\n",
      "\n",
      "           0       0.76      0.82      0.79       192\n",
      "           1       0.81      0.74      0.78       195\n",
      "\n",
      "    accuracy                           0.78       387\n",
      "   macro avg       0.78      0.78      0.78       387\n",
      "weighted avg       0.79      0.78      0.78       387\n",
      "\n"
     ]
    }
   ],
   "source": [
    "print('Classification Report\\n', classification_report(Y_test, Y_pred_xgb))"
   ]
  }
 ],
 "metadata": {
  "colab": {
   "name": "News Quality Prediction - Annotated Dataset.ipynb",
   "provenance": []
  },
  "kernelspec": {
   "display_name": "Python 3 (ipykernel)",
   "language": "python",
   "name": "python3"
  },
  "language_info": {
   "codemirror_mode": {
    "name": "ipython",
    "version": 3
   },
   "file_extension": ".py",
   "mimetype": "text/x-python",
   "name": "python",
   "nbconvert_exporter": "python",
   "pygments_lexer": "ipython3",
   "version": "3.8.10"
  }
 },
 "nbformat": 4,
 "nbformat_minor": 4
}
