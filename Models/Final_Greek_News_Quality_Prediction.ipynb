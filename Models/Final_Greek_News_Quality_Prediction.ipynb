{
 "cells": [
  {
   "cell_type": "markdown",
   "metadata": {
    "_uuid": "bbd660b62cc616efa33651beedc49b86045b784d",
    "id": "DhvHCIykHL-a"
   },
   "source": [
    "## <font size=5> <strong>News Quality Prediction \n",
    " "
   ]
  },
  {
   "cell_type": "markdown",
   "metadata": {
    "_uuid": "e41ea25bec5928203cec544d0413fecd4b4e5555",
    "id": "EtiiBiR4HL-e"
   },
   "source": [
    "## I. Importing essential libraries"
   ]
  },
  {
   "cell_type": "code",
   "execution_count": 1,
   "metadata": {
    "_uuid": "f571f7e57c828d45fe55f6136fe8c2e796f74d4e",
    "id": "TTfDKboDHL-f"
   },
   "outputs": [],
   "source": [
    "import numpy as np\n",
    "import pandas as pd\n",
    "import matplotlib.pyplot as plt\n",
    "import seaborn as sns\n",
    "import os\n",
    "%matplotlib inline\n",
    "\n",
    "import warnings\n",
    "warnings.filterwarnings('ignore')\n",
    "\n",
    "# to make this notebook's output stable across runs\n",
    "np.random.seed(42)\n",
    "from sklearn.metrics import confusion_matrix, f1_score\n",
    "# To plot pretty figures\n",
    "%matplotlib inline\n",
    "import matplotlib as mpl\n",
    "import matplotlib.pyplot as plt\n",
    "mpl.rc('axes', labelsize=14)\n",
    "mpl.rc('xtick', labelsize=12)\n",
    "mpl.rc('ytick', labelsize=12)"
   ]
  },
  {
   "cell_type": "markdown",
   "metadata": {
    "_uuid": "44e71221837f6fa60edc2c83b7492ddb019cc1cd",
    "id": "kvNQN09rHL-h"
   },
   "source": [
    "## II. Importing and understanding our dataset "
   ]
  },
  {
   "cell_type": "code",
   "execution_count": 29,
   "metadata": {
    "_uuid": "2a1a1dae64ae3c934849b2b918bc7d68cd59e3f6",
    "id": "x49776PyHL-i"
   },
   "outputs": [],
   "source": [
    "dataset = pd.read_csv(\"https://raw.githubusercontent.com/datajour-gr/iqjournalism/main/sample_data/dataML_quality.csv\")"
   ]
  },
  {
   "cell_type": "markdown",
   "metadata": {
    "_uuid": "481fa1d160a3256ef2470535bfb0574820fbaabd",
    "id": "xZFYeQQtHL-k"
   },
   "source": [
    "#### Verifying it as a 'dataframe' object in pandas"
   ]
  },
  {
   "cell_type": "code",
   "execution_count": 30,
   "metadata": {
    "_uuid": "86353d54a331dbf55a63874402cf13e2a72c3750",
    "colab": {
     "base_uri": "https://localhost:8080/"
    },
    "id": "VSxLk42THL-l",
    "outputId": "8da607c7-3b1c-41c5-9741-ce99f61e97f3"
   },
   "outputs": [
    {
     "data": {
      "text/plain": [
       "pandas.core.frame.DataFrame"
      ]
     },
     "execution_count": 30,
     "metadata": {},
     "output_type": "execute_result"
    }
   ],
   "source": [
    "type(dataset)"
   ]
  },
  {
   "cell_type": "code",
   "execution_count": 31,
   "metadata": {
    "colab": {
     "base_uri": "https://localhost:8080/"
    },
    "id": "Wsj8kfdCrJgM",
    "outputId": "1c8fcf29-d69d-4ec7-e51b-d180ffddd1a8"
   },
   "outputs": [
    {
     "data": {
      "text/plain": [
       "Index(['anger', 'anticipation', 'disgust', 'fear', 'joy', 'negative',\n",
       "       'positive', 'sadness', 'surprise', 'trust', 'valence', 'arousal',\n",
       "       'dominance', 'strongsubj', ' weaksubj', 'flesch_reading_ease',\n",
       "       'flesch_kincaid_grade', 'mean_word_length', 'n_stop_words', 'sources',\n",
       "       'length', 'MTLD', 'Nouns', 'Verbs', 'Adjectives', 'Anger_intensity',\n",
       "       'Joy_intensity', 'Sadness_intensity', 'Fear_intensity', 'No Celebs',\n",
       "       'animal', 'crime', 'caps_body', 'numbers', 'urls', 'special_char_ratio',\n",
       "       'quality'],\n",
       "      dtype='object')"
      ]
     },
     "execution_count": 31,
     "metadata": {},
     "output_type": "execute_result"
    }
   ],
   "source": [
    "dataset.columns"
   ]
  },
  {
   "cell_type": "markdown",
   "metadata": {
    "_uuid": "44649a50ce58d2e10a032f7d0e7ecf435e932481",
    "id": "vtzzyRT_HL-n"
   },
   "source": [
    "#### Shape of dataset"
   ]
  },
  {
   "cell_type": "code",
   "execution_count": 34,
   "metadata": {
    "_uuid": "0a2396061d262bee451e61dd51be84d0bd1ac9d0",
    "colab": {
     "base_uri": "https://localhost:8080/"
    },
    "id": "NBH5Dl-KHL-p",
    "outputId": "0c27582c-13f8-4e31-d741-bf4760449f43"
   },
   "outputs": [
    {
     "data": {
      "text/plain": [
       "(44656, 37)"
      ]
     },
     "execution_count": 34,
     "metadata": {},
     "output_type": "execute_result"
    }
   ],
   "source": [
    "dataset.shape"
   ]
  },
  {
   "cell_type": "code",
   "execution_count": 35,
   "metadata": {},
   "outputs": [],
   "source": [
    "dataset = dataset[[ 'anger', 'anticipation', 'disgust', 'fear', 'joy', 'negative',\n",
    "       'positive', 'sadness', 'surprise', 'trust', 'valence', 'arousal',\n",
    "       'dominance', 'strongsubj', ' weaksubj',    \n",
    "    'flesch_reading_ease', 'flesch_kincaid_grade', 'mean_word_length', 'n_stop_words', \n",
    "        'sources','length', 'MTLD', 'Nouns', 'Verbs', 'Adjectives', 'Anger_intensity',\n",
    "       'Joy_intensity', 'Sadness_intensity', 'Fear_intensity', 'No Celebs',\n",
    "       'animal', 'crime', 'caps_body', 'numbers', 'urls', 'special_char_ratio',\n",
    "       'quality'] \n",
    "        ].copy()"
   ]
  },
  {
   "cell_type": "markdown",
   "metadata": {
    "_uuid": "3e1de0c39fc28f086a5e8377cc5fbdbf91d377b3",
    "id": "66zDqrjoHL-s"
   },
   "source": [
    "#### Printing out a few columns"
   ]
  },
  {
   "cell_type": "code",
   "execution_count": 36,
   "metadata": {
    "_uuid": "87ebcc578e5959fe9a9c9a538c73122183454459",
    "colab": {
     "base_uri": "https://localhost:8080/",
     "height": 297
    },
    "id": "KCSgbqFzHL-s",
    "outputId": "9263af5f-0715-48d7-d333-a903dbd1bacb"
   },
   "outputs": [
    {
     "data": {
      "text/html": [
       "<div>\n",
       "<style scoped>\n",
       "    .dataframe tbody tr th:only-of-type {\n",
       "        vertical-align: middle;\n",
       "    }\n",
       "\n",
       "    .dataframe tbody tr th {\n",
       "        vertical-align: top;\n",
       "    }\n",
       "\n",
       "    .dataframe thead th {\n",
       "        text-align: right;\n",
       "    }\n",
       "</style>\n",
       "<table border=\"1\" class=\"dataframe\">\n",
       "  <thead>\n",
       "    <tr style=\"text-align: right;\">\n",
       "      <th></th>\n",
       "      <th>anger</th>\n",
       "      <th>anticipation</th>\n",
       "      <th>disgust</th>\n",
       "      <th>fear</th>\n",
       "      <th>joy</th>\n",
       "      <th>negative</th>\n",
       "      <th>positive</th>\n",
       "      <th>sadness</th>\n",
       "      <th>surprise</th>\n",
       "      <th>trust</th>\n",
       "      <th>...</th>\n",
       "      <th>Sadness_intensity</th>\n",
       "      <th>Fear_intensity</th>\n",
       "      <th>No Celebs</th>\n",
       "      <th>animal</th>\n",
       "      <th>crime</th>\n",
       "      <th>caps_body</th>\n",
       "      <th>numbers</th>\n",
       "      <th>urls</th>\n",
       "      <th>special_char_ratio</th>\n",
       "      <th>quality</th>\n",
       "    </tr>\n",
       "  </thead>\n",
       "  <tbody>\n",
       "    <tr>\n",
       "      <th>0</th>\n",
       "      <td>0.980392</td>\n",
       "      <td>2.941176</td>\n",
       "      <td>0.00000</td>\n",
       "      <td>0.00000</td>\n",
       "      <td>0.980392</td>\n",
       "      <td>0.980392</td>\n",
       "      <td>0.980392</td>\n",
       "      <td>0.980392</td>\n",
       "      <td>0.00000</td>\n",
       "      <td>0.000000</td>\n",
       "      <td>...</td>\n",
       "      <td>0.059000</td>\n",
       "      <td>0.099625</td>\n",
       "      <td>0</td>\n",
       "      <td>0</td>\n",
       "      <td>0</td>\n",
       "      <td>0</td>\n",
       "      <td>2</td>\n",
       "      <td>0</td>\n",
       "      <td>2.941176</td>\n",
       "      <td>1</td>\n",
       "    </tr>\n",
       "    <tr>\n",
       "      <th>1</th>\n",
       "      <td>0.000000</td>\n",
       "      <td>0.000000</td>\n",
       "      <td>0.00000</td>\n",
       "      <td>0.00000</td>\n",
       "      <td>0.000000</td>\n",
       "      <td>0.000000</td>\n",
       "      <td>0.000000</td>\n",
       "      <td>0.000000</td>\n",
       "      <td>0.00000</td>\n",
       "      <td>0.000000</td>\n",
       "      <td>...</td>\n",
       "      <td>0.000000</td>\n",
       "      <td>0.133000</td>\n",
       "      <td>0</td>\n",
       "      <td>0</td>\n",
       "      <td>0</td>\n",
       "      <td>0</td>\n",
       "      <td>2</td>\n",
       "      <td>0</td>\n",
       "      <td>6.060606</td>\n",
       "      <td>1</td>\n",
       "    </tr>\n",
       "    <tr>\n",
       "      <th>2</th>\n",
       "      <td>0.000000</td>\n",
       "      <td>0.000000</td>\n",
       "      <td>0.00000</td>\n",
       "      <td>0.00000</td>\n",
       "      <td>0.000000</td>\n",
       "      <td>1.538462</td>\n",
       "      <td>0.000000</td>\n",
       "      <td>0.000000</td>\n",
       "      <td>0.00000</td>\n",
       "      <td>3.076923</td>\n",
       "      <td>...</td>\n",
       "      <td>0.074846</td>\n",
       "      <td>0.059154</td>\n",
       "      <td>0</td>\n",
       "      <td>0</td>\n",
       "      <td>0</td>\n",
       "      <td>0</td>\n",
       "      <td>1</td>\n",
       "      <td>0</td>\n",
       "      <td>3.076923</td>\n",
       "      <td>1</td>\n",
       "    </tr>\n",
       "    <tr>\n",
       "      <th>3</th>\n",
       "      <td>0.000000</td>\n",
       "      <td>1.971831</td>\n",
       "      <td>0.28169</td>\n",
       "      <td>0.56338</td>\n",
       "      <td>0.563380</td>\n",
       "      <td>1.126761</td>\n",
       "      <td>3.098592</td>\n",
       "      <td>0.281690</td>\n",
       "      <td>0.28169</td>\n",
       "      <td>0.845070</td>\n",
       "      <td>...</td>\n",
       "      <td>0.098161</td>\n",
       "      <td>0.085952</td>\n",
       "      <td>0</td>\n",
       "      <td>0</td>\n",
       "      <td>0</td>\n",
       "      <td>0</td>\n",
       "      <td>0</td>\n",
       "      <td>0</td>\n",
       "      <td>2.535211</td>\n",
       "      <td>1</td>\n",
       "    </tr>\n",
       "    <tr>\n",
       "      <th>4</th>\n",
       "      <td>0.000000</td>\n",
       "      <td>0.000000</td>\n",
       "      <td>0.00000</td>\n",
       "      <td>0.00000</td>\n",
       "      <td>0.000000</td>\n",
       "      <td>0.000000</td>\n",
       "      <td>0.000000</td>\n",
       "      <td>0.000000</td>\n",
       "      <td>0.00000</td>\n",
       "      <td>0.000000</td>\n",
       "      <td>...</td>\n",
       "      <td>0.000000</td>\n",
       "      <td>0.176429</td>\n",
       "      <td>0</td>\n",
       "      <td>0</td>\n",
       "      <td>0</td>\n",
       "      <td>0</td>\n",
       "      <td>1</td>\n",
       "      <td>0</td>\n",
       "      <td>1.562500</td>\n",
       "      <td>1</td>\n",
       "    </tr>\n",
       "  </tbody>\n",
       "</table>\n",
       "<p>5 rows × 37 columns</p>\n",
       "</div>"
      ],
      "text/plain": [
       "      anger  anticipation  disgust     fear       joy  negative  positive  \\\n",
       "0  0.980392      2.941176  0.00000  0.00000  0.980392  0.980392  0.980392   \n",
       "1  0.000000      0.000000  0.00000  0.00000  0.000000  0.000000  0.000000   \n",
       "2  0.000000      0.000000  0.00000  0.00000  0.000000  1.538462  0.000000   \n",
       "3  0.000000      1.971831  0.28169  0.56338  0.563380  1.126761  3.098592   \n",
       "4  0.000000      0.000000  0.00000  0.00000  0.000000  0.000000  0.000000   \n",
       "\n",
       "    sadness  surprise     trust  ...  Sadness_intensity  Fear_intensity  \\\n",
       "0  0.980392   0.00000  0.000000  ...           0.059000        0.099625   \n",
       "1  0.000000   0.00000  0.000000  ...           0.000000        0.133000   \n",
       "2  0.000000   0.00000  3.076923  ...           0.074846        0.059154   \n",
       "3  0.281690   0.28169  0.845070  ...           0.098161        0.085952   \n",
       "4  0.000000   0.00000  0.000000  ...           0.000000        0.176429   \n",
       "\n",
       "   No Celebs  animal  crime  caps_body  numbers  urls  special_char_ratio  \\\n",
       "0          0       0      0          0        2     0            2.941176   \n",
       "1          0       0      0          0        2     0            6.060606   \n",
       "2          0       0      0          0        1     0            3.076923   \n",
       "3          0       0      0          0        0     0            2.535211   \n",
       "4          0       0      0          0        1     0            1.562500   \n",
       "\n",
       "   quality  \n",
       "0        1  \n",
       "1        1  \n",
       "2        1  \n",
       "3        1  \n",
       "4        1  \n",
       "\n",
       "[5 rows x 37 columns]"
      ]
     },
     "execution_count": 36,
     "metadata": {},
     "output_type": "execute_result"
    }
   ],
   "source": [
    "dataset.head(5)"
   ]
  },
  {
   "cell_type": "code",
   "execution_count": 37,
   "metadata": {
    "_uuid": "5132eb43114bf99d5f857f459d0c9d2faffc9644",
    "colab": {
     "base_uri": "https://localhost:8080/",
     "height": 314
    },
    "id": "AChzdlI1HL-t",
    "outputId": "f0a91e29-b5fb-4a2c-f260-801a7b1e6fc0"
   },
   "outputs": [
    {
     "data": {
      "text/html": [
       "<div>\n",
       "<style scoped>\n",
       "    .dataframe tbody tr th:only-of-type {\n",
       "        vertical-align: middle;\n",
       "    }\n",
       "\n",
       "    .dataframe tbody tr th {\n",
       "        vertical-align: top;\n",
       "    }\n",
       "\n",
       "    .dataframe thead th {\n",
       "        text-align: right;\n",
       "    }\n",
       "</style>\n",
       "<table border=\"1\" class=\"dataframe\">\n",
       "  <thead>\n",
       "    <tr style=\"text-align: right;\">\n",
       "      <th></th>\n",
       "      <th>anger</th>\n",
       "      <th>anticipation</th>\n",
       "      <th>disgust</th>\n",
       "      <th>fear</th>\n",
       "      <th>joy</th>\n",
       "      <th>negative</th>\n",
       "      <th>positive</th>\n",
       "      <th>sadness</th>\n",
       "      <th>surprise</th>\n",
       "      <th>trust</th>\n",
       "      <th>...</th>\n",
       "      <th>Sadness_intensity</th>\n",
       "      <th>Fear_intensity</th>\n",
       "      <th>No Celebs</th>\n",
       "      <th>animal</th>\n",
       "      <th>crime</th>\n",
       "      <th>caps_body</th>\n",
       "      <th>numbers</th>\n",
       "      <th>urls</th>\n",
       "      <th>special_char_ratio</th>\n",
       "      <th>quality</th>\n",
       "    </tr>\n",
       "  </thead>\n",
       "  <tbody>\n",
       "    <tr>\n",
       "      <th>3502</th>\n",
       "      <td>0.454545</td>\n",
       "      <td>0.909091</td>\n",
       "      <td>0.000000</td>\n",
       "      <td>0.454545</td>\n",
       "      <td>0.000000</td>\n",
       "      <td>1.818182</td>\n",
       "      <td>1.363636</td>\n",
       "      <td>0.454545</td>\n",
       "      <td>0.000000</td>\n",
       "      <td>1.363636</td>\n",
       "      <td>...</td>\n",
       "      <td>0.028351</td>\n",
       "      <td>0.068541</td>\n",
       "      <td>0</td>\n",
       "      <td>0</td>\n",
       "      <td>0</td>\n",
       "      <td>0</td>\n",
       "      <td>0</td>\n",
       "      <td>0</td>\n",
       "      <td>2.272727</td>\n",
       "      <td>1</td>\n",
       "    </tr>\n",
       "    <tr>\n",
       "      <th>17808</th>\n",
       "      <td>0.000000</td>\n",
       "      <td>0.518135</td>\n",
       "      <td>0.000000</td>\n",
       "      <td>0.000000</td>\n",
       "      <td>0.000000</td>\n",
       "      <td>0.000000</td>\n",
       "      <td>1.554404</td>\n",
       "      <td>0.518135</td>\n",
       "      <td>0.000000</td>\n",
       "      <td>1.036269</td>\n",
       "      <td>...</td>\n",
       "      <td>0.005364</td>\n",
       "      <td>0.021250</td>\n",
       "      <td>0</td>\n",
       "      <td>0</td>\n",
       "      <td>0</td>\n",
       "      <td>1</td>\n",
       "      <td>0</td>\n",
       "      <td>0</td>\n",
       "      <td>1.554404</td>\n",
       "      <td>1</td>\n",
       "    </tr>\n",
       "    <tr>\n",
       "      <th>17149</th>\n",
       "      <td>1.851852</td>\n",
       "      <td>0.925926</td>\n",
       "      <td>0.925926</td>\n",
       "      <td>1.851852</td>\n",
       "      <td>0.000000</td>\n",
       "      <td>2.777778</td>\n",
       "      <td>2.777778</td>\n",
       "      <td>0.000000</td>\n",
       "      <td>0.000000</td>\n",
       "      <td>3.703704</td>\n",
       "      <td>...</td>\n",
       "      <td>0.077381</td>\n",
       "      <td>0.174857</td>\n",
       "      <td>0</td>\n",
       "      <td>0</td>\n",
       "      <td>0</td>\n",
       "      <td>0</td>\n",
       "      <td>0</td>\n",
       "      <td>0</td>\n",
       "      <td>5.555556</td>\n",
       "      <td>1</td>\n",
       "    </tr>\n",
       "    <tr>\n",
       "      <th>21408</th>\n",
       "      <td>0.000000</td>\n",
       "      <td>0.000000</td>\n",
       "      <td>0.000000</td>\n",
       "      <td>0.000000</td>\n",
       "      <td>0.000000</td>\n",
       "      <td>0.000000</td>\n",
       "      <td>0.000000</td>\n",
       "      <td>0.000000</td>\n",
       "      <td>0.000000</td>\n",
       "      <td>0.000000</td>\n",
       "      <td>...</td>\n",
       "      <td>NaN</td>\n",
       "      <td>NaN</td>\n",
       "      <td>0</td>\n",
       "      <td>0</td>\n",
       "      <td>0</td>\n",
       "      <td>0</td>\n",
       "      <td>675</td>\n",
       "      <td>0</td>\n",
       "      <td>354.687500</td>\n",
       "      <td>1</td>\n",
       "    </tr>\n",
       "    <tr>\n",
       "      <th>21350</th>\n",
       "      <td>1.162791</td>\n",
       "      <td>2.325581</td>\n",
       "      <td>0.000000</td>\n",
       "      <td>2.325581</td>\n",
       "      <td>1.162791</td>\n",
       "      <td>3.488372</td>\n",
       "      <td>2.325581</td>\n",
       "      <td>2.325581</td>\n",
       "      <td>2.325581</td>\n",
       "      <td>2.325581</td>\n",
       "      <td>...</td>\n",
       "      <td>0.152526</td>\n",
       "      <td>0.129737</td>\n",
       "      <td>0</td>\n",
       "      <td>0</td>\n",
       "      <td>0</td>\n",
       "      <td>0</td>\n",
       "      <td>0</td>\n",
       "      <td>0</td>\n",
       "      <td>0.000000</td>\n",
       "      <td>1</td>\n",
       "    </tr>\n",
       "  </tbody>\n",
       "</table>\n",
       "<p>5 rows × 37 columns</p>\n",
       "</div>"
      ],
      "text/plain": [
       "          anger  anticipation   disgust      fear       joy  negative  \\\n",
       "3502   0.454545      0.909091  0.000000  0.454545  0.000000  1.818182   \n",
       "17808  0.000000      0.518135  0.000000  0.000000  0.000000  0.000000   \n",
       "17149  1.851852      0.925926  0.925926  1.851852  0.000000  2.777778   \n",
       "21408  0.000000      0.000000  0.000000  0.000000  0.000000  0.000000   \n",
       "21350  1.162791      2.325581  0.000000  2.325581  1.162791  3.488372   \n",
       "\n",
       "       positive   sadness  surprise     trust  ...  Sadness_intensity  \\\n",
       "3502   1.363636  0.454545  0.000000  1.363636  ...           0.028351   \n",
       "17808  1.554404  0.518135  0.000000  1.036269  ...           0.005364   \n",
       "17149  2.777778  0.000000  0.000000  3.703704  ...           0.077381   \n",
       "21408  0.000000  0.000000  0.000000  0.000000  ...                NaN   \n",
       "21350  2.325581  2.325581  2.325581  2.325581  ...           0.152526   \n",
       "\n",
       "       Fear_intensity  No Celebs  animal  crime  caps_body  numbers  urls  \\\n",
       "3502         0.068541          0       0      0          0        0     0   \n",
       "17808        0.021250          0       0      0          1        0     0   \n",
       "17149        0.174857          0       0      0          0        0     0   \n",
       "21408             NaN          0       0      0          0      675     0   \n",
       "21350        0.129737          0       0      0          0        0     0   \n",
       "\n",
       "       special_char_ratio  quality  \n",
       "3502             2.272727        1  \n",
       "17808            1.554404        1  \n",
       "17149            5.555556        1  \n",
       "21408          354.687500        1  \n",
       "21350            0.000000        1  \n",
       "\n",
       "[5 rows x 37 columns]"
      ]
     },
     "execution_count": 37,
     "metadata": {},
     "output_type": "execute_result"
    }
   ],
   "source": [
    "dataset.sample(5)"
   ]
  },
  {
   "cell_type": "markdown",
   "metadata": {
    "_uuid": "1113236bec2848d33c5bfe088ff0d03246b8b7ce",
    "id": "4vrUpZpTHL-u"
   },
   "source": [
    "#### Description"
   ]
  },
  {
   "cell_type": "code",
   "execution_count": 38,
   "metadata": {
    "_uuid": "c31619815cb0dae5586985671fdc21110b39a821",
    "colab": {
     "base_uri": "https://localhost:8080/",
     "height": 428
    },
    "id": "NJHactPAHL-u",
    "outputId": "7b2bb32c-f743-4a11-8ed2-9d561c462882"
   },
   "outputs": [
    {
     "data": {
      "text/html": [
       "<div>\n",
       "<style scoped>\n",
       "    .dataframe tbody tr th:only-of-type {\n",
       "        vertical-align: middle;\n",
       "    }\n",
       "\n",
       "    .dataframe tbody tr th {\n",
       "        vertical-align: top;\n",
       "    }\n",
       "\n",
       "    .dataframe thead th {\n",
       "        text-align: right;\n",
       "    }\n",
       "</style>\n",
       "<table border=\"1\" class=\"dataframe\">\n",
       "  <thead>\n",
       "    <tr style=\"text-align: right;\">\n",
       "      <th></th>\n",
       "      <th>anger</th>\n",
       "      <th>anticipation</th>\n",
       "      <th>disgust</th>\n",
       "      <th>fear</th>\n",
       "      <th>joy</th>\n",
       "      <th>negative</th>\n",
       "      <th>positive</th>\n",
       "      <th>sadness</th>\n",
       "      <th>surprise</th>\n",
       "      <th>trust</th>\n",
       "      <th>...</th>\n",
       "      <th>Sadness_intensity</th>\n",
       "      <th>Fear_intensity</th>\n",
       "      <th>No Celebs</th>\n",
       "      <th>animal</th>\n",
       "      <th>crime</th>\n",
       "      <th>caps_body</th>\n",
       "      <th>numbers</th>\n",
       "      <th>urls</th>\n",
       "      <th>special_char_ratio</th>\n",
       "      <th>quality</th>\n",
       "    </tr>\n",
       "  </thead>\n",
       "  <tbody>\n",
       "    <tr>\n",
       "      <th>count</th>\n",
       "      <td>44656.000000</td>\n",
       "      <td>44656.000000</td>\n",
       "      <td>44656.000000</td>\n",
       "      <td>44656.000000</td>\n",
       "      <td>44656.000000</td>\n",
       "      <td>44656.000000</td>\n",
       "      <td>44656.000000</td>\n",
       "      <td>44656.000000</td>\n",
       "      <td>44656.000000</td>\n",
       "      <td>44656.000000</td>\n",
       "      <td>...</td>\n",
       "      <td>44470.000000</td>\n",
       "      <td>44470.000000</td>\n",
       "      <td>44656.000000</td>\n",
       "      <td>44656.000000</td>\n",
       "      <td>44656.000000</td>\n",
       "      <td>44656.000000</td>\n",
       "      <td>44656.000000</td>\n",
       "      <td>44656.000000</td>\n",
       "      <td>44656.000000</td>\n",
       "      <td>44656.000000</td>\n",
       "    </tr>\n",
       "    <tr>\n",
       "      <th>mean</th>\n",
       "      <td>0.817377</td>\n",
       "      <td>1.201230</td>\n",
       "      <td>0.429848</td>\n",
       "      <td>1.269040</td>\n",
       "      <td>0.812602</td>\n",
       "      <td>1.851911</td>\n",
       "      <td>2.846890</td>\n",
       "      <td>0.911296</td>\n",
       "      <td>0.530608</td>\n",
       "      <td>1.702668</td>\n",
       "      <td>...</td>\n",
       "      <td>0.091781</td>\n",
       "      <td>0.123029</td>\n",
       "      <td>0.400618</td>\n",
       "      <td>0.119939</td>\n",
       "      <td>0.405903</td>\n",
       "      <td>0.182417</td>\n",
       "      <td>5.555558</td>\n",
       "      <td>0.031530</td>\n",
       "      <td>6.705608</td>\n",
       "      <td>0.559835</td>\n",
       "    </tr>\n",
       "    <tr>\n",
       "      <th>std</th>\n",
       "      <td>1.094732</td>\n",
       "      <td>1.204346</td>\n",
       "      <td>0.763608</td>\n",
       "      <td>1.397372</td>\n",
       "      <td>1.030539</td>\n",
       "      <td>1.719793</td>\n",
       "      <td>1.981541</td>\n",
       "      <td>1.172217</td>\n",
       "      <td>0.799704</td>\n",
       "      <td>1.515757</td>\n",
       "      <td>...</td>\n",
       "      <td>0.074345</td>\n",
       "      <td>0.087452</td>\n",
       "      <td>0.949361</td>\n",
       "      <td>0.502454</td>\n",
       "      <td>1.273843</td>\n",
       "      <td>1.010304</td>\n",
       "      <td>45.764444</td>\n",
       "      <td>0.361004</td>\n",
       "      <td>23.566030</td>\n",
       "      <td>0.496412</td>\n",
       "    </tr>\n",
       "    <tr>\n",
       "      <th>min</th>\n",
       "      <td>0.000000</td>\n",
       "      <td>0.000000</td>\n",
       "      <td>0.000000</td>\n",
       "      <td>0.000000</td>\n",
       "      <td>0.000000</td>\n",
       "      <td>0.000000</td>\n",
       "      <td>0.000000</td>\n",
       "      <td>0.000000</td>\n",
       "      <td>0.000000</td>\n",
       "      <td>0.000000</td>\n",
       "      <td>...</td>\n",
       "      <td>0.000000</td>\n",
       "      <td>0.000000</td>\n",
       "      <td>0.000000</td>\n",
       "      <td>0.000000</td>\n",
       "      <td>0.000000</td>\n",
       "      <td>0.000000</td>\n",
       "      <td>0.000000</td>\n",
       "      <td>0.000000</td>\n",
       "      <td>0.000000</td>\n",
       "      <td>0.000000</td>\n",
       "    </tr>\n",
       "    <tr>\n",
       "      <th>25%</th>\n",
       "      <td>0.000000</td>\n",
       "      <td>0.000000</td>\n",
       "      <td>0.000000</td>\n",
       "      <td>0.000000</td>\n",
       "      <td>0.000000</td>\n",
       "      <td>0.615385</td>\n",
       "      <td>1.492537</td>\n",
       "      <td>0.000000</td>\n",
       "      <td>0.000000</td>\n",
       "      <td>0.632911</td>\n",
       "      <td>...</td>\n",
       "      <td>0.038462</td>\n",
       "      <td>0.060582</td>\n",
       "      <td>0.000000</td>\n",
       "      <td>0.000000</td>\n",
       "      <td>0.000000</td>\n",
       "      <td>0.000000</td>\n",
       "      <td>0.000000</td>\n",
       "      <td>0.000000</td>\n",
       "      <td>2.020202</td>\n",
       "      <td>0.000000</td>\n",
       "    </tr>\n",
       "    <tr>\n",
       "      <th>50%</th>\n",
       "      <td>0.491602</td>\n",
       "      <td>1.020408</td>\n",
       "      <td>0.000000</td>\n",
       "      <td>0.970874</td>\n",
       "      <td>0.546448</td>\n",
       "      <td>1.515152</td>\n",
       "      <td>2.610966</td>\n",
       "      <td>0.599002</td>\n",
       "      <td>0.000000</td>\n",
       "      <td>1.449275</td>\n",
       "      <td>...</td>\n",
       "      <td>0.077625</td>\n",
       "      <td>0.107765</td>\n",
       "      <td>0.000000</td>\n",
       "      <td>0.000000</td>\n",
       "      <td>0.000000</td>\n",
       "      <td>0.000000</td>\n",
       "      <td>1.000000</td>\n",
       "      <td>0.000000</td>\n",
       "      <td>4.494382</td>\n",
       "      <td>1.000000</td>\n",
       "    </tr>\n",
       "    <tr>\n",
       "      <th>75%</th>\n",
       "      <td>1.265823</td>\n",
       "      <td>1.744440</td>\n",
       "      <td>0.636943</td>\n",
       "      <td>1.851852</td>\n",
       "      <td>1.250000</td>\n",
       "      <td>2.690583</td>\n",
       "      <td>3.846154</td>\n",
       "      <td>1.353014</td>\n",
       "      <td>0.843882</td>\n",
       "      <td>2.439024</td>\n",
       "      <td>...</td>\n",
       "      <td>0.128873</td>\n",
       "      <td>0.169058</td>\n",
       "      <td>1.000000</td>\n",
       "      <td>0.000000</td>\n",
       "      <td>0.000000</td>\n",
       "      <td>0.000000</td>\n",
       "      <td>3.000000</td>\n",
       "      <td>0.000000</td>\n",
       "      <td>7.695460</td>\n",
       "      <td>1.000000</td>\n",
       "    </tr>\n",
       "    <tr>\n",
       "      <th>max</th>\n",
       "      <td>15.662651</td>\n",
       "      <td>25.000000</td>\n",
       "      <td>13.793103</td>\n",
       "      <td>22.916667</td>\n",
       "      <td>14.141414</td>\n",
       "      <td>19.277108</td>\n",
       "      <td>22.916667</td>\n",
       "      <td>18.750000</td>\n",
       "      <td>12.500000</td>\n",
       "      <td>17.647059</td>\n",
       "      <td>...</td>\n",
       "      <td>0.738500</td>\n",
       "      <td>0.803000</td>\n",
       "      <td>24.000000</td>\n",
       "      <td>14.000000</td>\n",
       "      <td>50.000000</td>\n",
       "      <td>43.000000</td>\n",
       "      <td>2234.000000</td>\n",
       "      <td>35.000000</td>\n",
       "      <td>705.303030</td>\n",
       "      <td>1.000000</td>\n",
       "    </tr>\n",
       "  </tbody>\n",
       "</table>\n",
       "<p>8 rows × 37 columns</p>\n",
       "</div>"
      ],
      "text/plain": [
       "              anger  anticipation       disgust          fear           joy  \\\n",
       "count  44656.000000  44656.000000  44656.000000  44656.000000  44656.000000   \n",
       "mean       0.817377      1.201230      0.429848      1.269040      0.812602   \n",
       "std        1.094732      1.204346      0.763608      1.397372      1.030539   \n",
       "min        0.000000      0.000000      0.000000      0.000000      0.000000   \n",
       "25%        0.000000      0.000000      0.000000      0.000000      0.000000   \n",
       "50%        0.491602      1.020408      0.000000      0.970874      0.546448   \n",
       "75%        1.265823      1.744440      0.636943      1.851852      1.250000   \n",
       "max       15.662651     25.000000     13.793103     22.916667     14.141414   \n",
       "\n",
       "           negative      positive       sadness      surprise         trust  \\\n",
       "count  44656.000000  44656.000000  44656.000000  44656.000000  44656.000000   \n",
       "mean       1.851911      2.846890      0.911296      0.530608      1.702668   \n",
       "std        1.719793      1.981541      1.172217      0.799704      1.515757   \n",
       "min        0.000000      0.000000      0.000000      0.000000      0.000000   \n",
       "25%        0.615385      1.492537      0.000000      0.000000      0.632911   \n",
       "50%        1.515152      2.610966      0.599002      0.000000      1.449275   \n",
       "75%        2.690583      3.846154      1.353014      0.843882      2.439024   \n",
       "max       19.277108     22.916667     18.750000     12.500000     17.647059   \n",
       "\n",
       "       ...  Sadness_intensity  Fear_intensity     No Celebs        animal  \\\n",
       "count  ...       44470.000000    44470.000000  44656.000000  44656.000000   \n",
       "mean   ...           0.091781        0.123029      0.400618      0.119939   \n",
       "std    ...           0.074345        0.087452      0.949361      0.502454   \n",
       "min    ...           0.000000        0.000000      0.000000      0.000000   \n",
       "25%    ...           0.038462        0.060582      0.000000      0.000000   \n",
       "50%    ...           0.077625        0.107765      0.000000      0.000000   \n",
       "75%    ...           0.128873        0.169058      1.000000      0.000000   \n",
       "max    ...           0.738500        0.803000     24.000000     14.000000   \n",
       "\n",
       "              crime     caps_body       numbers          urls  \\\n",
       "count  44656.000000  44656.000000  44656.000000  44656.000000   \n",
       "mean       0.405903      0.182417      5.555558      0.031530   \n",
       "std        1.273843      1.010304     45.764444      0.361004   \n",
       "min        0.000000      0.000000      0.000000      0.000000   \n",
       "25%        0.000000      0.000000      0.000000      0.000000   \n",
       "50%        0.000000      0.000000      1.000000      0.000000   \n",
       "75%        0.000000      0.000000      3.000000      0.000000   \n",
       "max       50.000000     43.000000   2234.000000     35.000000   \n",
       "\n",
       "       special_char_ratio       quality  \n",
       "count        44656.000000  44656.000000  \n",
       "mean             6.705608      0.559835  \n",
       "std             23.566030      0.496412  \n",
       "min              0.000000      0.000000  \n",
       "25%              2.020202      0.000000  \n",
       "50%              4.494382      1.000000  \n",
       "75%              7.695460      1.000000  \n",
       "max            705.303030      1.000000  \n",
       "\n",
       "[8 rows x 37 columns]"
      ]
     },
     "execution_count": 38,
     "metadata": {},
     "output_type": "execute_result"
    }
   ],
   "source": [
    "dataset.describe()"
   ]
  },
  {
   "cell_type": "code",
   "execution_count": 39,
   "metadata": {
    "_uuid": "718b82039841c137ab7e08a6e79e264643134642",
    "colab": {
     "base_uri": "https://localhost:8080/"
    },
    "id": "nAxO_zp6HL-v",
    "outputId": "2654f754-02b9-4c99-e8e3-001b0de8c382"
   },
   "outputs": [
    {
     "name": "stdout",
     "output_type": "stream",
     "text": [
      "<class 'pandas.core.frame.DataFrame'>\n",
      "RangeIndex: 44656 entries, 0 to 44655\n",
      "Data columns (total 37 columns):\n",
      " #   Column                Non-Null Count  Dtype  \n",
      "---  ------                --------------  -----  \n",
      " 0   anger                 44656 non-null  float64\n",
      " 1   anticipation          44656 non-null  float64\n",
      " 2   disgust               44656 non-null  float64\n",
      " 3   fear                  44656 non-null  float64\n",
      " 4   joy                   44656 non-null  float64\n",
      " 5   negative              44656 non-null  float64\n",
      " 6   positive              44656 non-null  float64\n",
      " 7   sadness               44656 non-null  float64\n",
      " 8   surprise              44656 non-null  float64\n",
      " 9   trust                 44656 non-null  float64\n",
      " 10  valence               44656 non-null  float64\n",
      " 11  arousal               44656 non-null  float64\n",
      " 12  dominance             44656 non-null  float64\n",
      " 13  strongsubj            44656 non-null  float64\n",
      " 14   weaksubj             44656 non-null  float64\n",
      " 15  flesch_reading_ease   44656 non-null  float64\n",
      " 16  flesch_kincaid_grade  44656 non-null  float64\n",
      " 17  mean_word_length      44656 non-null  float64\n",
      " 18  n_stop_words          44656 non-null  float64\n",
      " 19  sources               44656 non-null  int64  \n",
      " 20  length                44656 non-null  int64  \n",
      " 21  MTLD                  44656 non-null  float64\n",
      " 22  Nouns                 44656 non-null  float64\n",
      " 23  Verbs                 44656 non-null  float64\n",
      " 24  Adjectives            44656 non-null  float64\n",
      " 25  Anger_intensity       44470 non-null  float64\n",
      " 26  Joy_intensity         44470 non-null  float64\n",
      " 27  Sadness_intensity     44470 non-null  float64\n",
      " 28  Fear_intensity        44470 non-null  float64\n",
      " 29  No Celebs             44656 non-null  int64  \n",
      " 30  animal                44656 non-null  int64  \n",
      " 31  crime                 44656 non-null  int64  \n",
      " 32  caps_body             44656 non-null  int64  \n",
      " 33  numbers               44656 non-null  int64  \n",
      " 34  urls                  44656 non-null  int64  \n",
      " 35  special_char_ratio    44656 non-null  float64\n",
      " 36  quality               44656 non-null  int64  \n",
      "dtypes: float64(28), int64(9)\n",
      "memory usage: 12.6 MB\n"
     ]
    }
   ],
   "source": [
    "dataset.info()"
   ]
  },
  {
   "cell_type": "code",
   "execution_count": 40,
   "metadata": {
    "_uuid": "99d7182ca186d37f63b1fc433fe74ad5e2bc7d2f",
    "id": "MKHKu4z8HL-w"
   },
   "outputs": [],
   "source": [
    "#WE HAVE NO MISSING VALUES"
   ]
  },
  {
   "cell_type": "markdown",
   "metadata": {
    "_uuid": "85b59fefde7c5ecdb50e3b8da0cb719f4e14630f",
    "id": "UDugCxHBHL-y"
   },
   "source": [
    "#### Let's understand our columns better:"
   ]
  },
  {
   "cell_type": "markdown",
   "metadata": {
    "_uuid": "6a970312b67b588610a8579ecc2ba4bac0fcee04",
    "id": "NfSLb9U0HL-0"
   },
   "source": [
    "#### Analysing the 'target' variable"
   ]
  },
  {
   "cell_type": "code",
   "execution_count": 41,
   "metadata": {
    "_uuid": "b883243919bd382193ed15e2a90f9b522bf6f1f7",
    "colab": {
     "base_uri": "https://localhost:8080/"
    },
    "id": "pws2NpyXHL-1",
    "outputId": "9e102453-079f-44ac-b228-56892cc2df99",
    "scrolled": true
   },
   "outputs": [
    {
     "data": {
      "text/plain": [
       "count    44656.000000\n",
       "mean         0.559835\n",
       "std          0.496412\n",
       "min          0.000000\n",
       "25%          0.000000\n",
       "50%          1.000000\n",
       "75%          1.000000\n",
       "max          1.000000\n",
       "Name: quality, dtype: float64"
      ]
     },
     "execution_count": 41,
     "metadata": {},
     "output_type": "execute_result"
    }
   ],
   "source": [
    "dataset[\"quality\"].describe()"
   ]
  },
  {
   "cell_type": "code",
   "execution_count": 42,
   "metadata": {
    "_uuid": "9c107b83e0148914826282bf1f0ab28505d577ab",
    "colab": {
     "base_uri": "https://localhost:8080/"
    },
    "id": "csqLnyx6HL-7",
    "outputId": "c6677c69-0dda-49da-836c-8f50da198837",
    "scrolled": true
   },
   "outputs": [
    {
     "data": {
      "text/plain": [
       "array([1, 0])"
      ]
     },
     "execution_count": 42,
     "metadata": {},
     "output_type": "execute_result"
    }
   ],
   "source": [
    "dataset[\"quality\"].unique()"
   ]
  },
  {
   "cell_type": "markdown",
   "metadata": {
    "_uuid": "8c96e97e3f52844e8c4c6ff069f53bfe97c9982d",
    "id": "HXfbVSwyHL--"
   },
   "source": [
    "#### Clearly, this is a classification problem, with the target variable having values '0' and '1'"
   ]
  },
  {
   "cell_type": "markdown",
   "metadata": {
    "_uuid": "3ae0dfa26e2daf4cfc8e1c6f3b5008d0dab22ec0",
    "id": "eoILfeMWHL-_"
   },
   "source": [
    "### Checking correlation between columns"
   ]
  },
  {
   "cell_type": "code",
   "execution_count": 43,
   "metadata": {
    "_uuid": "3059188d3874be2e0c80e13655609ac6a6fc644f",
    "colab": {
     "base_uri": "https://localhost:8080/"
    },
    "id": "znRk9Va0HL_A",
    "outputId": "99dbb783-f89d-4087-c78a-187f9ce7835d"
   },
   "outputs": [
    {
     "name": "stdout",
     "output_type": "stream",
     "text": [
      "quality                 1.000000\n",
      " weaksubj               0.514371\n",
      "flesch_kincaid_grade    0.349707\n",
      "flesch_reading_ease     0.314772\n",
      "Nouns                   0.305028\n",
      "Joy_intensity           0.255719\n",
      "Adjectives              0.207568\n",
      "n_stop_words            0.180041\n",
      "negative                0.179583\n",
      "trust                   0.171338\n",
      "fear                    0.163708\n",
      "mean_word_length        0.160266\n",
      "anger                   0.145196\n",
      "strongsubj              0.144637\n",
      "Anger_intensity         0.144499\n",
      "Fear_intensity          0.127773\n",
      "Sadness_intensity       0.126392\n",
      "positive                0.124250\n",
      "sadness                 0.124030\n",
      "length                  0.105814\n",
      "crime                   0.103636\n",
      "Verbs                   0.099907\n",
      "disgust                 0.089446\n",
      "sources                 0.077749\n",
      "anticipation            0.074255\n",
      "MTLD                    0.065185\n",
      "arousal                 0.063121\n",
      "caps_body               0.060209\n",
      "numbers                 0.057135\n",
      "dominance               0.057009\n",
      "special_char_ratio      0.049182\n",
      "urls                    0.046330\n",
      "valence                 0.026148\n",
      "joy                     0.018847\n",
      "No Celebs               0.012471\n",
      "surprise                0.012117\n",
      "animal                  0.011988\n",
      "Name: quality, dtype: float64\n"
     ]
    }
   ],
   "source": [
    "print(dataset.corr()[\"quality\"].abs().sort_values(ascending=False))"
   ]
  },
  {
   "cell_type": "code",
   "execution_count": 44,
   "metadata": {},
   "outputs": [
    {
     "data": {
      "text/plain": [
       "(44470, 37)"
      ]
     },
     "execution_count": 44,
     "metadata": {},
     "output_type": "execute_result"
    }
   ],
   "source": [
    "dataset = dataset.dropna()\n",
    "dataset.shape"
   ]
  },
  {
   "cell_type": "code",
   "execution_count": 45,
   "metadata": {
    "_uuid": "6e8cf6f86952d94764c1021207fa5b383b2b84bf",
    "id": "mn13gLZIHL_B"
   },
   "outputs": [],
   "source": [
    "#This shows that most columns are moderately correlated with target."
   ]
  },
  {
   "cell_type": "markdown",
   "metadata": {
    "_uuid": "d1c95f2180e264978c85703ece34898dab4d522b",
    "id": "HNk3jbnnHL_E"
   },
   "source": [
    "## IV. Train Test split"
   ]
  },
  {
   "cell_type": "code",
   "execution_count": 46,
   "metadata": {
    "_uuid": "829fcda5b63e1b9f7ecb7762e8ca617166533aca",
    "id": "hzRoWiomHL_E"
   },
   "outputs": [],
   "source": [
    "from sklearn.model_selection import train_test_split\n",
    "\n",
    "predictors = dataset.drop(\"quality\",axis=1)\n",
    "target = dataset[\"quality\"]\n",
    "\n",
    "X_train,X_test,Y_train,Y_test = train_test_split(predictors,target,test_size=0.20,random_state=0)"
   ]
  },
  {
   "cell_type": "markdown",
   "metadata": {
    "_uuid": "3b4f28488a92917f26e9876c1880295ec9c077ed",
    "id": "a0HB7vRyHL_F"
   },
   "source": [
    "## V. Model Fitting"
   ]
  },
  {
   "cell_type": "code",
   "execution_count": 47,
   "metadata": {
    "_uuid": "fe363c1be8335a48a4444660db5fa6bd0a24b71a",
    "id": "Bg0M3HvFHL_F"
   },
   "outputs": [],
   "source": [
    "from sklearn.metrics import accuracy_score, classification_report"
   ]
  },
  {
   "cell_type": "markdown",
   "metadata": {
    "_uuid": "afa6b322cbc225f3353bd295aea24fe5fbbb78fe",
    "id": "cUrsrlutHL_N"
   },
   "source": [
    "### Logistic Regression"
   ]
  },
  {
   "cell_type": "code",
   "execution_count": 48,
   "metadata": {
    "_uuid": "9aea2f597203ccf38cd0d67ae58bff6e163dea1c",
    "id": "SCx0E8RGHL_N"
   },
   "outputs": [],
   "source": [
    "from sklearn.linear_model import LogisticRegression\n",
    "\n",
    "lr = LogisticRegression()\n",
    "\n",
    "lr.fit(X_train,Y_train)\n",
    "\n",
    "Y_pred_lr = lr.predict(X_test)"
   ]
  },
  {
   "cell_type": "code",
   "execution_count": 49,
   "metadata": {
    "_uuid": "58fb833d1c74355ebdafe926968632942f377421",
    "colab": {
     "base_uri": "https://localhost:8080/"
    },
    "id": "rF-lTYVzHL_O",
    "outputId": "6cb14d70-cf51-4937-ce84-534329b462f1"
   },
   "outputs": [
    {
     "data": {
      "text/plain": [
       "(8894,)"
      ]
     },
     "execution_count": 49,
     "metadata": {},
     "output_type": "execute_result"
    }
   ],
   "source": [
    "Y_pred_lr.shape"
   ]
  },
  {
   "cell_type": "code",
   "execution_count": 50,
   "metadata": {
    "_uuid": "ee4cba838316adf863f8daf131d36a970d36b839",
    "colab": {
     "base_uri": "https://localhost:8080/"
    },
    "id": "QTEdtGX3HL_O",
    "outputId": "937e1d7a-c343-44ff-bb2d-e25445ff1c28"
   },
   "outputs": [
    {
     "name": "stdout",
     "output_type": "stream",
     "text": [
      "The accuracy score achieved using Logistic Regression is: 80.77 %\n"
     ]
    }
   ],
   "source": [
    "score_lr = round(accuracy_score(Y_pred_lr,Y_test)*100,2)\n",
    "\n",
    "print(\"The accuracy score achieved using Logistic Regression is: \"+str(score_lr)+\" %\")"
   ]
  },
  {
   "cell_type": "code",
   "execution_count": 51,
   "metadata": {},
   "outputs": [
    {
     "data": {
      "text/plain": [
       "0.8083275369502766"
      ]
     },
     "execution_count": 51,
     "metadata": {},
     "output_type": "execute_result"
    }
   ],
   "source": [
    "f1_score(Y_test, Y_pred_lr, average='weighted')"
   ]
  },
  {
   "cell_type": "code",
   "execution_count": 52,
   "metadata": {
    "colab": {
     "base_uri": "https://localhost:8080/"
    },
    "id": "NZ4vkosGHL_P",
    "outputId": "a8a3668d-aa58-438a-bedb-3d341630cf15"
   },
   "outputs": [
    {
     "name": "stdout",
     "output_type": "stream",
     "text": [
      "Classification Report\n",
      "               precision    recall  f1-score   support\n",
      "\n",
      "           0       0.74      0.87      0.80      3931\n",
      "           1       0.88      0.76      0.82      4963\n",
      "\n",
      "    accuracy                           0.81      8894\n",
      "   macro avg       0.81      0.81      0.81      8894\n",
      "weighted avg       0.82      0.81      0.81      8894\n",
      "\n"
     ]
    }
   ],
   "source": [
    "print('Classification Report\\n', classification_report(Y_test, Y_pred_lr))"
   ]
  },
  {
   "cell_type": "code",
   "execution_count": 53,
   "metadata": {},
   "outputs": [
    {
     "data": {
      "text/plain": [
       "0.8083275369502766"
      ]
     },
     "execution_count": 53,
     "metadata": {},
     "output_type": "execute_result"
    }
   ],
   "source": [
    "f1_score(Y_test, Y_pred_lr, average='weighted')"
   ]
  },
  {
   "cell_type": "markdown",
   "metadata": {
    "_uuid": "4f92fceb9584ae03d3ab370ee11899cb287be690",
    "id": "NQePPOoFHL_P"
   },
   "source": [
    "### Naive Bayes"
   ]
  },
  {
   "cell_type": "code",
   "execution_count": 58,
   "metadata": {
    "_uuid": "ffcdab99b4108902547f0179a242a9757078dc68",
    "id": "XO5IkxLkHL_Q"
   },
   "outputs": [],
   "source": [
    "from sklearn.naive_bayes import GaussianNB\n",
    "\n",
    "nb = GaussianNB()\n",
    "\n",
    "nb.fit(X_train,Y_train)\n",
    "\n",
    "Y_pred_nb = nb.predict(X_test)"
   ]
  },
  {
   "cell_type": "code",
   "execution_count": 55,
   "metadata": {
    "_uuid": "9109059d06e4c92494451b3cdab0bbb5a1816072",
    "colab": {
     "base_uri": "https://localhost:8080/"
    },
    "id": "2eHosuEUHL_Q",
    "outputId": "5e3b9ea6-e915-4001-fe63-17e570cbc285"
   },
   "outputs": [
    {
     "data": {
      "text/plain": [
       "(8894,)"
      ]
     },
     "execution_count": 55,
     "metadata": {},
     "output_type": "execute_result"
    }
   ],
   "source": [
    "Y_pred_nb.shape"
   ]
  },
  {
   "cell_type": "code",
   "execution_count": 56,
   "metadata": {
    "_uuid": "e8f8f55db061ada0b669ffa46e9ecc745fcda1ae",
    "colab": {
     "base_uri": "https://localhost:8080/"
    },
    "id": "VObgVCvNHL_R",
    "outputId": "6f8587a2-d897-4b9b-9db2-ed1a358c5319"
   },
   "outputs": [
    {
     "name": "stdout",
     "output_type": "stream",
     "text": [
      "The accuracy score achieved using Naive Bayes is: 80.59 %\n"
     ]
    }
   ],
   "source": [
    "score_nb = round(accuracy_score(Y_pred_nb,Y_test)*100,2)\n",
    "\n",
    "print(\"The accuracy score achieved using Naive Bayes is: \"+str(score_nb)+\" %\")"
   ]
  },
  {
   "cell_type": "code",
   "execution_count": 57,
   "metadata": {},
   "outputs": [
    {
     "data": {
      "text/plain": [
       "0.8063837572315052"
      ]
     },
     "execution_count": 57,
     "metadata": {},
     "output_type": "execute_result"
    }
   ],
   "source": [
    "f1_score(Y_test, Y_pred_nb, average='weighted')"
   ]
  },
  {
   "cell_type": "code",
   "execution_count": 59,
   "metadata": {
    "colab": {
     "base_uri": "https://localhost:8080/"
    },
    "id": "-0Y2Er_kHL_S",
    "outputId": "8411c8f4-2b5f-4f6a-e332-2f6448506ff6"
   },
   "outputs": [
    {
     "name": "stdout",
     "output_type": "stream",
     "text": [
      "Classification Report\n",
      "               precision    recall  f1-score   support\n",
      "\n",
      "           0       0.73      0.88      0.80      3931\n",
      "           1       0.89      0.74      0.81      4963\n",
      "\n",
      "    accuracy                           0.81      8894\n",
      "   macro avg       0.81      0.81      0.81      8894\n",
      "weighted avg       0.82      0.81      0.81      8894\n",
      "\n"
     ]
    }
   ],
   "source": [
    "print('Classification Report\\n', classification_report(Y_test, Y_pred_nb))"
   ]
  },
  {
   "cell_type": "markdown",
   "metadata": {
    "_uuid": "2af8b010893284bae0d6cccf66ccfda646e7ca58",
    "id": "-S0EYeSYHL_S"
   },
   "source": [
    "### SVM"
   ]
  },
  {
   "cell_type": "code",
   "execution_count": 82,
   "metadata": {
    "_uuid": "f1936ece7b76b67e552758a4c80e9421bffe0bc2",
    "id": "IdmS8jKhHL_S"
   },
   "outputs": [],
   "source": [
    "from sklearn import svm\n",
    "\n",
    "sv = svm.SVC(kernel='linear')\n",
    "\n",
    "sv.fit(X_train, Y_train)\n",
    "\n",
    "Y_pred_svm = sv.predict(X_test)"
   ]
  },
  {
   "cell_type": "code",
   "execution_count": 83,
   "metadata": {
    "_uuid": "36f60f104264d44760705b9c802504f426e15592",
    "colab": {
     "base_uri": "https://localhost:8080/"
    },
    "id": "zUHfWimKHL_T",
    "outputId": "194d4264-9b4f-4905-a2f8-a0c8c23de550"
   },
   "outputs": [
    {
     "data": {
      "text/plain": [
       "(8894,)"
      ]
     },
     "execution_count": 83,
     "metadata": {},
     "output_type": "execute_result"
    }
   ],
   "source": [
    "Y_pred_svm.shape"
   ]
  },
  {
   "cell_type": "code",
   "execution_count": 84,
   "metadata": {
    "_uuid": "f5a73bca6721f42b3983c328fd475390ba9bc4d3",
    "colab": {
     "base_uri": "https://localhost:8080/"
    },
    "id": "MuzvJphUHL_T",
    "outputId": "a1c87fa3-ff68-498e-932e-b191d8329236"
   },
   "outputs": [
    {
     "name": "stdout",
     "output_type": "stream",
     "text": [
      "The accuracy score achieved using Linear SVM is: 81.8 %\n"
     ]
    }
   ],
   "source": [
    "score_svm = round(accuracy_score(Y_pred_svm,Y_test)*100,2)\n",
    "\n",
    "print(\"The accuracy score achieved using Linear SVM is: \"+str(score_svm)+\" %\")"
   ]
  },
  {
   "cell_type": "code",
   "execution_count": 85,
   "metadata": {},
   "outputs": [
    {
     "data": {
      "text/plain": [
       "0.8179552371216816"
      ]
     },
     "execution_count": 85,
     "metadata": {},
     "output_type": "execute_result"
    }
   ],
   "source": [
    "f1_score(Y_test, Y_pred_svm, average='weighted')"
   ]
  },
  {
   "cell_type": "code",
   "execution_count": 86,
   "metadata": {
    "colab": {
     "base_uri": "https://localhost:8080/"
    },
    "id": "zyTdyJWvHL_U",
    "outputId": "ab1b497a-dc7a-4941-d7f2-d1c9b5d24e09"
   },
   "outputs": [
    {
     "name": "stdout",
     "output_type": "stream",
     "text": [
      "Classification Report\n",
      "               precision    recall  f1-score   support\n",
      "\n",
      "           0       0.73      0.93      0.82      3931\n",
      "           1       0.93      0.73      0.82      4963\n",
      "\n",
      "    accuracy                           0.82      8894\n",
      "   macro avg       0.83      0.83      0.82      8894\n",
      "weighted avg       0.84      0.82      0.82      8894\n",
      "\n"
     ]
    }
   ],
   "source": [
    "print('Classification Report\\n', classification_report(Y_test, Y_pred_svm))"
   ]
  },
  {
   "cell_type": "markdown",
   "metadata": {
    "_uuid": "4e26d165b57f3f7882570964f1c2dc4a548404de",
    "id": "0I7zTa39HL_U"
   },
   "source": [
    "### K Nearest Neighbors"
   ]
  },
  {
   "cell_type": "code",
   "execution_count": 60,
   "metadata": {
    "_uuid": "286352867c53d5fb7dac2fc9bf4b2ac58a466ad0",
    "id": "fpC6Csr0HL_V"
   },
   "outputs": [],
   "source": [
    "from sklearn.neighbors import KNeighborsClassifier\n",
    "\n",
    "knn = KNeighborsClassifier(n_neighbors=7)\n",
    "knn.fit(X_train,Y_train)\n",
    "Y_pred_knn=knn.predict(X_test)"
   ]
  },
  {
   "cell_type": "code",
   "execution_count": 61,
   "metadata": {
    "_uuid": "bccb7c1fcec36dd2eb7eb222f49604029adec2b4",
    "colab": {
     "base_uri": "https://localhost:8080/"
    },
    "id": "qdwWi_J5HL_V",
    "outputId": "518ab1f4-1ed8-4609-c041-4b31bbba2bb1"
   },
   "outputs": [
    {
     "data": {
      "text/plain": [
       "(8894,)"
      ]
     },
     "execution_count": 61,
     "metadata": {},
     "output_type": "execute_result"
    }
   ],
   "source": [
    "Y_pred_knn.shape"
   ]
  },
  {
   "cell_type": "code",
   "execution_count": 62,
   "metadata": {
    "_uuid": "dda4e8f8f18f96557cdd38cee177de0456db5f45",
    "colab": {
     "base_uri": "https://localhost:8080/"
    },
    "id": "YMcdTE4DHL_W",
    "outputId": "38914243-4eab-4367-977e-fe30e619cfe5"
   },
   "outputs": [
    {
     "name": "stdout",
     "output_type": "stream",
     "text": [
      "The accuracy score achieved using KNN is: 80.2 %\n"
     ]
    }
   ],
   "source": [
    "score_knn = round(accuracy_score(Y_pred_knn,Y_test)*100,2)\n",
    "\n",
    "print(\"The accuracy score achieved using KNN is: \"+str(score_knn)+\" %\")"
   ]
  },
  {
   "cell_type": "code",
   "execution_count": 63,
   "metadata": {},
   "outputs": [
    {
     "data": {
      "text/plain": [
       "0.8025505539336572"
      ]
     },
     "execution_count": 63,
     "metadata": {},
     "output_type": "execute_result"
    }
   ],
   "source": [
    "f1_score(Y_test, Y_pred_knn, average='weighted')"
   ]
  },
  {
   "cell_type": "code",
   "execution_count": 64,
   "metadata": {
    "colab": {
     "base_uri": "https://localhost:8080/"
    },
    "id": "MDG-WV1uHL_W",
    "outputId": "afb1b66a-809d-4629-909e-47a3ea9267b0"
   },
   "outputs": [
    {
     "name": "stdout",
     "output_type": "stream",
     "text": [
      "Classification Report\n",
      "               precision    recall  f1-score   support\n",
      "\n",
      "           0       0.73      0.87      0.80      3931\n",
      "           1       0.88      0.75      0.81      4963\n",
      "\n",
      "    accuracy                           0.80      8894\n",
      "   macro avg       0.81      0.81      0.80      8894\n",
      "weighted avg       0.81      0.80      0.80      8894\n",
      "\n"
     ]
    }
   ],
   "source": [
    "print('Classification Report\\n', classification_report(Y_test, Y_pred_knn))"
   ]
  },
  {
   "cell_type": "markdown",
   "metadata": {
    "_uuid": "abb767170c662e4d9a8b240fd0fd7286ffb0b67f",
    "id": "AOCkLsi4HL_W"
   },
   "source": [
    "### Decision Tree"
   ]
  },
  {
   "cell_type": "code",
   "execution_count": 72,
   "metadata": {
    "_uuid": "8c141316764dce80103d1879c9b17d853702a746",
    "id": "fubOuFq7HL_X"
   },
   "outputs": [],
   "source": [
    "from sklearn.tree import DecisionTreeClassifier\n",
    "\n",
    "max_accuracy = 0\n",
    "\n",
    "for x in range(100):\n",
    "    dt = DecisionTreeClassifier(random_state=x, max_depth = 8)\n",
    "    dt.fit(X_train,Y_train)\n",
    "    Y_pred_dt = dt.predict(X_test)\n",
    "    current_accuracy = round(accuracy_score(Y_pred_dt,Y_test)*100,2)\n",
    "    if(current_accuracy>max_accuracy):\n",
    "        max_accuracy = current_accuracy\n",
    "        best_x = x\n",
    "        \n",
    "#print(max_accuracy)\n",
    "#print(best_x)\n",
    "\n",
    "dt = DecisionTreeClassifier(random_state=best_x)\n",
    "dt.fit(X_train,Y_train)\n",
    "Y_pred_dt = dt.predict(X_test)"
   ]
  },
  {
   "cell_type": "code",
   "execution_count": 73,
   "metadata": {
    "_uuid": "8de0bd2d57abd24d3a97a5b020a24439eb106f2b",
    "colab": {
     "base_uri": "https://localhost:8080/"
    },
    "id": "6rYNHmuBHL_X",
    "outputId": "938c45fb-b516-41d1-808d-cfdcb362dbd8"
   },
   "outputs": [
    {
     "name": "stdout",
     "output_type": "stream",
     "text": [
      "(8894,)\n"
     ]
    }
   ],
   "source": [
    "print(Y_pred_dt.shape)"
   ]
  },
  {
   "cell_type": "code",
   "execution_count": 74,
   "metadata": {
    "_uuid": "52ab93482d3b53824e9bc2b3e4114c57253e0c5b",
    "colab": {
     "base_uri": "https://localhost:8080/"
    },
    "id": "wKtAKyPpHL_Y",
    "outputId": "40a3d864-f92e-4a1c-86e3-ecb06c5e0259"
   },
   "outputs": [
    {
     "name": "stdout",
     "output_type": "stream",
     "text": [
      "The accuracy score achieved using Decision Tree is: 79.28 %\n"
     ]
    }
   ],
   "source": [
    "score_dt = round(accuracy_score(Y_pred_dt,Y_test)*100,2)\n",
    "\n",
    "print(\"The accuracy score achieved using Decision Tree is: \"+str(score_dt)+\" %\")"
   ]
  },
  {
   "cell_type": "code",
   "execution_count": 75,
   "metadata": {},
   "outputs": [
    {
     "data": {
      "text/plain": [
       "0.7927789075073154"
      ]
     },
     "execution_count": 75,
     "metadata": {},
     "output_type": "execute_result"
    }
   ],
   "source": [
    "f1_score(Y_test, Y_pred_dt, average='weighted')"
   ]
  },
  {
   "cell_type": "code",
   "execution_count": 76,
   "metadata": {
    "colab": {
     "base_uri": "https://localhost:8080/"
    },
    "id": "BmJs17AjHL_Y",
    "outputId": "ac443032-cde7-42e4-f74b-d96f97fc0001"
   },
   "outputs": [
    {
     "name": "stdout",
     "output_type": "stream",
     "text": [
      "Classification Report\n",
      "               precision    recall  f1-score   support\n",
      "\n",
      "           0       0.77      0.77      0.77      3931\n",
      "           1       0.81      0.81      0.81      4963\n",
      "\n",
      "    accuracy                           0.79      8894\n",
      "   macro avg       0.79      0.79      0.79      8894\n",
      "weighted avg       0.79      0.79      0.79      8894\n",
      "\n"
     ]
    }
   ],
   "source": [
    "print('Classification Report\\n', classification_report(Y_test, Y_pred_dt))"
   ]
  },
  {
   "cell_type": "markdown",
   "metadata": {
    "_uuid": "9e663d26efb00a434751f06ad0292949eff6c358",
    "id": "Ddav5CdxHL_Z"
   },
   "source": [
    "### Random Forest"
   ]
  },
  {
   "cell_type": "code",
   "execution_count": 19,
   "metadata": {
    "_uuid": "8284f5222cf90be1bcd37887c45f91cf22ed1193",
    "id": "94lcqcIpHL_a"
   },
   "outputs": [],
   "source": [
    "from sklearn.ensemble import RandomForestClassifier\n",
    "\n",
    "max_accuracy = 0\n",
    "\n",
    "\n",
    "for x in range(2):\n",
    "    rf = RandomForestClassifier(random_state=x, min_samples_split=3, n_estimators=500,max_features=0.9)\n",
    "    rf.fit(X_train,Y_train)\n",
    "    Y_pred_rf = rf.predict(X_test)\n",
    "    current_accuracy = round(accuracy_score(Y_pred_rf,Y_test)*100,2)\n",
    "    if(current_accuracy>max_accuracy):\n",
    "        max_accuracy = current_accuracy\n",
    "        best_x = x\n",
    "        \n",
    "#print(max_accuracy)\n",
    "#print(best_x)\n",
    "\n",
    "rf = RandomForestClassifier(random_state=best_x)\n",
    "rf.fit(X_train,Y_train)\n",
    "Y_pred_rf = rf.predict(X_test)"
   ]
  },
  {
   "cell_type": "code",
   "execution_count": 20,
   "metadata": {
    "_uuid": "edc8e1cbb57be0aa9e9ad5f4997212d53a9a4c99",
    "colab": {
     "base_uri": "https://localhost:8080/"
    },
    "id": "tX7mvNKaHL_a",
    "outputId": "67c00e24-a706-4a0c-dacf-408ce85c5605"
   },
   "outputs": [
    {
     "data": {
      "text/plain": [
       "(8894,)"
      ]
     },
     "execution_count": 20,
     "metadata": {},
     "output_type": "execute_result"
    }
   ],
   "source": [
    "Y_pred_rf.shape"
   ]
  },
  {
   "cell_type": "code",
   "execution_count": 21,
   "metadata": {
    "_uuid": "965228f30e05e07e7960a3375dc7dc85b49caed7",
    "colab": {
     "base_uri": "https://localhost:8080/"
    },
    "id": "LV7cYJCfHL_b",
    "outputId": "2c8762d2-5041-4f97-e0a3-09259da41eff"
   },
   "outputs": [
    {
     "name": "stdout",
     "output_type": "stream",
     "text": [
      "The accuracy score achieved using Decision Tree is: 84.87 %\n"
     ]
    }
   ],
   "source": [
    "score_rf = round(accuracy_score(Y_pred_rf,Y_test)*100,2)\n",
    "\n",
    "print(\"The accuracy score achieved using Decision Tree is: \"+str(score_rf)+\" %\")"
   ]
  },
  {
   "cell_type": "code",
   "execution_count": 22,
   "metadata": {},
   "outputs": [
    {
     "data": {
      "text/plain": [
       "0.84905410083448"
      ]
     },
     "execution_count": 22,
     "metadata": {},
     "output_type": "execute_result"
    }
   ],
   "source": [
    "f1_score(Y_test, Y_pred_rf, average='weighted')"
   ]
  },
  {
   "cell_type": "code",
   "execution_count": 23,
   "metadata": {
    "colab": {
     "base_uri": "https://localhost:8080/"
    },
    "id": "BPO1fA93HL_b",
    "outputId": "b55a86c1-98b6-4917-8d89-3b814d075d48"
   },
   "outputs": [
    {
     "name": "stdout",
     "output_type": "stream",
     "text": [
      "Classification Report\n",
      "               precision    recall  f1-score   support\n",
      "\n",
      "           0       0.78      0.93      0.84      3931\n",
      "           1       0.93      0.79      0.85      4963\n",
      "\n",
      "    accuracy                           0.85      8894\n",
      "   macro avg       0.85      0.86      0.85      8894\n",
      "weighted avg       0.86      0.85      0.85      8894\n",
      "\n"
     ]
    }
   ],
   "source": [
    "print('Classification Report\\n', classification_report(Y_test, Y_pred_rf))"
   ]
  },
  {
   "cell_type": "code",
   "execution_count": 24,
   "metadata": {},
   "outputs": [
    {
     "data": {
      "text/html": [
       "<style>#sk-container-id-1 {color: black;}#sk-container-id-1 pre{padding: 0;}#sk-container-id-1 div.sk-toggleable {background-color: white;}#sk-container-id-1 label.sk-toggleable__label {cursor: pointer;display: block;width: 100%;margin-bottom: 0;padding: 0.3em;box-sizing: border-box;text-align: center;}#sk-container-id-1 label.sk-toggleable__label-arrow:before {content: \"▸\";float: left;margin-right: 0.25em;color: #696969;}#sk-container-id-1 label.sk-toggleable__label-arrow:hover:before {color: black;}#sk-container-id-1 div.sk-estimator:hover label.sk-toggleable__label-arrow:before {color: black;}#sk-container-id-1 div.sk-toggleable__content {max-height: 0;max-width: 0;overflow: hidden;text-align: left;background-color: #f0f8ff;}#sk-container-id-1 div.sk-toggleable__content pre {margin: 0.2em;color: black;border-radius: 0.25em;background-color: #f0f8ff;}#sk-container-id-1 input.sk-toggleable__control:checked~div.sk-toggleable__content {max-height: 200px;max-width: 100%;overflow: auto;}#sk-container-id-1 input.sk-toggleable__control:checked~label.sk-toggleable__label-arrow:before {content: \"▾\";}#sk-container-id-1 div.sk-estimator input.sk-toggleable__control:checked~label.sk-toggleable__label {background-color: #d4ebff;}#sk-container-id-1 div.sk-label input.sk-toggleable__control:checked~label.sk-toggleable__label {background-color: #d4ebff;}#sk-container-id-1 input.sk-hidden--visually {border: 0;clip: rect(1px 1px 1px 1px);clip: rect(1px, 1px, 1px, 1px);height: 1px;margin: -1px;overflow: hidden;padding: 0;position: absolute;width: 1px;}#sk-container-id-1 div.sk-estimator {font-family: monospace;background-color: #f0f8ff;border: 1px dotted black;border-radius: 0.25em;box-sizing: border-box;margin-bottom: 0.5em;}#sk-container-id-1 div.sk-estimator:hover {background-color: #d4ebff;}#sk-container-id-1 div.sk-parallel-item::after {content: \"\";width: 100%;border-bottom: 1px solid gray;flex-grow: 1;}#sk-container-id-1 div.sk-label:hover label.sk-toggleable__label {background-color: #d4ebff;}#sk-container-id-1 div.sk-serial::before {content: \"\";position: absolute;border-left: 1px solid gray;box-sizing: border-box;top: 0;bottom: 0;left: 50%;z-index: 0;}#sk-container-id-1 div.sk-serial {display: flex;flex-direction: column;align-items: center;background-color: white;padding-right: 0.2em;padding-left: 0.2em;position: relative;}#sk-container-id-1 div.sk-item {position: relative;z-index: 1;}#sk-container-id-1 div.sk-parallel {display: flex;align-items: stretch;justify-content: center;background-color: white;position: relative;}#sk-container-id-1 div.sk-item::before, #sk-container-id-1 div.sk-parallel-item::before {content: \"\";position: absolute;border-left: 1px solid gray;box-sizing: border-box;top: 0;bottom: 0;left: 50%;z-index: -1;}#sk-container-id-1 div.sk-parallel-item {display: flex;flex-direction: column;z-index: 1;position: relative;background-color: white;}#sk-container-id-1 div.sk-parallel-item:first-child::after {align-self: flex-end;width: 50%;}#sk-container-id-1 div.sk-parallel-item:last-child::after {align-self: flex-start;width: 50%;}#sk-container-id-1 div.sk-parallel-item:only-child::after {width: 0;}#sk-container-id-1 div.sk-dashed-wrapped {border: 1px dashed gray;margin: 0 0.4em 0.5em 0.4em;box-sizing: border-box;padding-bottom: 0.4em;background-color: white;}#sk-container-id-1 div.sk-label label {font-family: monospace;font-weight: bold;display: inline-block;line-height: 1.2em;}#sk-container-id-1 div.sk-label-container {text-align: center;}#sk-container-id-1 div.sk-container {/* jupyter's `normalize.less` sets `[hidden] { display: none; }` but bootstrap.min.css set `[hidden] { display: none !important; }` so we also need the `!important` here to be able to override the default hidden behavior on the sphinx rendered scikit-learn.org. See: https://github.com/scikit-learn/scikit-learn/issues/21755 */display: inline-block !important;position: relative;}#sk-container-id-1 div.sk-text-repr-fallback {display: none;}</style><div id=\"sk-container-id-1\" class=\"sk-top-container\"><div class=\"sk-text-repr-fallback\"><pre>RandomForestClassifier(max_features=0.5, min_samples_leaf=4, n_estimators=2000,\n",
       "                       n_jobs=-1, oob_score=True)</pre><b>In a Jupyter environment, please rerun this cell to show the HTML representation or trust the notebook. <br />On GitHub, the HTML representation is unable to render, please try loading this page with nbviewer.org.</b></div><div class=\"sk-container\" hidden><div class=\"sk-item\"><div class=\"sk-estimator sk-toggleable\"><input class=\"sk-toggleable__control sk-hidden--visually\" id=\"sk-estimator-id-1\" type=\"checkbox\" checked><label for=\"sk-estimator-id-1\" class=\"sk-toggleable__label sk-toggleable__label-arrow\">RandomForestClassifier</label><div class=\"sk-toggleable__content\"><pre>RandomForestClassifier(max_features=0.5, min_samples_leaf=4, n_estimators=2000,\n",
       "                       n_jobs=-1, oob_score=True)</pre></div></div></div></div></div>"
      ],
      "text/plain": [
       "RandomForestClassifier(max_features=0.5, min_samples_leaf=4, n_estimators=2000,\n",
       "                       n_jobs=-1, oob_score=True)"
      ]
     },
     "execution_count": 24,
     "metadata": {},
     "output_type": "execute_result"
    }
   ],
   "source": [
    "#2\n",
    "rf = RandomForestClassifier(n_estimators=2000, min_samples_leaf=4, max_features=0.5, n_jobs=-1, oob_score=True)\n",
    "rf.fit(X_train,Y_train)"
   ]
  },
  {
   "cell_type": "code",
   "execution_count": 25,
   "metadata": {},
   "outputs": [
    {
     "data": {
      "text/plain": [
       "0.84905410083448"
      ]
     },
     "execution_count": 25,
     "metadata": {},
     "output_type": "execute_result"
    }
   ],
   "source": [
    "f1_score(Y_test, Y_pred_rf, average='weighted')"
   ]
  },
  {
   "cell_type": "code",
   "execution_count": 27,
   "metadata": {},
   "outputs": [
    {
     "name": "stdout",
     "output_type": "stream",
     "text": [
      "Total number of Trees 2000\n",
      "Average number of nodes 3124\n",
      "Average maximum depth 31\n"
     ]
    }
   ],
   "source": [
    "n_nodes = []\n",
    "max_depths = []\n",
    "\n",
    "for ind_tree in rf.estimators_:\n",
    "    n_nodes.append(ind_tree.tree_.node_count)\n",
    "    max_depths.append(ind_tree.tree_.max_depth)\n",
    "    \n",
    "print(f'Total number of Trees {int(len(rf.estimators_))}')\n",
    "print(f'Average number of nodes {int(np.mean(n_nodes))}')\n",
    "print(f'Average maximum depth {int(np.mean(max_depths))}')\n"
   ]
  },
  {
   "cell_type": "code",
   "execution_count": null,
   "metadata": {},
   "outputs": [],
   "source": [
    "# visualizing the nth tree of the Random Forest (n=0)\n",
    "import graphviz\n",
    "from sklearn.tree import export_graphviz\n",
    "\n",
    "#dot_data = export_graphviz(rf.estimators_[0])\n",
    "graphviz.Source(export_graphviz(rf.estimators_[10],\n",
    "                                out_file=None,\n",
    "                                feature_names=features,\n",
    "                                class_names=[\"0\", \"1\"],\n",
    "                                node_ids = True,\n",
    "                                impurity=True))"
   ]
  },
  {
   "cell_type": "markdown",
   "metadata": {
    "_uuid": "6a0fc13a6c2fccd6a725a7691cfe95d74348a8ae",
    "id": "ObjiEkAnHL_c"
   },
   "source": [
    "### XGBoost"
   ]
  },
  {
   "cell_type": "code",
   "execution_count": 66,
   "metadata": {
    "_uuid": "5a437f3c0e190887e2192ecb1844eaa6eb1d34a7",
    "id": "BV0Gq2ZoHL_c"
   },
   "outputs": [
    {
     "name": "stdout",
     "output_type": "stream",
     "text": [
      "[0]\tvalidation_0-auc:0.90926\n",
      "[1]\tvalidation_0-auc:0.91572\n",
      "[2]\tvalidation_0-auc:0.91745\n",
      "[3]\tvalidation_0-auc:0.91990\n",
      "[4]\tvalidation_0-auc:0.92055\n",
      "[5]\tvalidation_0-auc:0.92172\n",
      "[6]\tvalidation_0-auc:0.92275\n",
      "[7]\tvalidation_0-auc:0.92289\n",
      "[8]\tvalidation_0-auc:0.92433\n",
      "[9]\tvalidation_0-auc:0.92479\n",
      "[10]\tvalidation_0-auc:0.92575\n",
      "[11]\tvalidation_0-auc:0.92626\n",
      "[12]\tvalidation_0-auc:0.92658\n",
      "[13]\tvalidation_0-auc:0.92747\n",
      "[14]\tvalidation_0-auc:0.92742\n",
      "[15]\tvalidation_0-auc:0.92795\n",
      "[16]\tvalidation_0-auc:0.92820\n",
      "[17]\tvalidation_0-auc:0.92865\n",
      "[18]\tvalidation_0-auc:0.92873\n",
      "[19]\tvalidation_0-auc:0.92867\n",
      "[20]\tvalidation_0-auc:0.92891\n",
      "[21]\tvalidation_0-auc:0.92923\n",
      "[22]\tvalidation_0-auc:0.92943\n",
      "[23]\tvalidation_0-auc:0.92948\n",
      "[24]\tvalidation_0-auc:0.92970\n",
      "[25]\tvalidation_0-auc:0.92970\n",
      "[26]\tvalidation_0-auc:0.92984\n",
      "[27]\tvalidation_0-auc:0.92958\n",
      "[28]\tvalidation_0-auc:0.92959\n",
      "[29]\tvalidation_0-auc:0.92965\n",
      "[30]\tvalidation_0-auc:0.92912\n",
      "[31]\tvalidation_0-auc:0.92895\n"
     ]
    }
   ],
   "source": [
    "import xgboost as xgb\n",
    "\n",
    "xgb_model = xgb.XGBClassifier(objective=\"binary:logistic\", random_state=42, eval_metric=\"auc\")\n",
    "xgb_model.fit(X_train, Y_train, early_stopping_rounds=5, eval_set=[(X_test, Y_test)])\n",
    "\n",
    "Y_pred_xgb = xgb_model.predict(X_test)"
   ]
  },
  {
   "cell_type": "code",
   "execution_count": 67,
   "metadata": {},
   "outputs": [
    {
     "name": "stdout",
     "output_type": "stream",
     "text": [
      "best score: 0.9298375262621342, best iteration: 26\n"
     ]
    }
   ],
   "source": [
    "print(\"best score: {0}, best iteration: {1}\".format(xgb_model.best_score, xgb_model.best_iteration))"
   ]
  },
  {
   "cell_type": "code",
   "execution_count": 68,
   "metadata": {},
   "outputs": [
    {
     "data": {
      "text/plain": [
       "0.845576658765714"
      ]
     },
     "execution_count": 68,
     "metadata": {},
     "output_type": "execute_result"
    }
   ],
   "source": [
    "f1_score(Y_test, Y_pred_xgb, average='weighted')"
   ]
  },
  {
   "cell_type": "code",
   "execution_count": 69,
   "metadata": {
    "_uuid": "319c4f0d2e62b03c95a48df0ecc33b15e7fa7f39",
    "colab": {
     "base_uri": "https://localhost:8080/"
    },
    "id": "6Q-hZP3mHL_d",
    "outputId": "319f4574-1ec3-49b1-f58d-2ca46cc740d8"
   },
   "outputs": [
    {
     "name": "stdout",
     "output_type": "stream",
     "text": [
      "The accuracy score achieved using XGBoost is: 84.52 %\n"
     ]
    }
   ],
   "source": [
    "score_xgb = round(accuracy_score(Y_pred_xgb,Y_test)*100,2)\n",
    "\n",
    "print(\"The accuracy score achieved using XGBoost is: \"+str(score_xgb)+\" %\")"
   ]
  },
  {
   "cell_type": "code",
   "execution_count": 70,
   "metadata": {
    "colab": {
     "base_uri": "https://localhost:8080/"
    },
    "id": "cCs1NwWgHL_d",
    "outputId": "e5f58a60-110a-4b08-9cd7-399ef50d731a"
   },
   "outputs": [
    {
     "name": "stdout",
     "output_type": "stream",
     "text": [
      "Classification Report\n",
      "               precision    recall  f1-score   support\n",
      "\n",
      "           0       0.77      0.92      0.84      3931\n",
      "           1       0.93      0.78      0.85      4963\n",
      "\n",
      "    accuracy                           0.85      8894\n",
      "   macro avg       0.85      0.85      0.85      8894\n",
      "weighted avg       0.86      0.85      0.85      8894\n",
      "\n"
     ]
    }
   ],
   "source": [
    "print('Classification Report\\n', classification_report(Y_test, Y_pred_xgb))"
   ]
  },
  {
   "cell_type": "code",
   "execution_count": null,
   "metadata": {},
   "outputs": [],
   "source": []
  },
  {
   "cell_type": "code",
   "execution_count": null,
   "metadata": {},
   "outputs": [],
   "source": []
  }
 ],
 "metadata": {
  "colab": {
   "name": "News Quality Prediction - Annotated Dataset.ipynb",
   "provenance": []
  },
  "kernelspec": {
   "display_name": "Python 3 (ipykernel)",
   "language": "python",
   "name": "python3"
  },
  "language_info": {
   "codemirror_mode": {
    "name": "ipython",
    "version": 3
   },
   "file_extension": ".py",
   "mimetype": "text/x-python",
   "name": "python",
   "nbconvert_exporter": "python",
   "pygments_lexer": "ipython3",
   "version": "3.8.10"
  }
 },
 "nbformat": 4,
 "nbformat_minor": 4
}
