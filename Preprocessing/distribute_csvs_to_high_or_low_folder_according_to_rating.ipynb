{
 "cells": [
  {
   "cell_type": "code",
   "execution_count": 1,
   "id": "38293839",
   "metadata": {},
   "outputs": [],
   "source": [
    "import shutil\n",
    "import pandas as pd"
   ]
  },
  {
   "cell_type": "code",
   "execution_count": 2,
   "id": "6bc09783",
   "metadata": {},
   "outputs": [
    {
     "name": "stdout",
     "output_type": "stream",
     "text": [
      "(241, 4)\n"
     ]
    },
    {
     "data": {
      "text/html": [
       "<div>\n",
       "<style scoped>\n",
       "    .dataframe tbody tr th:only-of-type {\n",
       "        vertical-align: middle;\n",
       "    }\n",
       "\n",
       "    .dataframe tbody tr th {\n",
       "        vertical-align: top;\n",
       "    }\n",
       "\n",
       "    .dataframe thead th {\n",
       "        text-align: right;\n",
       "    }\n",
       "</style>\n",
       "<table border=\"1\" class=\"dataframe\">\n",
       "  <thead>\n",
       "    <tr style=\"text-align: right;\">\n",
       "      <th></th>\n",
       "      <th>news_site</th>\n",
       "      <th>url</th>\n",
       "      <th>rate</th>\n",
       "      <th>Unnamed: 3</th>\n",
       "    </tr>\n",
       "  </thead>\n",
       "  <tbody>\n",
       "    <tr>\n",
       "      <th>0</th>\n",
       "      <td>creteplus.gr</td>\n",
       "      <td>https://creteplus.gr</td>\n",
       "      <td>high</td>\n",
       "      <td>NaN</td>\n",
       "    </tr>\n",
       "  </tbody>\n",
       "</table>\n",
       "</div>"
      ],
      "text/plain": [
       "      news_site                   url  rate Unnamed: 3\n",
       "0  creteplus.gr  https://creteplus.gr  high        NaN"
      ]
     },
     "execution_count": 2,
     "metadata": {},
     "output_type": "execute_result"
    }
   ],
   "source": [
    "news_sites_df = pd.read_csv('iq_sites_list_rated(updated).csv')\n",
    "print(news_sites_df.shape)\n",
    "news_sites_df.head(1)"
   ]
  },
  {
   "cell_type": "code",
   "execution_count": 3,
   "id": "e1eab4f3",
   "metadata": {},
   "outputs": [
    {
     "data": {
      "text/plain": [
       "array(['high', 'low'], dtype=object)"
      ]
     },
     "execution_count": 3,
     "metadata": {},
     "output_type": "execute_result"
    }
   ],
   "source": [
    "news_sites_df['rate'].unique()"
   ]
  },
  {
   "cell_type": "code",
   "execution_count": 4,
   "id": "b6f69940",
   "metadata": {},
   "outputs": [
    {
     "data": {
      "text/plain": [
       "array([nan, 'CY', 'sports website', 'not found', 'non news site',\n",
       "       'travel website', 'non news site / CY', 'UK',\n",
       "       'sports website / CY'], dtype=object)"
      ]
     },
     "execution_count": 4,
     "metadata": {},
     "output_type": "execute_result"
    }
   ],
   "source": [
    "news_sites_df['Unnamed: 3'].unique()"
   ]
  },
  {
   "cell_type": "code",
   "execution_count": 5,
   "id": "cc5f4f44",
   "metadata": {},
   "outputs": [
    {
     "data": {
      "text/plain": [
       "news_site     49\n",
       "url           49\n",
       "rate          49\n",
       "Unnamed: 3    49\n",
       "dtype: int64"
      ]
     },
     "execution_count": 5,
     "metadata": {},
     "output_type": "execute_result"
    }
   ],
   "source": [
    "news_sites_df[~news_sites_df['Unnamed: 3'].isna()].count()"
   ]
  },
  {
   "cell_type": "code",
   "execution_count": 6,
   "id": "e12a1ed8",
   "metadata": {},
   "outputs": [
    {
     "data": {
      "text/plain": [
       "(192, 4)"
      ]
     },
     "execution_count": 6,
     "metadata": {},
     "output_type": "execute_result"
    }
   ],
   "source": [
    "news_sites_df2 = news_sites_df[news_sites_df['Unnamed: 3'].isna()]\n",
    "news_sites_df2.shape"
   ]
  },
  {
   "cell_type": "code",
   "execution_count": 7,
   "id": "47a03f97",
   "metadata": {},
   "outputs": [
    {
     "data": {
      "text/html": [
       "<div>\n",
       "<style scoped>\n",
       "    .dataframe tbody tr th:only-of-type {\n",
       "        vertical-align: middle;\n",
       "    }\n",
       "\n",
       "    .dataframe tbody tr th {\n",
       "        vertical-align: top;\n",
       "    }\n",
       "\n",
       "    .dataframe thead th {\n",
       "        text-align: right;\n",
       "    }\n",
       "</style>\n",
       "<table border=\"1\" class=\"dataframe\">\n",
       "  <thead>\n",
       "    <tr style=\"text-align: right;\">\n",
       "      <th></th>\n",
       "      <th>news_site</th>\n",
       "    </tr>\n",
       "    <tr>\n",
       "      <th>rate</th>\n",
       "      <th></th>\n",
       "    </tr>\n",
       "  </thead>\n",
       "  <tbody>\n",
       "    <tr>\n",
       "      <th>high</th>\n",
       "      <td>106</td>\n",
       "    </tr>\n",
       "    <tr>\n",
       "      <th>low</th>\n",
       "      <td>86</td>\n",
       "    </tr>\n",
       "  </tbody>\n",
       "</table>\n",
       "</div>"
      ],
      "text/plain": [
       "      news_site\n",
       "rate           \n",
       "high        106\n",
       "low          86"
      ]
     },
     "execution_count": 7,
     "metadata": {},
     "output_type": "execute_result"
    }
   ],
   "source": [
    "news_sites_df2.groupby('rate')[['news_site']].count()"
   ]
  },
  {
   "cell_type": "markdown",
   "id": "2b9b4660",
   "metadata": {},
   "source": [
    "**Για το dataset \"iqcsv\" (2016)**"
   ]
  },
  {
   "cell_type": "code",
   "execution_count": 8,
   "id": "d85bf3ac",
   "metadata": {},
   "outputs": [],
   "source": [
    "# iqcsv_main_path = '0_innews_data_sets/iqcsv/'\n",
    "# highq_folder_path = 'high_quality_sites'\n",
    "# lowq_folder_path = 'low_quality_sites'\n",
    "# for index, row in news_sites_df2.iterrows():\n",
    "#     original_csv = iqcsv_main_path + row['news_site'] + '.csv'\n",
    "#     if row['rate'] == 'high':\n",
    "#         shutil.copy(original_csv, highq_folder_path)\n",
    "#     elif row['rate'] == 'low':\n",
    "#         shutil.copy(original_csv, lowq_folder_path)"
   ]
  },
  {
   "cell_type": "markdown",
   "id": "2fcf1971",
   "metadata": {},
   "source": [
    "**Για το dataset \"exports_2017\"**"
   ]
  },
  {
   "cell_type": "code",
   "execution_count": 10,
   "id": "cdbe6faa",
   "metadata": {},
   "outputs": [],
   "source": [
    "exp_2017_main_path = '0_innews_data_sets/exports_2017/'\n",
    "highq_folder_path = 'high_quality_sites/2017-2018/'\n",
    "lowq_folder_path = 'low_quality_sites/2017-2018'\n",
    "for index, row in news_sites_df2.iterrows():\n",
    "    try:\n",
    "        original_csv = exp_2017_main_path + row['news_site'] + '.csv'\n",
    "        if row['rate'] == 'high':\n",
    "            shutil.copy(original_csv, highq_folder_path)\n",
    "        elif row['rate'] == 'low':\n",
    "            shutil.copy(original_csv, lowq_folder_path)\n",
    "    except:\n",
    "        pass"
   ]
  },
  {
   "cell_type": "markdown",
   "id": "9904dac6",
   "metadata": {},
   "source": [
    "**Για το dataset \"exports_2022\"**"
   ]
  },
  {
   "cell_type": "code",
   "execution_count": 11,
   "id": "de5db133",
   "metadata": {},
   "outputs": [],
   "source": [
    "exp_2022_main_path = '0_innews_data_sets/exports_2022/'\n",
    "highq_folder_path = 'high_quality_sites/2022-2023/'\n",
    "lowq_folder_path = 'low_quality_sites/2022-2023'\n",
    "for index, row in news_sites_df2.iterrows():\n",
    "    try:\n",
    "        original_csv = exp_2022_main_path + row['news_site'] + '.csv'\n",
    "        if row['rate'] == 'high':\n",
    "            shutil.copy(original_csv, highq_folder_path)\n",
    "        elif row['rate'] == 'low':\n",
    "            shutil.copy(original_csv, lowq_folder_path)\n",
    "    except:\n",
    "        pass"
   ]
  }
 ],
 "metadata": {
  "kernelspec": {
   "display_name": "Python 3 (ipykernel)",
   "language": "python",
   "name": "python3"
  },
  "language_info": {
   "codemirror_mode": {
    "name": "ipython",
    "version": 3
   },
   "file_extension": ".py",
   "mimetype": "text/x-python",
   "name": "python",
   "nbconvert_exporter": "python",
   "pygments_lexer": "ipython3",
   "version": "3.8.10"
  }
 },
 "nbformat": 4,
 "nbformat_minor": 5
}
