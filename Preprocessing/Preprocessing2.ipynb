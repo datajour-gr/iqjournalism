{
 "cells": [
  {
   "cell_type": "code",
   "execution_count": 1,
   "id": "5c72c79d",
   "metadata": {},
   "outputs": [],
   "source": [
    "import pandas as pd\n",
    "\n",
    "import numpy as np\n",
    "\n",
    "from datetime import date \n",
    "from datetime import datetime, timedelta\n",
    "import sys\n",
    "\n",
    "import os\n",
    "from pathlib import Path\n",
    "\n",
    "import time\n",
    "\n",
    "import re\n",
    "\n",
    "import shutil\n",
    "\n",
    "from os import listdir\n",
    "from os.path import isfile, join"
   ]
  },
  {
   "cell_type": "code",
   "execution_count": 2,
   "id": "66d6dbda",
   "metadata": {},
   "outputs": [],
   "source": [
    "import sys \n",
    "#!{sys.executable} -m pip install --user matplotlib"
   ]
  },
  {
   "cell_type": "markdown",
   "id": "e48d65b3",
   "metadata": {},
   "source": [
    "**Read sites list with ratings**"
   ]
  },
  {
   "cell_type": "code",
   "execution_count": 3,
   "id": "24f80524",
   "metadata": {},
   "outputs": [
    {
     "data": {
      "text/html": [
       "<div>\n",
       "<style scoped>\n",
       "    .dataframe tbody tr th:only-of-type {\n",
       "        vertical-align: middle;\n",
       "    }\n",
       "\n",
       "    .dataframe tbody tr th {\n",
       "        vertical-align: top;\n",
       "    }\n",
       "\n",
       "    .dataframe thead th {\n",
       "        text-align: right;\n",
       "    }\n",
       "</style>\n",
       "<table border=\"1\" class=\"dataframe\">\n",
       "  <thead>\n",
       "    <tr style=\"text-align: right;\">\n",
       "      <th></th>\n",
       "      <th>news_site</th>\n",
       "      <th>url</th>\n",
       "      <th>rate</th>\n",
       "      <th>Unnamed: 3</th>\n",
       "    </tr>\n",
       "  </thead>\n",
       "  <tbody>\n",
       "    <tr>\n",
       "      <th>0</th>\n",
       "      <td>creteplus.gr</td>\n",
       "      <td>https://creteplus.gr</td>\n",
       "      <td>high</td>\n",
       "      <td>NaN</td>\n",
       "    </tr>\n",
       "  </tbody>\n",
       "</table>\n",
       "</div>"
      ],
      "text/plain": [
       "      news_site                   url  rate Unnamed: 3\n",
       "0  creteplus.gr  https://creteplus.gr  high        NaN"
      ]
     },
     "execution_count": 3,
     "metadata": {},
     "output_type": "execute_result"
    }
   ],
   "source": [
    "sites_list_df = pd.read_csv('iq_sites_list_rated(updated).csv')\n",
    "sites_list_df.head(1)"
   ]
  },
  {
   "cell_type": "markdown",
   "id": "18a418e0",
   "metadata": {},
   "source": [
    "**Define column names**"
   ]
  },
  {
   "cell_type": "code",
   "execution_count": 4,
   "id": "8be38adb",
   "metadata": {},
   "outputs": [],
   "source": [
    "header_names = [\"type_s\", # τύπος social\n",
    "                \"url_s\", # url του social\n",
    "                \"external_link_s\", # url του άρθρου\n",
    "                \"source_s\", # όνομα του social\n",
    "                \"timestamp_dt\", # ημερομηνία δημοσίευσης στο social\n",
    "                \"text_txt_el\", # κείμενο στο social\n",
    "                \"retweet_count_l\", # πλήθος retweets (twitter)\n",
    "                \"followers_i\", # πλήθος followers (twitter)\n",
    "                \"following_i\", # πλήθος following (twitter)\n",
    "                \"mentions_i\", # πλήθος αναφορών (twitter)\n",
    "                \"comments_i\", # πλήθος σχολίων (fb)\n",
    "                \"likes_i\", # πλήθος likes (fb\n",
    "                \"full_artcl_text\" # κείμενο άρθρου στο site (δεν περιλαμβάνεται ο τίτλος)\n",
    "               ]"
   ]
  },
  {
   "cell_type": "markdown",
   "id": "a6211478",
   "metadata": {},
   "source": [
    "## **Define dataset** "
   ]
  },
  {
   "cell_type": "code",
   "execution_count": 5,
   "id": "a7a889c3",
   "metadata": {},
   "outputs": [],
   "source": [
    "#main_csvs_path = '0_innews_data_sets/iqcsv/'\n",
    "#main_csvs_path = '0_innews_data_sets/exports_2017/'\n",
    "main_csvs_path = '0_innews_data_sets/exports_2022/'"
   ]
  },
  {
   "cell_type": "markdown",
   "id": "de02bd54",
   "metadata": {},
   "source": [
    "## **Process**"
   ]
  },
  {
   "cell_type": "markdown",
   "id": "2e9f0a5d",
   "metadata": {},
   "source": [
    "**Make comp dfs for high and low quality sites**\n",
    "\n",
    "**!IMPORTANT: Δεν υπάρχουν low quality sites στα datasets του 2017-2018 και του 2022-2023**"
   ]
  },
  {
   "cell_type": "code",
   "execution_count": 6,
   "id": "a6b81da1",
   "metadata": {},
   "outputs": [],
   "source": [
    "# create dictionaries for the high and low sites dfs\n",
    "dfs_high = {}\n",
    "dfs_low = {}\n",
    "\n",
    "# read csv, make df, put it in the dictionary\n",
    "for index, row in sites_list_df.iterrows():\n",
    "    key = row['news_site']\n",
    "    csv_name = key + '.csv'\n",
    "    try:\n",
    "        site_df = pd.read_csv(main_csvs_path + csv_name, header=None, names=header_names, on_bad_lines='skip')\n",
    "        site_df['site'] = key\n",
    "        if row['rate'] == 'high':\n",
    "            dfs_high[key] = site_df\n",
    "        elif row['rate'] == 'low':\n",
    "            dfs_low[key] = site_df\n",
    "    except:\n",
    "        pass"
   ]
  },
  {
   "cell_type": "code",
   "execution_count": 7,
   "id": "7eade4b0",
   "metadata": {},
   "outputs": [],
   "source": [
    "# make comp dfs for high and low dfs\n",
    "for q in ['high', 'low']:\n",
    "    try:\n",
    "        if q == 'high':\n",
    "            for i in range(0, len(dfs_high)-1):\n",
    "                if i == 0:\n",
    "                    high_comp_df = pd.concat([dfs_high[list(dfs_high.keys())[i]], dfs_high[list(dfs_high.keys())[i+1]]],\n",
    "                                            ignore_index=True)\n",
    "                else:\n",
    "                    high_comp_df = pd.concat([high_comp_df, dfs_high[list(dfs_high.keys())[i+1]]],\n",
    "                                            ignore_index=True)\n",
    "        elif q == 'low':\n",
    "            for i in range(0, len(dfs_low)-1):\n",
    "                if i==0:\n",
    "                    low_comp_df = pd.concat([dfs_low[list(dfs_low.keys())[i]], dfs_low[list(dfs_low.keys())[i+1]]],\n",
    "                                           ignore_index=True)\n",
    "                else:\n",
    "                    low_comp_df = pd.concat([low_comp_df, dfs_low[list(dfs_low.keys())[i+1]]],\n",
    "                                           ignore_index=True)\n",
    "    except:\n",
    "        pass\n",
    "# high_comp_df.reset_index(drop=True, inplace=True)\n",
    "# low_comp_df.reset_index(drop=True, inplace=True)"
   ]
  },
  {
   "cell_type": "markdown",
   "id": "fb531808",
   "metadata": {},
   "source": [
    "**Add ID column**"
   ]
  },
  {
   "cell_type": "code",
   "execution_count": 8,
   "id": "7d5cefc0",
   "metadata": {},
   "outputs": [],
   "source": [
    "try:\n",
    "    high_comp_df.insert(0, 'in_id', high_comp_df.index)\n",
    "    low_comp_df.insert(0, 'in_id', low_comp_df.index)\n",
    "except:\n",
    "    pass"
   ]
  },
  {
   "cell_type": "code",
   "execution_count": 9,
   "id": "2a66df01",
   "metadata": {},
   "outputs": [
    {
     "name": "stdout",
     "output_type": "stream",
     "text": [
      "(1967485, 15)\n"
     ]
    }
   ],
   "source": [
    "try:\n",
    "    print(high_comp_df.shape)\n",
    "    high_comp_df.tail(1)\n",
    "except:\n",
    "    print(\"no high quality sites\")\n",
    "    pass"
   ]
  },
  {
   "cell_type": "code",
   "execution_count": 10,
   "id": "b9a28db1",
   "metadata": {},
   "outputs": [
    {
     "name": "stdout",
     "output_type": "stream",
     "text": [
      "no low quality sites\n"
     ]
    }
   ],
   "source": [
    "try:\n",
    "    print(low_comp_df.shape)\n",
    "    low_comp_df.tail(1)\n",
    "except:\n",
    "    print(\"no low quality sites\")\n",
    "    pass"
   ]
  },
  {
   "cell_type": "markdown",
   "id": "0e868a01",
   "metadata": {},
   "source": [
    "**Pre-process (correct) data**"
   ]
  },
  {
   "cell_type": "code",
   "execution_count": 11,
   "id": "6372c2cc",
   "metadata": {},
   "outputs": [
    {
     "data": {
      "text/html": [
       "<div>\n",
       "<style scoped>\n",
       "    .dataframe tbody tr th:only-of-type {\n",
       "        vertical-align: middle;\n",
       "    }\n",
       "\n",
       "    .dataframe tbody tr th {\n",
       "        vertical-align: top;\n",
       "    }\n",
       "\n",
       "    .dataframe thead th {\n",
       "        text-align: right;\n",
       "    }\n",
       "</style>\n",
       "<table border=\"1\" class=\"dataframe\">\n",
       "  <thead>\n",
       "    <tr style=\"text-align: right;\">\n",
       "      <th></th>\n",
       "      <th>in_id</th>\n",
       "      <th>type_s</th>\n",
       "      <th>url_s</th>\n",
       "      <th>external_link_s</th>\n",
       "      <th>source_s</th>\n",
       "      <th>timestamp_dt</th>\n",
       "      <th>text_txt_el</th>\n",
       "      <th>retweet_count_l</th>\n",
       "      <th>followers_i</th>\n",
       "      <th>following_i</th>\n",
       "      <th>mentions_i</th>\n",
       "      <th>comments_i</th>\n",
       "      <th>likes_i</th>\n",
       "      <th>full_artcl_text</th>\n",
       "      <th>site</th>\n",
       "    </tr>\n",
       "  </thead>\n",
       "  <tbody>\n",
       "    <tr>\n",
       "      <th>1967480</th>\n",
       "      <td>1967480</td>\n",
       "      <td>https://twitter.com/PressPublica/status/107981...</td>\n",
       "      <td>https://www.presspublica.gr/toyrkia-vinteo-me-...</td>\n",
       "      <td>Τουρκία: Βίντεο με άνδρες που φέρεται ότι μετα...</td>\n",
       "      <td>PressPublica</td>\n",
       "      <td>2018-12-31T21:17:45Z</td>\n",
       "      <td>Τουρκία: Βίντεο με άνδρες που φέρεται ότι μετα...</td>\n",
       "      <td>0</td>\n",
       "      <td>1396</td>\n",
       "      <td>432</td>\n",
       "      <td>0</td>\n",
       "      <td>0</td>\n",
       "      <td>0.0</td>\n",
       "      <td>Άνδρες που μεταφέρουν βαλίτσες, μέσα στις οποί...</td>\n",
       "      <td>presspublica.gr</td>\n",
       "    </tr>\n",
       "    <tr>\n",
       "      <th>1967481</th>\n",
       "      <td>1967481</td>\n",
       "      <td>https://twitter.com/PressPublica/status/107982...</td>\n",
       "      <td>https://www.presspublica.gr/st-theodorakis-to-...</td>\n",
       "      <td>Στ. Θεοδωράκης: Το 2019 να σκεφτούμε και να πρ...</td>\n",
       "      <td>PressPublica</td>\n",
       "      <td>2018-12-31T21:27:40Z</td>\n",
       "      <td>Στ. Θεοδωράκης: Το 2019 να σκεφτούμε και να πρ...</td>\n",
       "      <td>0</td>\n",
       "      <td>1396</td>\n",
       "      <td>432</td>\n",
       "      <td>0</td>\n",
       "      <td>0</td>\n",
       "      <td>0.0</td>\n",
       "      <td>«Το 2019 μπορεί να είναι μία αληθινά νέα χρονι...</td>\n",
       "      <td>presspublica.gr</td>\n",
       "    </tr>\n",
       "    <tr>\n",
       "      <th>1967482</th>\n",
       "      <td>1967482</td>\n",
       "      <td>https://twitter.com/PressPublica/status/107982...</td>\n",
       "      <td>https://www.presspublica.gr/mitsotakis-i-chora...</td>\n",
       "      <td>Μητσοτάκης: Η χώρα δεν χρειάζεται άλλους διχασ...</td>\n",
       "      <td>PressPublica</td>\n",
       "      <td>2018-12-31T21:49:19Z</td>\n",
       "      <td>Μητσοτάκης: Η χώρα δεν χρειάζεται άλλους διχασ...</td>\n",
       "      <td>0</td>\n",
       "      <td>1396</td>\n",
       "      <td>432</td>\n",
       "      <td>0</td>\n",
       "      <td>0</td>\n",
       "      <td>0.0</td>\n",
       "      <td>«Το γύρισμα του χρόνου μάς οδηγεί και σε ένα γ...</td>\n",
       "      <td>presspublica.gr</td>\n",
       "    </tr>\n",
       "    <tr>\n",
       "      <th>1967483</th>\n",
       "      <td>1967483</td>\n",
       "      <td>https://twitter.com/PressPublica/status/107982...</td>\n",
       "      <td>https://www.presspublica.gr/tramp-argi-i-apoch...</td>\n",
       "      <td>Τραμπ: «Αργή» η αποχώρηση των Αμερικανών στρατ...</td>\n",
       "      <td>PressPublica</td>\n",
       "      <td>2018-12-31T21:52:09Z</td>\n",
       "      <td>Τραμπ: «Αργή» η αποχώρηση των Αμερικανών στρατ...</td>\n",
       "      <td>0</td>\n",
       "      <td>1396</td>\n",
       "      <td>432</td>\n",
       "      <td>0</td>\n",
       "      <td>0</td>\n",
       "      <td>0.0</td>\n",
       "      <td>Ο πρόεδρος των ΗΠΑ\\nΝτόναλντ Τραμπ επιβεβαίωσε...</td>\n",
       "      <td>presspublica.gr</td>\n",
       "    </tr>\n",
       "    <tr>\n",
       "      <th>1967484</th>\n",
       "      <td>1967484</td>\n",
       "      <td>https://twitter.com/PressPublica/status/107982...</td>\n",
       "      <td>https://www.presspublica.gr/erntogan-minyma-ap...</td>\n",
       "      <td>Ερντογάν: Μήνυμα αποφασιστικότητας για Αιγαίο ...</td>\n",
       "      <td>PressPublica</td>\n",
       "      <td>2018-12-31T21:55:13Z</td>\n",
       "      <td>Ερντογάν: Μήνυμα αποφασιστικότητας για Αιγαίο ...</td>\n",
       "      <td>0</td>\n",
       "      <td>1396</td>\n",
       "      <td>432</td>\n",
       "      <td>0</td>\n",
       "      <td>0</td>\n",
       "      <td>0.0</td>\n",
       "      <td>Μήνυμα πως η Τουρκία επιδεικνύει την αποφασιστ...</td>\n",
       "      <td>presspublica.gr</td>\n",
       "    </tr>\n",
       "  </tbody>\n",
       "</table>\n",
       "</div>"
      ],
      "text/plain": [
       "           in_id                                             type_s  \\\n",
       "1967480  1967480  https://twitter.com/PressPublica/status/107981...   \n",
       "1967481  1967481  https://twitter.com/PressPublica/status/107982...   \n",
       "1967482  1967482  https://twitter.com/PressPublica/status/107982...   \n",
       "1967483  1967483  https://twitter.com/PressPublica/status/107982...   \n",
       "1967484  1967484  https://twitter.com/PressPublica/status/107982...   \n",
       "\n",
       "                                                     url_s  \\\n",
       "1967480  https://www.presspublica.gr/toyrkia-vinteo-me-...   \n",
       "1967481  https://www.presspublica.gr/st-theodorakis-to-...   \n",
       "1967482  https://www.presspublica.gr/mitsotakis-i-chora...   \n",
       "1967483  https://www.presspublica.gr/tramp-argi-i-apoch...   \n",
       "1967484  https://www.presspublica.gr/erntogan-minyma-ap...   \n",
       "\n",
       "                                           external_link_s      source_s  \\\n",
       "1967480  Τουρκία: Βίντεο με άνδρες που φέρεται ότι μετα...  PressPublica   \n",
       "1967481  Στ. Θεοδωράκης: Το 2019 να σκεφτούμε και να πρ...  PressPublica   \n",
       "1967482  Μητσοτάκης: Η χώρα δεν χρειάζεται άλλους διχασ...  PressPublica   \n",
       "1967483  Τραμπ: «Αργή» η αποχώρηση των Αμερικανών στρατ...  PressPublica   \n",
       "1967484  Ερντογάν: Μήνυμα αποφασιστικότητας για Αιγαίο ...  PressPublica   \n",
       "\n",
       "                 timestamp_dt  \\\n",
       "1967480  2018-12-31T21:17:45Z   \n",
       "1967481  2018-12-31T21:27:40Z   \n",
       "1967482  2018-12-31T21:49:19Z   \n",
       "1967483  2018-12-31T21:52:09Z   \n",
       "1967484  2018-12-31T21:55:13Z   \n",
       "\n",
       "                                               text_txt_el retweet_count_l  \\\n",
       "1967480  Τουρκία: Βίντεο με άνδρες που φέρεται ότι μετα...               0   \n",
       "1967481  Στ. Θεοδωράκης: Το 2019 να σκεφτούμε και να πρ...               0   \n",
       "1967482  Μητσοτάκης: Η χώρα δεν χρειάζεται άλλους διχασ...               0   \n",
       "1967483  Τραμπ: «Αργή» η αποχώρηση των Αμερικανών στρατ...               0   \n",
       "1967484  Ερντογάν: Μήνυμα αποφασιστικότητας για Αιγαίο ...               0   \n",
       "\n",
       "        followers_i following_i mentions_i comments_i  likes_i  \\\n",
       "1967480        1396         432          0          0      0.0   \n",
       "1967481        1396         432          0          0      0.0   \n",
       "1967482        1396         432          0          0      0.0   \n",
       "1967483        1396         432          0          0      0.0   \n",
       "1967484        1396         432          0          0      0.0   \n",
       "\n",
       "                                           full_artcl_text             site  \n",
       "1967480  Άνδρες που μεταφέρουν βαλίτσες, μέσα στις οποί...  presspublica.gr  \n",
       "1967481  «Το 2019 μπορεί να είναι μία αληθινά νέα χρονι...  presspublica.gr  \n",
       "1967482  «Το γύρισμα του χρόνου μάς οδηγεί και σε ένα γ...  presspublica.gr  \n",
       "1967483  Ο πρόεδρος των ΗΠΑ\\nΝτόναλντ Τραμπ επιβεβαίωσε...  presspublica.gr  \n",
       "1967484  Μήνυμα πως η Τουρκία επιδεικνύει την αποφασιστ...  presspublica.gr  "
      ]
     },
     "execution_count": 11,
     "metadata": {},
     "output_type": "execute_result"
    }
   ],
   "source": [
    "high_comp_df.tail()"
   ]
  },
  {
   "cell_type": "code",
   "execution_count": 12,
   "id": "3991b8e9",
   "metadata": {},
   "outputs": [
    {
     "data": {
      "text/plain": [
       "in_id              1967485\n",
       "type_s             1967453\n",
       "url_s              1378964\n",
       "external_link_s    1274676\n",
       "source_s                96\n",
       "timestamp_dt       1881526\n",
       "text_txt_el        1872709\n",
       "retweet_count_l         70\n",
       "followers_i           1332\n",
       "following_i             53\n",
       "mentions_i              32\n",
       "comments_i             393\n",
       "likes_i               1462\n",
       "full_artcl_text    1357518\n",
       "site                    56\n",
       "dtype: int64"
      ]
     },
     "execution_count": 12,
     "metadata": {},
     "output_type": "execute_result"
    }
   ],
   "source": [
    "high_comp_df.nunique()"
   ]
  },
  {
   "cell_type": "markdown",
   "id": "d55ab43d",
   "metadata": {},
   "source": [
    "**Στα csvs του 2017-2018 και του 2022-2023**:\n",
    "- το type_s πρέπει να είναι τιμή twitter\n",
    "- η στήλη external_link_s πρέπει να έχει τις τιμές της στήλης url_s\n",
    "- η στήλη url_s πρέπει να έχει τις τιμές της στήλης type_s"
   ]
  },
  {
   "cell_type": "code",
   "execution_count": 13,
   "id": "102e72b6",
   "metadata": {},
   "outputs": [],
   "source": [
    "# correct values in columns \"type_s\", \"url_s\" and \"external_link_s\""
   ]
  },
  {
   "cell_type": "code",
   "execution_count": 14,
   "id": "b1eb2641",
   "metadata": {},
   "outputs": [
    {
     "data": {
      "text/html": [
       "<div>\n",
       "<style scoped>\n",
       "    .dataframe tbody tr th:only-of-type {\n",
       "        vertical-align: middle;\n",
       "    }\n",
       "\n",
       "    .dataframe tbody tr th {\n",
       "        vertical-align: top;\n",
       "    }\n",
       "\n",
       "    .dataframe thead th {\n",
       "        text-align: right;\n",
       "    }\n",
       "</style>\n",
       "<table border=\"1\" class=\"dataframe\">\n",
       "  <thead>\n",
       "    <tr style=\"text-align: right;\">\n",
       "      <th></th>\n",
       "      <th>in_id</th>\n",
       "      <th>type_s</th>\n",
       "      <th>url_s</th>\n",
       "      <th>external_link_s</th>\n",
       "      <th>source_s</th>\n",
       "      <th>timestamp_dt</th>\n",
       "      <th>text_txt_el</th>\n",
       "      <th>retweet_count_l</th>\n",
       "      <th>followers_i</th>\n",
       "      <th>following_i</th>\n",
       "      <th>mentions_i</th>\n",
       "      <th>comments_i</th>\n",
       "      <th>likes_i</th>\n",
       "      <th>full_artcl_text</th>\n",
       "      <th>site</th>\n",
       "    </tr>\n",
       "  </thead>\n",
       "  <tbody>\n",
       "    <tr>\n",
       "      <th>1967484</th>\n",
       "      <td>1967484</td>\n",
       "      <td>twitter</td>\n",
       "      <td>https://twitter.com/PressPublica/status/107982...</td>\n",
       "      <td>https://www.presspublica.gr/erntogan-minyma-ap...</td>\n",
       "      <td>PressPublica</td>\n",
       "      <td>2018-12-31T21:55:13Z</td>\n",
       "      <td>Ερντογάν: Μήνυμα αποφασιστικότητας για Αιγαίο ...</td>\n",
       "      <td>0</td>\n",
       "      <td>1396</td>\n",
       "      <td>432</td>\n",
       "      <td>0</td>\n",
       "      <td>0</td>\n",
       "      <td>0.0</td>\n",
       "      <td>Μήνυμα πως η Τουρκία επιδεικνύει την αποφασιστ...</td>\n",
       "      <td>presspublica.gr</td>\n",
       "    </tr>\n",
       "  </tbody>\n",
       "</table>\n",
       "</div>"
      ],
      "text/plain": [
       "           in_id   type_s                                              url_s  \\\n",
       "1967484  1967484  twitter  https://twitter.com/PressPublica/status/107982...   \n",
       "\n",
       "                                           external_link_s      source_s  \\\n",
       "1967484  https://www.presspublica.gr/erntogan-minyma-ap...  PressPublica   \n",
       "\n",
       "                 timestamp_dt  \\\n",
       "1967484  2018-12-31T21:55:13Z   \n",
       "\n",
       "                                               text_txt_el retweet_count_l  \\\n",
       "1967484  Ερντογάν: Μήνυμα αποφασιστικότητας για Αιγαίο ...               0   \n",
       "\n",
       "        followers_i following_i mentions_i comments_i  likes_i  \\\n",
       "1967484        1396         432          0          0      0.0   \n",
       "\n",
       "                                           full_artcl_text             site  \n",
       "1967484  Μήνυμα πως η Τουρκία επιδεικνύει την αποφασιστ...  presspublica.gr  "
      ]
     },
     "execution_count": 14,
     "metadata": {},
     "output_type": "execute_result"
    }
   ],
   "source": [
    "# ΑΝ ΤΟ DATASET είναι από το 2027-2018 ή το 2022-2023\n",
    "if (main_csvs_path == '0_innews_data_sets/exports_2017/') | (main_csvs_path == '0_innews_data_sets/exports_2022/'):\n",
    "    try:\n",
    "        # βάλε το περιεχόμενο της στήλης \"url_s\" στη στήλη \"external_link_s\"\n",
    "        high_comp_df.external_link_s = high_comp_df.url_s\n",
    "        low_comp_df.external_link_s = low_comp_df.url_s\n",
    "    except:\n",
    "        pass\n",
    "    try:\n",
    "        # βάλε το περιεχόμενο της στήλης \"type_s\" στη στήλη \"external_link_s\"\n",
    "        high_comp_df.url_s = high_comp_df.type_s\n",
    "        low_comp_df.url_s = low_comp_df.type_s\n",
    "    except:\n",
    "        pass\n",
    "    try:\n",
    "        # βάλε στο type_s την τιμή \"twitter\"\n",
    "        high_comp_df.type_s = 'twitter'\n",
    "        low_comp_df.type_s = 'twitter'\n",
    "    except:\n",
    "        pass\n",
    "high_comp_df.tail(1)"
   ]
  },
  {
   "cell_type": "code",
   "execution_count": 15,
   "id": "f7df6443",
   "metadata": {},
   "outputs": [],
   "source": [
    "#replace whitespace values with nan\n",
    "try:\n",
    "    high_comp_df.replace(r'^\\s*$', np.nan, regex=True, inplace=True)\n",
    "    low_comp_df.replace(r'^\\s*$', np.nan, regex=True, inplace=True)\n",
    "except:\n",
    "    pass"
   ]
  },
  {
   "cell_type": "code",
   "execution_count": 16,
   "id": "8b60419f",
   "metadata": {},
   "outputs": [
    {
     "data": {
      "text/html": [
       "<div>\n",
       "<style scoped>\n",
       "    .dataframe tbody tr th:only-of-type {\n",
       "        vertical-align: middle;\n",
       "    }\n",
       "\n",
       "    .dataframe tbody tr th {\n",
       "        vertical-align: top;\n",
       "    }\n",
       "\n",
       "    .dataframe thead th {\n",
       "        text-align: right;\n",
       "    }\n",
       "</style>\n",
       "<table border=\"1\" class=\"dataframe\">\n",
       "  <thead>\n",
       "    <tr style=\"text-align: right;\">\n",
       "      <th></th>\n",
       "      <th>in_id</th>\n",
       "      <th>type_s</th>\n",
       "      <th>url_s</th>\n",
       "      <th>external_link_s</th>\n",
       "      <th>source_s</th>\n",
       "      <th>timestamp_dt</th>\n",
       "      <th>text_txt_el</th>\n",
       "      <th>retweet_count_l</th>\n",
       "      <th>followers_i</th>\n",
       "      <th>following_i</th>\n",
       "      <th>mentions_i</th>\n",
       "      <th>comments_i</th>\n",
       "      <th>likes_i</th>\n",
       "      <th>full_artcl_text</th>\n",
       "      <th>site</th>\n",
       "    </tr>\n",
       "  </thead>\n",
       "  <tbody>\n",
       "    <tr>\n",
       "      <th>1967484</th>\n",
       "      <td>1967484</td>\n",
       "      <td>twitter</td>\n",
       "      <td>https://twitter.com/PressPublica/status/107982...</td>\n",
       "      <td>https://www.presspublica.gr/erntogan-minyma-ap...</td>\n",
       "      <td>PressPublica</td>\n",
       "      <td>2018-12-31T21:55:13Z</td>\n",
       "      <td>Ερντογάν: Μήνυμα αποφασιστικότητας για Αιγαίο ...</td>\n",
       "      <td>0</td>\n",
       "      <td>1396</td>\n",
       "      <td>432</td>\n",
       "      <td>0</td>\n",
       "      <td>0</td>\n",
       "      <td>0.0</td>\n",
       "      <td>Μήνυμα πως η Τουρκία επιδεικνύει την αποφασιστ...</td>\n",
       "      <td>presspublica.gr</td>\n",
       "    </tr>\n",
       "  </tbody>\n",
       "</table>\n",
       "</div>"
      ],
      "text/plain": [
       "           in_id   type_s                                              url_s  \\\n",
       "1967484  1967484  twitter  https://twitter.com/PressPublica/status/107982...   \n",
       "\n",
       "                                           external_link_s      source_s  \\\n",
       "1967484  https://www.presspublica.gr/erntogan-minyma-ap...  PressPublica   \n",
       "\n",
       "                 timestamp_dt  \\\n",
       "1967484  2018-12-31T21:55:13Z   \n",
       "\n",
       "                                               text_txt_el retweet_count_l  \\\n",
       "1967484  Ερντογάν: Μήνυμα αποφασιστικότητας για Αιγαίο ...               0   \n",
       "\n",
       "        followers_i following_i mentions_i comments_i  likes_i  \\\n",
       "1967484        1396         432          0          0      0.0   \n",
       "\n",
       "                                           full_artcl_text             site  \n",
       "1967484  Μήνυμα πως η Τουρκία επιδεικνύει την αποφασιστ...  presspublica.gr  "
      ]
     },
     "execution_count": 16,
     "metadata": {},
     "output_type": "execute_result"
    }
   ],
   "source": [
    "high_comp_df.tail(1)"
   ]
  },
  {
   "cell_type": "code",
   "execution_count": 17,
   "id": "90ca1f18",
   "metadata": {},
   "outputs": [
    {
     "data": {
      "text/html": [
       "<div>\n",
       "<style scoped>\n",
       "    .dataframe tbody tr th:only-of-type {\n",
       "        vertical-align: middle;\n",
       "    }\n",
       "\n",
       "    .dataframe tbody tr th {\n",
       "        vertical-align: top;\n",
       "    }\n",
       "\n",
       "    .dataframe thead th {\n",
       "        text-align: right;\n",
       "    }\n",
       "</style>\n",
       "<table border=\"1\" class=\"dataframe\">\n",
       "  <thead>\n",
       "    <tr style=\"text-align: right;\">\n",
       "      <th></th>\n",
       "      <th>in_id</th>\n",
       "      <th>type_s</th>\n",
       "      <th>url_s</th>\n",
       "      <th>external_link_s</th>\n",
       "      <th>source_s</th>\n",
       "      <th>timestamp_dt</th>\n",
       "      <th>text_txt_el</th>\n",
       "      <th>retweet_count_l</th>\n",
       "      <th>followers_i</th>\n",
       "      <th>following_i</th>\n",
       "      <th>mentions_i</th>\n",
       "      <th>comments_i</th>\n",
       "      <th>likes_i</th>\n",
       "      <th>full_artcl_text</th>\n",
       "      <th>site</th>\n",
       "    </tr>\n",
       "  </thead>\n",
       "  <tbody>\n",
       "    <tr>\n",
       "      <th>1967484</th>\n",
       "      <td>1967484</td>\n",
       "      <td>twitter</td>\n",
       "      <td>https://twitter.com/PressPublica/status/107982...</td>\n",
       "      <td>https://www.presspublica.gr/erntogan-minyma-ap...</td>\n",
       "      <td>PressPublica</td>\n",
       "      <td>2018-12-31T21:55:13Z</td>\n",
       "      <td>Ερντογάν: Μήνυμα αποφασιστικότητας για Αιγαίο ...</td>\n",
       "      <td>0</td>\n",
       "      <td>1396</td>\n",
       "      <td>432</td>\n",
       "      <td>0</td>\n",
       "      <td>0</td>\n",
       "      <td>0.0</td>\n",
       "      <td>Μήνυμα πως η Τουρκία επιδεικνύει την αποφασιστ...</td>\n",
       "      <td>presspublica.gr</td>\n",
       "    </tr>\n",
       "  </tbody>\n",
       "</table>\n",
       "</div>"
      ],
      "text/plain": [
       "           in_id   type_s                                              url_s  \\\n",
       "1967484  1967484  twitter  https://twitter.com/PressPublica/status/107982...   \n",
       "\n",
       "                                           external_link_s      source_s  \\\n",
       "1967484  https://www.presspublica.gr/erntogan-minyma-ap...  PressPublica   \n",
       "\n",
       "                 timestamp_dt  \\\n",
       "1967484  2018-12-31T21:55:13Z   \n",
       "\n",
       "                                               text_txt_el retweet_count_l  \\\n",
       "1967484  Ερντογάν: Μήνυμα αποφασιστικότητας για Αιγαίο ...               0   \n",
       "\n",
       "        followers_i following_i mentions_i comments_i  likes_i  \\\n",
       "1967484        1396         432          0          0      0.0   \n",
       "\n",
       "                                           full_artcl_text             site  \n",
       "1967484  Μήνυμα πως η Τουρκία επιδεικνύει την αποφασιστ...  presspublica.gr  "
      ]
     },
     "execution_count": 17,
     "metadata": {},
     "output_type": "execute_result"
    }
   ],
   "source": [
    "# keep rows with type_s values 'facebook' or 'twitter' only\n",
    "#if (main_csvs_path == '0_innews_data_sets/iqcsv/'):\n",
    "try:\n",
    "    high_comp_df = high_comp_df[(high_comp_df.type_s == 'facebook') | (high_comp_df.type_s == 'twitter')]\n",
    "    low_comp_df = low_comp_df[(low_comp_df.type_s == 'facebook') | (low_comp_df.type_s == 'twitter')]\n",
    "except:\n",
    "    pass\n",
    "high_comp_df.tail(1)"
   ]
  },
  {
   "cell_type": "code",
   "execution_count": 18,
   "id": "10faad0a",
   "metadata": {},
   "outputs": [],
   "source": [
    "# remove rows with nan values in any column\n",
    "try:\n",
    "    high_comp_df = high_comp_df.dropna(how='any')\n",
    "    low_comp_df = low_comp_df.dropna(how='any')\n",
    "except:\n",
    "    pass"
   ]
  },
  {
   "cell_type": "code",
   "execution_count": 19,
   "id": "444f715a",
   "metadata": {},
   "outputs": [],
   "source": [
    "# drop rows with duplicate values in url_s column\n",
    "try:\n",
    "    high_comp_df.drop_duplicates('url_s', keep=False, inplace=True)\n",
    "    low_comp_df.drop_duplicates('url_s', keep=False, inplace=True)\n",
    "except:\n",
    "    pass"
   ]
  },
  {
   "cell_type": "code",
   "execution_count": 20,
   "id": "e5d09ab2",
   "metadata": {},
   "outputs": [],
   "source": [
    "# convert retweet_count_l, followers_i and following_i to float\n",
    "try:\n",
    "    high_comp_df.retweet_count_l = high_comp_df.retweet_count_l.astype(float)\n",
    "    high_comp_df.followers_i = high_comp_df.followers_i.astype(float)\n",
    "    high_comp_df.following_i = high_comp_df.following_i.astype(float)\n",
    "    low_comp_df.retweet_count_l = low_comp_df.retweet_count_l.astype(float)\n",
    "    low_comp_df.followers_i = low_comp_df.followers_i.astype(float)\n",
    "    low_comp_df.following_i = low_comp_df.following_i.astype(float)\n",
    "except:\n",
    "    pass"
   ]
  },
  {
   "cell_type": "markdown",
   "id": "92a13ebd",
   "metadata": {},
   "source": [
    "**Indentify site name in source_s (ποια posts έχουν γίνει από το ίδιο το μέσο που δημοσίευσε το άρθρο)**"
   ]
  },
  {
   "cell_type": "code",
   "execution_count": 21,
   "id": "6c527ef2",
   "metadata": {},
   "outputs": [],
   "source": [
    "# correct site names\n",
    "# remove substring after first dot in site names\n",
    "try:\n",
    "    high_comp_df['sitename'] = high_comp_df['site'].replace(r'\\..*', '', regex=True)\n",
    "    low_comp_df['sitename'] = low_comp_df['site'].replace(r'\\..*', '', regex=True)\n",
    "except:\n",
    "    pass"
   ]
  },
  {
   "cell_type": "code",
   "execution_count": 22,
   "id": "64b025b5",
   "metadata": {},
   "outputs": [],
   "source": [
    "# lower upper case letters in source_s names\n",
    "try:\n",
    "    high_comp_df['source_s_lower'] = high_comp_df['source_s'].str.lower()\n",
    "    low_comp_df['source_s_lower'] = low_comp_df['source_s'].str.lower()\n",
    "except:\n",
    "    pass"
   ]
  },
  {
   "cell_type": "code",
   "execution_count": 23,
   "id": "decabe17",
   "metadata": {},
   "outputs": [
    {
     "name": "stdout",
     "output_type": "stream",
     "text": [
      "unique source_s names: 56\n",
      "identified source_s names: 47\n"
     ]
    }
   ],
   "source": [
    "# find source_s names that start with sitename (HIGH SITES)\n",
    "try:\n",
    "    print(\"unique source_s names:\", high_comp_df.sitename.nunique())\n",
    "    print(\"identified source_s names:\", high_comp_df[high_comp_df.apply(lambda row: row['source_s_lower'].startswith(row['sitename']),\n",
    "                                          axis=1)].sitename.nunique())\n",
    "    high_comp_df[high_comp_df.apply(lambda row: row['source_s_lower'].startswith(row['sitename']), axis=1)].head(1)\n",
    "except:\n",
    "    pass"
   ]
  },
  {
   "cell_type": "code",
   "execution_count": 24,
   "id": "a8d779bd",
   "metadata": {},
   "outputs": [],
   "source": [
    "# find source_s names that start with sitename (LOW SITES)\n",
    "try:\n",
    "    print(\"unique source_s names:\", low_comp_df.sitename.nunique())\n",
    "    print(\"identified source_s names:\", low_comp_df[low_comp_df.apply(lambda row: row['source_s_lower'].\n",
    "                                                                      startswith(row['sitename']),\n",
    "                                                                      axis=1)].sitename.nunique())\n",
    "    low_comp_df[low_comp_df.apply(lambda row: row['source_s_lower'].startswith(row['sitename']),\n",
    "                                    axis=1)].head(1)\n",
    "except:\n",
    "    pass"
   ]
  },
  {
   "cell_type": "code",
   "execution_count": null,
   "id": "1798c1d1",
   "metadata": {},
   "outputs": [],
   "source": [
    "# pd.set_option('display.max_colwidth', None)\n",
    "#pd.reset_option('display')"
   ]
  },
  {
   "cell_type": "code",
   "execution_count": 34,
   "id": "a2208576",
   "metadata": {},
   "outputs": [],
   "source": [
    "#matches\n",
    "# try:\n",
    "#     low_comp_df[low_comp_df.apply(lambda row: row['source_s_lower'].startswith(row['sitename']),\n",
    "#                                     axis=1)].groupby('sitename').source_s_lower.unique()\n",
    "# except:\n",
    "#     pass\n",
    "# try:\n",
    "#     high_comp_df[high_comp_df.apply(lambda row: row['source_s_lower'].startswith(row['sitename']),\n",
    "#                                     axis=1)].groupby('sitename').source_s_lower.unique()\n",
    "# except:\n",
    "#     pass"
   ]
  },
  {
   "cell_type": "code",
   "execution_count": 33,
   "id": "43ab11e1",
   "metadata": {},
   "outputs": [],
   "source": [
    "#Ποια source_s ονόματα σχετίζονται με κάθε site;\n",
    "# try:\n",
    "#     print(high_comp_df.groupby('site').source_s.unique())\n",
    "#     print(low_comp_df.groupby('site').source_s.unique())\n",
    "# except:\n",
    "#     pass"
   ]
  },
  {
   "cell_type": "code",
   "execution_count": 35,
   "id": "43638f0b",
   "metadata": {},
   "outputs": [],
   "source": [
    "false_matches_high = ['capitaloskylo', 'capitalcontrol2', 'left2kolou', 'leftfantasy', \n",
    "                      'lefterispatra', 'liberal2402', 'liberalove1', 'starlightpocket', \n",
    "                      'starcadell', 'starbuzzgr']\n",
    "false_matches_low = ['olympiada']"
   ]
  },
  {
   "cell_type": "code",
   "execution_count": 36,
   "id": "663dff5b",
   "metadata": {},
   "outputs": [],
   "source": [
    "try:\n",
    "    all_matches_high = high_comp_df[high_comp_df.apply(lambda row: row['source_s_lower'].\n",
    "                                                       startswith(row['sitename']), axis=1)].source_s_lower.unique()\n",
    "    # print(list(all_matches_high))\n",
    "    all_matches_low = low_comp_df[low_comp_df.apply(lambda row: row['source_s_lower'].\n",
    "                                                    startswith(row['sitename']), axis=1)].source_s_lower.unique()\n",
    "    # print(list(all_matches_low))\n",
    "except:\n",
    "    pass"
   ]
  },
  {
   "cell_type": "code",
   "execution_count": 37,
   "id": "ad9b88e9",
   "metadata": {},
   "outputs": [],
   "source": [
    "try:\n",
    "    true_matches_high = []\n",
    "    for site in all_matches_high:\n",
    "        if site not in false_matches_high:\n",
    "            true_matches_high.append(site)\n",
    "    # print(true_matches_high)\n",
    "    true_matches_low = []\n",
    "    for site in all_matches_low:\n",
    "        if site not in false_matches_low:\n",
    "            true_matches_low.append(site)\n",
    "    print(true_matches_low)\n",
    "except:\n",
    "    pass"
   ]
  },
  {
   "cell_type": "code",
   "execution_count": 38,
   "id": "7b1d76a3",
   "metadata": {},
   "outputs": [],
   "source": [
    "# correct source_s names\n",
    "try:\n",
    "    high_comp_df['source_s_new'] = high_comp_df.apply(lambda x: x['sitename'] if x['source_s_lower'] \n",
    "                                                      in true_matches_high else x['source_s_lower'], axis=1)\n",
    "    low_comp_df['source_s_new'] = low_comp_df.apply(lambda x: x['sitename'] if x['source_s_lower'] \n",
    "                                                      in true_matches_low else x['source_s_lower'], axis=1)\n",
    "except:\n",
    "    pass"
   ]
  },
  {
   "cell_type": "markdown",
   "id": "b89351c8",
   "metadata": {},
   "source": [
    "### **Calculations for total counts**"
   ]
  },
  {
   "cell_type": "markdown",
   "id": "0f91bfec",
   "metadata": {},
   "source": [
    "**Nbr of posts on social per article**"
   ]
  },
  {
   "cell_type": "code",
   "execution_count": 39,
   "id": "224e893f",
   "metadata": {},
   "outputs": [],
   "source": [
    "# count social posts per article\n",
    "try:\n",
    "    high_comp_df['social_posts'] = high_comp_df.groupby(['external_link_s', 'type_s']).in_id.transform('count')\n",
    "    low_comp_df['social_posts'] = low_comp_df.groupby(['external_link_s', 'type_s']).in_id.transform('count')\n",
    "except:\n",
    "    pass"
   ]
  },
  {
   "cell_type": "code",
   "execution_count": 40,
   "id": "3d23c612",
   "metadata": {},
   "outputs": [],
   "source": [
    "# write facebook counts in separate column\n",
    "try:\n",
    "    high_comp_df['facebook_posts'] = high_comp_df.apply(lambda x: \n",
    "                                                        x['social_posts'] if x['type_s']=='facebook' else 0, axis=1)\n",
    "    low_comp_df['facebook_posts'] = low_comp_df.apply(lambda x: \n",
    "                                                        x['social_posts'] if x['type_s']=='facebook' else 0, axis=1)\n",
    "except:\n",
    "    pass"
   ]
  },
  {
   "cell_type": "code",
   "execution_count": 41,
   "id": "497ab12e",
   "metadata": {},
   "outputs": [],
   "source": [
    "# write tweets counts in separate column\n",
    "try:\n",
    "    high_comp_df['tweets'] = high_comp_df.apply(lambda x: \n",
    "                                                        x['social_posts'] if x['type_s']=='twitter' else 0, axis=1)\n",
    "    low_comp_df['tweets'] = low_comp_df.apply(lambda x: \n",
    "                                                        x['social_posts'] if x['type_s']=='twitter' else 0, axis=1)\n",
    "except:\n",
    "    pass"
   ]
  },
  {
   "cell_type": "markdown",
   "id": "ad1d38a7",
   "metadata": {},
   "source": [
    "**Nbr of retweets per article**"
   ]
  },
  {
   "cell_type": "code",
   "execution_count": 42,
   "id": "95916016",
   "metadata": {},
   "outputs": [],
   "source": [
    "try:\n",
    "    high_comp_df['retweets_total'] = high_comp_df.groupby('external_link_s').retweet_count_l.transform('sum')\n",
    "    #high_comp_df[(high_comp_df.type_s=='twitter') & (high_comp_df.retweets_total>0)].head(1)\n",
    "    low_comp_df['retweets_total'] = low_comp_df.groupby('external_link_s').retweet_count_l.transform('sum')\n",
    "    #low_comp_df[(low_comp_df.type_s=='twitter') & (low_comp_df.retweets_total>0)].head(1)\n",
    "except:\n",
    "    pass"
   ]
  },
  {
   "cell_type": "markdown",
   "id": "dfec618c",
   "metadata": {},
   "source": [
    "**Nbr of likes per article**"
   ]
  },
  {
   "cell_type": "code",
   "execution_count": 43,
   "id": "7659251d",
   "metadata": {},
   "outputs": [],
   "source": [
    "try:\n",
    "    high_comp_df['likes_total'] = high_comp_df.groupby('external_link_s').likes_i.transform('sum')\n",
    "    #high_comp_df[(high_comp_df.type_s=='facebook') & (high_comp_df.likes_total>0)].head(1)\n",
    "    low_comp_df['likes_total'] = low_comp_df.groupby('external_link_s').likes_i.transform('sum')\n",
    "    #low_comp_df[(low_comp_df.type_s=='facebook') & (low_comp_df.likes_total>0)].head(1)\n",
    "except:\n",
    "    pass"
   ]
  },
  {
   "cell_type": "markdown",
   "id": "1d1e1ea7",
   "metadata": {},
   "source": [
    "**Nbr of comments per article**"
   ]
  },
  {
   "cell_type": "code",
   "execution_count": 44,
   "id": "98a62cea",
   "metadata": {},
   "outputs": [],
   "source": [
    "try:\n",
    "    high_comp_df['comments_total'] = high_comp_df.groupby('external_link_s').comments_i.transform('sum')\n",
    "    #high_comp_df[(high_comp_df.type_s=='facebook') & (high_comp_df.comments_total>0)].head(1)\n",
    "    low_comp_df['comments_total'] = low_comp_df.groupby('external_link_s').comments_i.transform('sum')\n",
    "    #low_comp_df[(low_comp_df.type_s=='facebook') & (low_comp_df.comments_total>0)].head(1)\n",
    "except:\n",
    "    pass"
   ]
  },
  {
   "cell_type": "markdown",
   "id": "c938b65a",
   "metadata": {},
   "source": [
    "**Nbr of followers per article**"
   ]
  },
  {
   "cell_type": "code",
   "execution_count": 45,
   "id": "b15ddaab",
   "metadata": {},
   "outputs": [],
   "source": [
    "try:\n",
    "    high_comp_df['followers_total'] = high_comp_df.groupby('external_link_s').followers_i.transform('sum')\n",
    "    #high_comp_df[(high_comp_df.type_s=='twitter') & (high_comp_df.followers_total>0)].head(1)\n",
    "    low_comp_df['followers_total'] = low_comp_df.groupby('external_link_s').followers_i.transform('sum')\n",
    "    #low_comp_df[(high_comp_df.type_s=='twitter') & (low_comp_df.followers_total>0)].head(1)\n",
    "except:\n",
    "    pass"
   ]
  },
  {
   "cell_type": "markdown",
   "id": "12757f27",
   "metadata": {},
   "source": [
    "**Nbr of following per article**"
   ]
  },
  {
   "cell_type": "code",
   "execution_count": 46,
   "id": "8c949642",
   "metadata": {},
   "outputs": [],
   "source": [
    "try:\n",
    "    high_comp_df['following_total'] = high_comp_df.groupby('external_link_s').following_i.transform('sum')\n",
    "    #high_comp_df[(high_comp_df.type_s=='twitter') & (high_comp_df.following_total>0)].head(1)\n",
    "    low_comp_df['following_total'] = low_comp_df.groupby('external_link_s').following_i.transform('sum')\n",
    "    #low_comp_df[(low_comp_df.type_s=='twitter') & (low_comp_df.following_total>0)].head(1)\n",
    "except:\n",
    "    pass"
   ]
  },
  {
   "cell_type": "markdown",
   "id": "1d02ab78",
   "metadata": {},
   "source": [
    "**Nbr of mentions per article**"
   ]
  },
  {
   "cell_type": "code",
   "execution_count": 47,
   "id": "0f44590f",
   "metadata": {},
   "outputs": [],
   "source": [
    "try:\n",
    "    high_comp_df['mentions_total'] = high_comp_df.groupby('external_link_s').mentions_i.transform('sum')\n",
    "    #high_comp_df[(high_comp_df.type_s=='twitter') & (high_comp_df.mentions_total>0)].head(1)\n",
    "    low_comp_df['mentions_total'] = low_comp_df.groupby('external_link_s').mentions_i.transform('sum')\n",
    "    #low_comp_df[(low_comp_df.type_s=='twitter') & (low_comp_df.mentions_total>0)].head(1)\n",
    "except:\n",
    "    pass"
   ]
  },
  {
   "cell_type": "markdown",
   "id": "8e6256bc",
   "metadata": {},
   "source": [
    "**Remove unneeded columns**"
   ]
  },
  {
   "cell_type": "code",
   "execution_count": 48,
   "id": "c1977531",
   "metadata": {},
   "outputs": [],
   "source": [
    "unneeded_cols = ['site', 'source_s_lower', 'social_posts']"
   ]
  },
  {
   "cell_type": "code",
   "execution_count": 49,
   "id": "f3c9515f",
   "metadata": {},
   "outputs": [],
   "source": [
    "try:\n",
    "    high_comp_df.drop(unneeded_cols, axis=1, inplace=True)\n",
    "    #high_comp_df.head(1)\n",
    "    low_comp_df.drop(unneeded_cols, axis=1, inplace=True)\n",
    "    #low_comp_df.head(1)\n",
    "except:\n",
    "    pass"
   ]
  },
  {
   "cell_type": "code",
   "execution_count": 50,
   "id": "579f85b7",
   "metadata": {},
   "outputs": [
    {
     "name": "stdout",
     "output_type": "stream",
     "text": [
      "(1967104, 24)\n"
     ]
    },
    {
     "data": {
      "text/html": [
       "<div>\n",
       "<style scoped>\n",
       "    .dataframe tbody tr th:only-of-type {\n",
       "        vertical-align: middle;\n",
       "    }\n",
       "\n",
       "    .dataframe tbody tr th {\n",
       "        vertical-align: top;\n",
       "    }\n",
       "\n",
       "    .dataframe thead th {\n",
       "        text-align: right;\n",
       "    }\n",
       "</style>\n",
       "<table border=\"1\" class=\"dataframe\">\n",
       "  <thead>\n",
       "    <tr style=\"text-align: right;\">\n",
       "      <th></th>\n",
       "      <th>in_id</th>\n",
       "      <th>type_s</th>\n",
       "      <th>url_s</th>\n",
       "      <th>external_link_s</th>\n",
       "      <th>source_s</th>\n",
       "      <th>timestamp_dt</th>\n",
       "      <th>text_txt_el</th>\n",
       "      <th>retweet_count_l</th>\n",
       "      <th>followers_i</th>\n",
       "      <th>following_i</th>\n",
       "      <th>...</th>\n",
       "      <th>sitename</th>\n",
       "      <th>source_s_new</th>\n",
       "      <th>facebook_posts</th>\n",
       "      <th>tweets</th>\n",
       "      <th>retweets_total</th>\n",
       "      <th>likes_total</th>\n",
       "      <th>comments_total</th>\n",
       "      <th>followers_total</th>\n",
       "      <th>following_total</th>\n",
       "      <th>mentions_total</th>\n",
       "    </tr>\n",
       "  </thead>\n",
       "  <tbody>\n",
       "    <tr>\n",
       "      <th>0</th>\n",
       "      <td>0</td>\n",
       "      <td>twitter</td>\n",
       "      <td>https://twitter.com/iefimerida/status/81525611...</td>\n",
       "      <td>http://www.iefimerida.gr/news/310100/ohi-2016-...</td>\n",
       "      <td>iefimerida</td>\n",
       "      <td>2016-12-31T19:59:39Z</td>\n",
       "      <td>Οχι, το 2016 δεν ήταν η χειρότερη χρονιά της α...</td>\n",
       "      <td>0.0</td>\n",
       "      <td>172080.0</td>\n",
       "      <td>4278.0</td>\n",
       "      <td>...</td>\n",
       "      <td>iefimerida</td>\n",
       "      <td>iefimerida</td>\n",
       "      <td>0</td>\n",
       "      <td>1</td>\n",
       "      <td>0.0</td>\n",
       "      <td>0.0</td>\n",
       "      <td>0</td>\n",
       "      <td>172080.0</td>\n",
       "      <td>4278.0</td>\n",
       "      <td>25854</td>\n",
       "    </tr>\n",
       "  </tbody>\n",
       "</table>\n",
       "<p>1 rows × 24 columns</p>\n",
       "</div>"
      ],
      "text/plain": [
       "   in_id   type_s                                              url_s  \\\n",
       "0      0  twitter  https://twitter.com/iefimerida/status/81525611...   \n",
       "\n",
       "                                     external_link_s    source_s  \\\n",
       "0  http://www.iefimerida.gr/news/310100/ohi-2016-...  iefimerida   \n",
       "\n",
       "           timestamp_dt                                        text_txt_el  \\\n",
       "0  2016-12-31T19:59:39Z  Οχι, το 2016 δεν ήταν η χειρότερη χρονιά της α...   \n",
       "\n",
       "   retweet_count_l  followers_i  following_i  ...    sitename source_s_new  \\\n",
       "0              0.0     172080.0       4278.0  ...  iefimerida   iefimerida   \n",
       "\n",
       "   facebook_posts tweets retweets_total likes_total  comments_total  \\\n",
       "0               0      1            0.0         0.0               0   \n",
       "\n",
       "   followers_total  following_total  mentions_total  \n",
       "0         172080.0           4278.0           25854  \n",
       "\n",
       "[1 rows x 24 columns]"
      ]
     },
     "execution_count": 50,
     "metadata": {},
     "output_type": "execute_result"
    }
   ],
   "source": [
    "print(high_comp_df.shape)\n",
    "high_comp_df.head(1)"
   ]
  },
  {
   "cell_type": "markdown",
   "id": "e116db15",
   "metadata": {},
   "source": [
    "### **Make df with posts only from sites accounts**"
   ]
  },
  {
   "cell_type": "markdown",
   "id": "4ea00e79",
   "metadata": {},
   "source": [
    "**Create df with posts from sites only**"
   ]
  },
  {
   "cell_type": "code",
   "execution_count": 51,
   "id": "c348e56a",
   "metadata": {},
   "outputs": [],
   "source": [
    "try:\n",
    "    high_comp_posts_from_sites_only_df = high_comp_df[high_comp_df.source_s_new == high_comp_df.sitename]\n",
    "    low_comp_posts_from_sites_only_df = low_comp_df[low_comp_df.source_s_new == low_comp_df.sitename]\n",
    "except:\n",
    "    pass"
   ]
  },
  {
   "cell_type": "code",
   "execution_count": 52,
   "id": "327346e9",
   "metadata": {
    "scrolled": true
   },
   "outputs": [
    {
     "name": "stdout",
     "output_type": "stream",
     "text": [
      "(1539947, 24)\n"
     ]
    },
    {
     "data": {
      "text/html": [
       "<div>\n",
       "<style scoped>\n",
       "    .dataframe tbody tr th:only-of-type {\n",
       "        vertical-align: middle;\n",
       "    }\n",
       "\n",
       "    .dataframe tbody tr th {\n",
       "        vertical-align: top;\n",
       "    }\n",
       "\n",
       "    .dataframe thead th {\n",
       "        text-align: right;\n",
       "    }\n",
       "</style>\n",
       "<table border=\"1\" class=\"dataframe\">\n",
       "  <thead>\n",
       "    <tr style=\"text-align: right;\">\n",
       "      <th></th>\n",
       "      <th>in_id</th>\n",
       "      <th>type_s</th>\n",
       "      <th>url_s</th>\n",
       "      <th>external_link_s</th>\n",
       "      <th>source_s</th>\n",
       "      <th>timestamp_dt</th>\n",
       "      <th>text_txt_el</th>\n",
       "      <th>retweet_count_l</th>\n",
       "      <th>followers_i</th>\n",
       "      <th>following_i</th>\n",
       "      <th>...</th>\n",
       "      <th>sitename</th>\n",
       "      <th>source_s_new</th>\n",
       "      <th>facebook_posts</th>\n",
       "      <th>tweets</th>\n",
       "      <th>retweets_total</th>\n",
       "      <th>likes_total</th>\n",
       "      <th>comments_total</th>\n",
       "      <th>followers_total</th>\n",
       "      <th>following_total</th>\n",
       "      <th>mentions_total</th>\n",
       "    </tr>\n",
       "  </thead>\n",
       "  <tbody>\n",
       "    <tr>\n",
       "      <th>0</th>\n",
       "      <td>0</td>\n",
       "      <td>twitter</td>\n",
       "      <td>https://twitter.com/iefimerida/status/81525611...</td>\n",
       "      <td>http://www.iefimerida.gr/news/310100/ohi-2016-...</td>\n",
       "      <td>iefimerida</td>\n",
       "      <td>2016-12-31T19:59:39Z</td>\n",
       "      <td>Οχι, το 2016 δεν ήταν η χειρότερη χρονιά της α...</td>\n",
       "      <td>0.0</td>\n",
       "      <td>172080.0</td>\n",
       "      <td>4278.0</td>\n",
       "      <td>...</td>\n",
       "      <td>iefimerida</td>\n",
       "      <td>iefimerida</td>\n",
       "      <td>0</td>\n",
       "      <td>1</td>\n",
       "      <td>0.0</td>\n",
       "      <td>0.0</td>\n",
       "      <td>0</td>\n",
       "      <td>172080.0</td>\n",
       "      <td>4278.0</td>\n",
       "      <td>25854</td>\n",
       "    </tr>\n",
       "  </tbody>\n",
       "</table>\n",
       "<p>1 rows × 24 columns</p>\n",
       "</div>"
      ],
      "text/plain": [
       "   in_id   type_s                                              url_s  \\\n",
       "0      0  twitter  https://twitter.com/iefimerida/status/81525611...   \n",
       "\n",
       "                                     external_link_s    source_s  \\\n",
       "0  http://www.iefimerida.gr/news/310100/ohi-2016-...  iefimerida   \n",
       "\n",
       "           timestamp_dt                                        text_txt_el  \\\n",
       "0  2016-12-31T19:59:39Z  Οχι, το 2016 δεν ήταν η χειρότερη χρονιά της α...   \n",
       "\n",
       "   retweet_count_l  followers_i  following_i  ...    sitename source_s_new  \\\n",
       "0              0.0     172080.0       4278.0  ...  iefimerida   iefimerida   \n",
       "\n",
       "   facebook_posts tweets retweets_total likes_total  comments_total  \\\n",
       "0               0      1            0.0         0.0               0   \n",
       "\n",
       "   followers_total  following_total  mentions_total  \n",
       "0         172080.0           4278.0           25854  \n",
       "\n",
       "[1 rows x 24 columns]"
      ]
     },
     "execution_count": 52,
     "metadata": {},
     "output_type": "execute_result"
    }
   ],
   "source": [
    "print(high_comp_posts_from_sites_only_df.shape)\n",
    "high_comp_posts_from_sites_only_df.head(1)"
   ]
  },
  {
   "cell_type": "markdown",
   "id": "94df8e15",
   "metadata": {},
   "source": [
    "### **ONLY for csvs from iqcsv (τα άλλα έχουν μόνο twitter)** "
   ]
  },
  {
   "cell_type": "markdown",
   "id": "35064372",
   "metadata": {},
   "source": [
    "**From df with posts from sites only, Create one df with fb posts and one for tweets**"
   ]
  },
  {
   "cell_type": "code",
   "execution_count": 53,
   "id": "68d27718",
   "metadata": {},
   "outputs": [],
   "source": [
    "if main_csvs_path == '0_innews_data_sets/iqcsv/':\n",
    "    try:\n",
    "        high_sites_fb_df = high_comp_posts_from_sites_only_df[high_comp_posts_from_sites_only_df.type_s=='facebook']\n",
    "        print(len(high_sites_fb_df))\n",
    "        high_sites_tw_df = high_comp_posts_from_sites_only_df[high_comp_posts_from_sites_only_df.type_s=='twitter']\n",
    "        print(len(high_sites_tw_df))\n",
    "        low_sites_fb_df = low_comp_posts_from_sites_only_df[low_comp_posts_from_sites_only_df.type_s=='facebook']\n",
    "        print(len(low_sites_fb_df))\n",
    "        low_sites_tw_df = low_comp_posts_from_sites_only_df[low_comp_posts_from_sites_only_df.type_s=='twitter']\n",
    "        print(len(low_sites_tw_df))\n",
    "    except:\n",
    "        pass"
   ]
  },
  {
   "cell_type": "markdown",
   "id": "d1a90d2a",
   "metadata": {},
   "source": [
    "**Remove posts with duplicate values in external_link_s column**\n",
    "\n",
    "**(keep one post for each article)**"
   ]
  },
  {
   "cell_type": "code",
   "execution_count": 54,
   "id": "88823cdb",
   "metadata": {},
   "outputs": [
    {
     "name": "stderr",
     "output_type": "stream",
     "text": [
      "/tmp/ipykernel_91117/3830863810.py:24: SettingWithCopyWarning: \n",
      "A value is trying to be set on a copy of a slice from a DataFrame\n",
      "\n",
      "See the caveats in the documentation: https://pandas.pydata.org/pandas-docs/stable/user_guide/indexing.html#returning-a-view-versus-a-copy\n",
      "  high_comp_posts_from_sites_only_df.drop_duplicates('external_link_s', keep='first', inplace=True)\n"
     ]
    }
   ],
   "source": [
    "if main_csvs_path == '0_innews_data_sets/iqcsv/':\n",
    "    try:\n",
    "        # high\n",
    "        high_sites_fb_df.drop_duplicates('external_link_s', keep='first', inplace=True)\n",
    "        #print('fb high')\n",
    "        #print(high_sites_fb_df.nunique(), '\\r')\n",
    "        high_sites_tw_df.drop_duplicates('external_link_s', keep='first', inplace=True)\n",
    "        #print('twitter high')\n",
    "        #print(high_sites_tw_df.nunique())\n",
    "    except:\n",
    "        pass\n",
    "    try:\n",
    "        # low\n",
    "        low_sites_fb_df.drop_duplicates('external_link_s', keep='first', inplace=True)\n",
    "        #print('fb low')\n",
    "        #print(low_sites_fb_df.nunique(), '\\r')\n",
    "        low_sites_tw_df.drop_duplicates('external_link_s', keep='first', inplace=True)\n",
    "        #print('twitter low')\n",
    "        #print(low_sites_tw_df.nunique())\n",
    "    except:\n",
    "        pass\n",
    "else:\n",
    "    try:\n",
    "        high_comp_posts_from_sites_only_df.drop_duplicates('external_link_s', keep='first', inplace=True)\n",
    "        low_comp_posts_from_sites_only_df.drop_duplicates('external_link_s', keep='first', inplace=True)\n",
    "    except:\n",
    "        pass   "
   ]
  },
  {
   "cell_type": "code",
   "execution_count": 55,
   "id": "9619d920",
   "metadata": {},
   "outputs": [],
   "source": [
    "#high_sites_tw_df.head(1)"
   ]
  },
  {
   "cell_type": "code",
   "execution_count": 56,
   "id": "bc3d2087",
   "metadata": {},
   "outputs": [
    {
     "data": {
      "text/html": [
       "<div>\n",
       "<style scoped>\n",
       "    .dataframe tbody tr th:only-of-type {\n",
       "        vertical-align: middle;\n",
       "    }\n",
       "\n",
       "    .dataframe tbody tr th {\n",
       "        vertical-align: top;\n",
       "    }\n",
       "\n",
       "    .dataframe thead th {\n",
       "        text-align: right;\n",
       "    }\n",
       "</style>\n",
       "<table border=\"1\" class=\"dataframe\">\n",
       "  <thead>\n",
       "    <tr style=\"text-align: right;\">\n",
       "      <th></th>\n",
       "      <th>in_id</th>\n",
       "      <th>type_s</th>\n",
       "      <th>url_s</th>\n",
       "      <th>external_link_s</th>\n",
       "      <th>source_s</th>\n",
       "      <th>timestamp_dt</th>\n",
       "      <th>text_txt_el</th>\n",
       "      <th>retweet_count_l</th>\n",
       "      <th>followers_i</th>\n",
       "      <th>following_i</th>\n",
       "      <th>...</th>\n",
       "      <th>sitename</th>\n",
       "      <th>source_s_new</th>\n",
       "      <th>facebook_posts</th>\n",
       "      <th>tweets</th>\n",
       "      <th>retweets_total</th>\n",
       "      <th>likes_total</th>\n",
       "      <th>comments_total</th>\n",
       "      <th>followers_total</th>\n",
       "      <th>following_total</th>\n",
       "      <th>mentions_total</th>\n",
       "    </tr>\n",
       "  </thead>\n",
       "  <tbody>\n",
       "    <tr>\n",
       "      <th>0</th>\n",
       "      <td>0</td>\n",
       "      <td>twitter</td>\n",
       "      <td>https://twitter.com/iefimerida/status/81525611...</td>\n",
       "      <td>http://www.iefimerida.gr/news/310100/ohi-2016-...</td>\n",
       "      <td>iefimerida</td>\n",
       "      <td>2016-12-31T19:59:39Z</td>\n",
       "      <td>Οχι, το 2016 δεν ήταν η χειρότερη χρονιά της α...</td>\n",
       "      <td>0.0</td>\n",
       "      <td>172080.0</td>\n",
       "      <td>4278.0</td>\n",
       "      <td>...</td>\n",
       "      <td>iefimerida</td>\n",
       "      <td>iefimerida</td>\n",
       "      <td>0</td>\n",
       "      <td>1</td>\n",
       "      <td>0.0</td>\n",
       "      <td>0.0</td>\n",
       "      <td>0</td>\n",
       "      <td>172080.0</td>\n",
       "      <td>4278.0</td>\n",
       "      <td>25854</td>\n",
       "    </tr>\n",
       "  </tbody>\n",
       "</table>\n",
       "<p>1 rows × 24 columns</p>\n",
       "</div>"
      ],
      "text/plain": [
       "   in_id   type_s                                              url_s  \\\n",
       "0      0  twitter  https://twitter.com/iefimerida/status/81525611...   \n",
       "\n",
       "                                     external_link_s    source_s  \\\n",
       "0  http://www.iefimerida.gr/news/310100/ohi-2016-...  iefimerida   \n",
       "\n",
       "           timestamp_dt                                        text_txt_el  \\\n",
       "0  2016-12-31T19:59:39Z  Οχι, το 2016 δεν ήταν η χειρότερη χρονιά της α...   \n",
       "\n",
       "   retweet_count_l  followers_i  following_i  ...    sitename source_s_new  \\\n",
       "0              0.0     172080.0       4278.0  ...  iefimerida   iefimerida   \n",
       "\n",
       "   facebook_posts tweets retweets_total likes_total  comments_total  \\\n",
       "0               0      1            0.0         0.0               0   \n",
       "\n",
       "   followers_total  following_total  mentions_total  \n",
       "0         172080.0           4278.0           25854  \n",
       "\n",
       "[1 rows x 24 columns]"
      ]
     },
     "execution_count": 56,
     "metadata": {},
     "output_type": "execute_result"
    }
   ],
   "source": [
    "high_comp_posts_from_sites_only_df.head(1)"
   ]
  },
  {
   "cell_type": "markdown",
   "id": "3348f0cc",
   "metadata": {},
   "source": [
    "**Remove source_s column**"
   ]
  },
  {
   "cell_type": "code",
   "execution_count": 57,
   "id": "36cc3f8a",
   "metadata": {},
   "outputs": [
    {
     "name": "stderr",
     "output_type": "stream",
     "text": [
      "/tmp/ipykernel_91117/1977936343.py:14: SettingWithCopyWarning: \n",
      "A value is trying to be set on a copy of a slice from a DataFrame\n",
      "\n",
      "See the caveats in the documentation: https://pandas.pydata.org/pandas-docs/stable/user_guide/indexing.html#returning-a-view-versus-a-copy\n",
      "  high_comp_posts_from_sites_only_df.drop('source_s', axis=1, inplace=True)\n"
     ]
    }
   ],
   "source": [
    "if main_csvs_path == '0_innews_data_sets/iqcsv/':\n",
    "    try:\n",
    "        high_sites_fb_df.drop('source_s', axis=1, inplace=True)\n",
    "        high_sites_tw_df.drop('source_s', axis=1, inplace=True)\n",
    "    except:\n",
    "        pass\n",
    "    try:\n",
    "        low_sites_fb_df.drop('source_s', axis=1, inplace=True)\n",
    "        low_sites_tw_df.drop('source_s', axis=1, inplace=True)\n",
    "    except:\n",
    "        pass\n",
    "else:\n",
    "    try:\n",
    "        high_comp_posts_from_sites_only_df.drop('source_s', axis=1, inplace=True)\n",
    "        low_comp_posts_from_sites_only_df.drop('source_s', axis=1, inplace=True)\n",
    "    except:\n",
    "        pass"
   ]
  },
  {
   "cell_type": "markdown",
   "id": "d515eba6",
   "metadata": {},
   "source": [
    "**Rename columns and Create new dfs**"
   ]
  },
  {
   "cell_type": "code",
   "execution_count": 58,
   "id": "b1f25310",
   "metadata": {},
   "outputs": [],
   "source": [
    "# facebook posts\n",
    "try:\n",
    "    high_sites_fb_df_new = high_sites_fb_df.rename(columns = {\n",
    "        'in_id':'fb_in_id', 'url_s':'fb_url', 'external_link_s':'article_url',\n",
    "        'timestamp_dt':'fb_datetime', 'text_txt_el':'fb_text', 'comments_i':'fb_comments',\n",
    "        'likes_i':'fb_likes', 'full_artcl_text':'article_text', 'sitename':'site',\n",
    "        'facebook_posts':'total_fb_posts', 'likes_total':'total_fb_likes',\n",
    "        'comments_total':'total_fb_comments'\n",
    "    })\n",
    "    high_sites_fb_df_new = high_sites_fb_df_new[[\n",
    "        'site', 'article_url', 'article_text', 'fb_in_id', 'fb_url', 'fb_text', 'fb_datetime',\n",
    "        'fb_likes', 'fb_comments', 'total_fb_posts', 'total_fb_likes', 'total_fb_comments']]\n",
    "    \n",
    "    low_sites_fb_df_new = low_sites_fb_df.rename(columns = {\n",
    "        'in_id':'fb_in_id', 'url_s':'fb_url', 'external_link_s':'article_url',\n",
    "        'timestamp_dt':'fb_datetime', 'text_txt_el':'fb_text', 'comments_i':'fb_comments',\n",
    "        'likes_i':'fb_likes', 'full_artcl_text':'article_text', 'sitename':'site',\n",
    "        'facebook_posts':'total_fb_posts', 'likes_total':'total_fb_likes',\n",
    "        'comments_total':'total_fb_comments'\n",
    "    })\n",
    "    low_sites_fb_df_new = low_sites_fb_df_new[[\n",
    "        'site', 'article_url', 'article_text', 'fb_in_id', 'fb_url', 'fb_text', 'fb_datetime',\n",
    "        'fb_likes', 'fb_comments', 'total_fb_posts', 'total_fb_likes', 'total_fb_comments']]\n",
    "except:\n",
    "    pass\n",
    "#high_sites_fb_df_new.head(1)"
   ]
  },
  {
   "cell_type": "code",
   "execution_count": 59,
   "id": "bfef4b90",
   "metadata": {},
   "outputs": [],
   "source": [
    "# twitter\n",
    "if main_csvs_path == '0_innews_data_sets/iqcsv/':\n",
    "    try:\n",
    "        high_sites_tw_df_new = high_sites_tw_df.rename(columns = {\n",
    "            'in_id':'tw_in_id', 'url_s':'tw_url', 'external_link_s':'article_url',\n",
    "            'timestamp_dt':'tw_datetime', 'text_txt_el':'tw_text', 'retweet_count_l':'tw_retweets',\n",
    "            'followers_i':'site_tw_followers', 'following_i':'site_tw_following',\n",
    "            'mentions_i':'tw_mentions', 'tweets':'total_tweets', 'retweets_total':'total_retweets',\n",
    "            'followers_total':'total_followers', 'following_total':'total_following',\n",
    "            'mentions_total':'total_mentions'\n",
    "        })\n",
    "        high_sites_tw_df_new = high_sites_tw_df_new[[\n",
    "            'article_url', 'tw_in_id', 'tw_url', 'tw_text', 'tw_datetime', 'tw_retweets', 'tw_mentions',\n",
    "            'total_tweets', 'total_retweets', 'total_mentions', 'site_tw_followers', 'site_tw_following',\n",
    "            'total_followers', 'total_following']]\n",
    "        \n",
    "        low_sites_tw_df_new = low_sites_tw_df.rename(columns = {\n",
    "            'in_id':'tw_in_id', 'url_s':'tw_url', 'external_link_s':'article_url',\n",
    "            'timestamp_dt':'tw_datetime', 'text_txt_el':'tw_text', 'retweet_count_l':'tw_retweets',\n",
    "            'followers_i':'site_tw_followers', 'following_i':'site_tw_following',\n",
    "            'mentions_i':'tw_mentions', 'tweets':'total_tweets', 'retweets_total':'total_retweets',\n",
    "            'followers_total':'total_followers', 'following_total':'total_following',\n",
    "            'mentions_total':'total_mentions'})\n",
    "        low_sites_tw_df_new = low_sites_tw_df_new[[\n",
    "            'article_url', 'tw_in_id', 'tw_url', 'tw_text', 'tw_datetime', 'tw_retweets',\n",
    "            'tw_mentions', 'total_tweets', 'total_retweets', 'total_mentions',\n",
    "            'site_tw_followers', 'site_tw_following', 'total_followers', 'total_following']]\n",
    "    except:\n",
    "        pass\n",
    "else:\n",
    "    try:\n",
    "        high_comp_posts_from_sites_only_df = high_comp_posts_from_sites_only_df.rename(columns = {\n",
    "            'in_id':'tw_in_id', 'url_s':'tw_url', 'external_link_s':'article_url',\n",
    "            'timestamp_dt':'tw_datetime', 'text_txt_el':'tw_text', 'full_artcl_text':'article_text',\n",
    "            'sitename':'site', 'retweet_count_l':'tw_retweets', 'followers_i':'site_tw_followers',\n",
    "            'following_i':'site_tw_following', 'mentions_i':'tw_mentions', 'tweets':'total_tweets',\n",
    "            'retweets_total':'total_retweets', 'followers_total':'total_followers',\n",
    "            'following_total':'total_following', 'mentions_total':'total_mentions'\n",
    "        })\n",
    "        high_comp_posts_from_sites_only_df = high_comp_posts_from_sites_only_df[[\n",
    "            'site', 'article_url', 'article_text', 'tw_in_id', 'tw_url', 'tw_text',\n",
    "            'tw_datetime', 'tw_retweets', 'tw_mentions','total_tweets', 'total_retweets', 'total_mentions',\n",
    "            'site_tw_followers', 'site_tw_following', 'total_followers', 'total_following']]\n",
    "\n",
    "        low_comp_posts_from_sites_only_df = low_comp_posts_from_sites_only_df.rename(columns = {\n",
    "            'in_id':'tw_in_id', 'url_s':'tw_url', 'external_link_s':'article_url',\n",
    "            'timestamp_dt':'tw_datetime', 'text_txt_el':'tw_text', 'full_artcl_text':'article_text',\n",
    "            'sitename':'site', 'retweet_count_l':'tw_retweets', 'followers_i':'site_tw_followers',\n",
    "            'following_i':'site_tw_following', 'mentions_i':'tw_mentions',\n",
    "            'tweets':'total_tweets', 'retweets_total':'total_retweets',\n",
    "            'followers_total':'total_followers', 'following_total':'total_following',\n",
    "            'mentions_total':'total_mentions'\n",
    "        })\n",
    "        low_comp_posts_from_sites_only_df = low_comp_posts_from_sites_only_df[[\n",
    "            'site', 'article_url', 'article_text', 'tw_in_id', 'tw_url', 'tw_text',\n",
    "            'tw_datetime', 'tw_retweets', 'tw_mentions','total_tweets', 'total_retweets', 'total_mentions',\n",
    "            'site_tw_followers', 'site_tw_following', 'total_followers', 'total_following']]\n",
    "    except:\n",
    "        pass\n",
    "\n",
    "#high_sites_tw_df_new.head(1)"
   ]
  },
  {
   "cell_type": "code",
   "execution_count": 60,
   "id": "4d4f4361",
   "metadata": {},
   "outputs": [
    {
     "data": {
      "text/html": [
       "<div>\n",
       "<style scoped>\n",
       "    .dataframe tbody tr th:only-of-type {\n",
       "        vertical-align: middle;\n",
       "    }\n",
       "\n",
       "    .dataframe tbody tr th {\n",
       "        vertical-align: top;\n",
       "    }\n",
       "\n",
       "    .dataframe thead th {\n",
       "        text-align: right;\n",
       "    }\n",
       "</style>\n",
       "<table border=\"1\" class=\"dataframe\">\n",
       "  <thead>\n",
       "    <tr style=\"text-align: right;\">\n",
       "      <th></th>\n",
       "      <th>site</th>\n",
       "      <th>article_url</th>\n",
       "      <th>article_text</th>\n",
       "      <th>tw_in_id</th>\n",
       "      <th>tw_url</th>\n",
       "      <th>tw_text</th>\n",
       "      <th>tw_datetime</th>\n",
       "      <th>tw_retweets</th>\n",
       "      <th>tw_mentions</th>\n",
       "      <th>total_tweets</th>\n",
       "      <th>total_retweets</th>\n",
       "      <th>total_mentions</th>\n",
       "      <th>site_tw_followers</th>\n",
       "      <th>site_tw_following</th>\n",
       "      <th>total_followers</th>\n",
       "      <th>total_following</th>\n",
       "    </tr>\n",
       "  </thead>\n",
       "  <tbody>\n",
       "    <tr>\n",
       "      <th>0</th>\n",
       "      <td>iefimerida</td>\n",
       "      <td>http://www.iefimerida.gr/news/310100/ohi-2016-...</td>\n",
       "      <td>Στο ίντερνετ, το τελευταίο διάστημα ένα σύνθημ...</td>\n",
       "      <td>0</td>\n",
       "      <td>https://twitter.com/iefimerida/status/81525611...</td>\n",
       "      <td>Οχι, το 2016 δεν ήταν η χειρότερη χρονιά της α...</td>\n",
       "      <td>2016-12-31T19:59:39Z</td>\n",
       "      <td>0.0</td>\n",
       "      <td>25854</td>\n",
       "      <td>1</td>\n",
       "      <td>0.0</td>\n",
       "      <td>25854</td>\n",
       "      <td>172080.0</td>\n",
       "      <td>4278.0</td>\n",
       "      <td>172080.0</td>\n",
       "      <td>4278.0</td>\n",
       "    </tr>\n",
       "  </tbody>\n",
       "</table>\n",
       "</div>"
      ],
      "text/plain": [
       "         site                                        article_url  \\\n",
       "0  iefimerida  http://www.iefimerida.gr/news/310100/ohi-2016-...   \n",
       "\n",
       "                                        article_text  tw_in_id  \\\n",
       "0  Στο ίντερνετ, το τελευταίο διάστημα ένα σύνθημ...         0   \n",
       "\n",
       "                                              tw_url  \\\n",
       "0  https://twitter.com/iefimerida/status/81525611...   \n",
       "\n",
       "                                             tw_text           tw_datetime  \\\n",
       "0  Οχι, το 2016 δεν ήταν η χειρότερη χρονιά της α...  2016-12-31T19:59:39Z   \n",
       "\n",
       "   tw_retweets tw_mentions  total_tweets  total_retweets total_mentions  \\\n",
       "0          0.0       25854             1             0.0          25854   \n",
       "\n",
       "   site_tw_followers  site_tw_following  total_followers  total_following  \n",
       "0           172080.0             4278.0         172080.0           4278.0  "
      ]
     },
     "execution_count": 60,
     "metadata": {},
     "output_type": "execute_result"
    }
   ],
   "source": [
    "high_comp_posts_from_sites_only_df.head(1)"
   ]
  },
  {
   "cell_type": "markdown",
   "id": "a86fe3dc",
   "metadata": {},
   "source": [
    "**Create merged df**"
   ]
  },
  {
   "cell_type": "markdown",
   "id": "702b0278",
   "metadata": {},
   "source": [
    "**If csvs are from 2017 or 2022 datasets (twitter only), merged df is twitter df**"
   ]
  },
  {
   "cell_type": "code",
   "execution_count": 61,
   "id": "2e4c5226",
   "metadata": {},
   "outputs": [
    {
     "name": "stdout",
     "output_type": "stream",
     "text": [
      "high sites merged articles: 1183302\n"
     ]
    }
   ],
   "source": [
    "if (main_csvs_path == '0_innews_data_sets/iqcsv/'):\n",
    "    high_sites_merged_df = pd.merge(high_sites_fb_df_new, high_sites_tw_df_new, how='outer', on=\"article_url\")\n",
    "    high_sites_merged_df.reset_index(drop=True, inplace=True)\n",
    "    print(f\"high sites merged articles: {len(high_sites_merged_df)}\")\n",
    "    high_sites_merged_df.head(1)\n",
    "    low_sites_merged_df = pd.merge(high_sites_fb_df_new, high_sites_tw_df_new, how='outer', on=\"article_url\")\n",
    "    low_sites_merged_df.reset_index(drop=True, inplace=True)\n",
    "    print(f\"low sites merged articles: {len(low_sites_merged_df)}\")\n",
    "    high_sites_merged_df.head(1)\n",
    "else:\n",
    "    try:\n",
    "        high_sites_merged_df = high_comp_posts_from_sites_only_df\n",
    "        print(f\"high sites merged articles: {len(high_sites_merged_df)}\")\n",
    "        low_sites_merged_df = low_comp_posts_from_sites_only_df\n",
    "        print(f\"low sites merged articles: {len(low_sites_merged_df)}\")\n",
    "    except:\n",
    "        pass"
   ]
  },
  {
   "cell_type": "code",
   "execution_count": 62,
   "id": "5ba59f3d",
   "metadata": {},
   "outputs": [
    {
     "data": {
      "text/html": [
       "<div>\n",
       "<style scoped>\n",
       "    .dataframe tbody tr th:only-of-type {\n",
       "        vertical-align: middle;\n",
       "    }\n",
       "\n",
       "    .dataframe tbody tr th {\n",
       "        vertical-align: top;\n",
       "    }\n",
       "\n",
       "    .dataframe thead th {\n",
       "        text-align: right;\n",
       "    }\n",
       "</style>\n",
       "<table border=\"1\" class=\"dataframe\">\n",
       "  <thead>\n",
       "    <tr style=\"text-align: right;\">\n",
       "      <th></th>\n",
       "      <th>site</th>\n",
       "      <th>article_url</th>\n",
       "      <th>article_text</th>\n",
       "      <th>tw_in_id</th>\n",
       "      <th>tw_url</th>\n",
       "      <th>tw_text</th>\n",
       "      <th>tw_datetime</th>\n",
       "      <th>tw_retweets</th>\n",
       "      <th>tw_mentions</th>\n",
       "      <th>total_tweets</th>\n",
       "      <th>total_retweets</th>\n",
       "      <th>total_mentions</th>\n",
       "      <th>site_tw_followers</th>\n",
       "      <th>site_tw_following</th>\n",
       "      <th>total_followers</th>\n",
       "      <th>total_following</th>\n",
       "    </tr>\n",
       "  </thead>\n",
       "  <tbody>\n",
       "    <tr>\n",
       "      <th>0</th>\n",
       "      <td>iefimerida</td>\n",
       "      <td>http://www.iefimerida.gr/news/310100/ohi-2016-...</td>\n",
       "      <td>Στο ίντερνετ, το τελευταίο διάστημα ένα σύνθημ...</td>\n",
       "      <td>0</td>\n",
       "      <td>https://twitter.com/iefimerida/status/81525611...</td>\n",
       "      <td>Οχι, το 2016 δεν ήταν η χειρότερη χρονιά της α...</td>\n",
       "      <td>2016-12-31T19:59:39Z</td>\n",
       "      <td>0.0</td>\n",
       "      <td>25854</td>\n",
       "      <td>1</td>\n",
       "      <td>0.0</td>\n",
       "      <td>25854</td>\n",
       "      <td>172080.0</td>\n",
       "      <td>4278.0</td>\n",
       "      <td>172080.0</td>\n",
       "      <td>4278.0</td>\n",
       "    </tr>\n",
       "  </tbody>\n",
       "</table>\n",
       "</div>"
      ],
      "text/plain": [
       "         site                                        article_url  \\\n",
       "0  iefimerida  http://www.iefimerida.gr/news/310100/ohi-2016-...   \n",
       "\n",
       "                                        article_text  tw_in_id  \\\n",
       "0  Στο ίντερνετ, το τελευταίο διάστημα ένα σύνθημ...         0   \n",
       "\n",
       "                                              tw_url  \\\n",
       "0  https://twitter.com/iefimerida/status/81525611...   \n",
       "\n",
       "                                             tw_text           tw_datetime  \\\n",
       "0  Οχι, το 2016 δεν ήταν η χειρότερη χρονιά της α...  2016-12-31T19:59:39Z   \n",
       "\n",
       "   tw_retweets tw_mentions  total_tweets  total_retweets total_mentions  \\\n",
       "0          0.0       25854             1             0.0          25854   \n",
       "\n",
       "   site_tw_followers  site_tw_following  total_followers  total_following  \n",
       "0           172080.0             4278.0         172080.0           4278.0  "
      ]
     },
     "execution_count": 62,
     "metadata": {},
     "output_type": "execute_result"
    }
   ],
   "source": [
    "high_sites_merged_df.head(1)"
   ]
  },
  {
   "cell_type": "markdown",
   "id": "bb7caa09",
   "metadata": {},
   "source": [
    "## **Final datasets**"
   ]
  },
  {
   "cell_type": "code",
   "execution_count": 63,
   "id": "8a43c253",
   "metadata": {},
   "outputs": [
    {
     "name": "stdout",
     "output_type": "stream",
     "text": [
      "high sites: 47\n",
      "high articles with social posts: 1183302\n"
     ]
    }
   ],
   "source": [
    "try:\n",
    "    print('high sites:', high_sites_merged_df.site.nunique())\n",
    "    print('high articles with social posts:', len(high_sites_merged_df))\n",
    "    print('low sites:', low_sites_merged_df.site.nunique())\n",
    "    print('low articles with social posts:', len(low_sites_merged_df))\n",
    "except:\n",
    "    pass"
   ]
  },
  {
   "cell_type": "markdown",
   "id": "3f9fd499",
   "metadata": {},
   "source": [
    "## Export csvs"
   ]
  },
  {
   "cell_type": "code",
   "execution_count": 64,
   "id": "bb753ff0",
   "metadata": {},
   "outputs": [
    {
     "name": "stdout",
     "output_type": "stream",
     "text": [
      "(1183302, 16)\n"
     ]
    }
   ],
   "source": [
    "if main_csvs_path == '0_innews_data_sets/iqcsv/':\n",
    "    filename = \"2016\"\n",
    "    try:\n",
    "        high_sites_fb_tw_df = high_sites_merged_df[(~high_sites_merged_df.total_fb_posts.isna())\\\n",
    "                                                   & (~high_sites_merged_df.total_tweets.isna())].copy()\n",
    "        print(high_sites_merged_df.shape, high_sites_fb_tw_df.shape)\n",
    "        low_sites_fb_tw_df = low_sites_merged_df[(~low_sites_merged_df.total_fb_posts.isna())\\\n",
    "                                                   & (~low_sites_merged_df.total_tweets.isna())].copy()\n",
    "        print(low_sites_merged_df.shape, low_sites_fb_tw_df.shape)\n",
    "    except:\n",
    "        pass\n",
    "else:\n",
    "    if main_csvs_path == '0_innews_data_sets/exports_2017/':\n",
    "        filename = \"2017-2018\"\n",
    "    elif main_csvs_path == '0_innews_data_sets/exports_2022/':\n",
    "        filename = \"2022-2023\"\n",
    "    try:\n",
    "        high_sites_fb_tw_df = high_sites_merged_df.copy()\n",
    "        print(high_sites_fb_tw_df.shape)\n",
    "        low_sites_fb_tw_df = low_sites_merged_df.copy()\n",
    "        print(low_sites_fb_tw_df.shape)\n",
    "    except:\n",
    "        pass\n",
    "        "
   ]
  },
  {
   "cell_type": "code",
   "execution_count": 65,
   "id": "4912c758",
   "metadata": {},
   "outputs": [
    {
     "name": "stdout",
     "output_type": "stream",
     "text": [
      "site                 0\n",
      "article_url          0\n",
      "article_title        0\n",
      "article_text         0\n",
      "tw_in_id             0\n",
      "tw_url               0\n",
      "tw_text              0\n",
      "tw_datetime          0\n",
      "tw_retweets          0\n",
      "tw_mentions          0\n",
      "total_tweets         0\n",
      "total_retweets       0\n",
      "total_mentions       0\n",
      "site_tw_followers    0\n",
      "site_tw_following    0\n",
      "total_followers      0\n",
      "total_following      0\n",
      "dtype: int64\n"
     ]
    }
   ],
   "source": [
    "# high sites nan check\n",
    "try:\n",
    "    high_sites_fb_tw_df['title'] = \\\n",
    "    high_sites_fb_tw_df['tw_text'].str.replace('\\n', ' ') \\\n",
    "    .str.replace('http[\\:a-zA-Z\\/\\.0-9]*|\\#[a-zA-Z]*|\\s{2,}', '', regex=True)\n",
    "    high_sites_fb_tw_df.insert(2, 'article_title', high_sites_fb_tw_df.pop('title'))\n",
    "    print(high_sites_fb_tw_df.isna().sum())\n",
    "    high_sites_fb_tw_df.head()\n",
    "except:\n",
    "    pass"
   ]
  },
  {
   "cell_type": "code",
   "execution_count": 66,
   "id": "606ef952",
   "metadata": {},
   "outputs": [],
   "source": [
    "# low sites nan check\n",
    "try:\n",
    "    low_sites_fb_tw_df['title'] = \\\n",
    "    low_sites_fb_tw_df['tw_text'].str.replace('\\n', ' ') \\\n",
    "    .str.replace('http[\\:a-zA-Z\\/\\.0-9]*|\\#[a-zA-Z]*|\\s{2,}', '', regex=True)\n",
    "    low_sites_fb_tw_df.insert(2, 'article_title', low_sites_fb_tw_df.pop('title'))\n",
    "    print(low_sites_fb_tw_df.isna().sum())\n",
    "    low_sites_fb_tw_df.head()\n",
    "except:\n",
    "    pass"
   ]
  },
  {
   "cell_type": "code",
   "execution_count": 67,
   "id": "5304c293",
   "metadata": {},
   "outputs": [
    {
     "data": {
      "text/plain": [
       "Index(['site', 'article_url', 'article_title', 'article_text', 'tw_in_id',\n",
       "       'tw_url', 'tw_text', 'tw_datetime', 'tw_retweets', 'tw_mentions',\n",
       "       'total_tweets', 'total_retweets', 'total_mentions', 'site_tw_followers',\n",
       "       'site_tw_following', 'total_followers', 'total_following'],\n",
       "      dtype='object')"
      ]
     },
     "execution_count": 67,
     "metadata": {},
     "output_type": "execute_result"
    }
   ],
   "source": [
    "high_sites_fb_tw_df.columns"
   ]
  },
  {
   "cell_type": "markdown",
   "id": "26c34452",
   "metadata": {},
   "source": [
    "**Clean \\n from text (article, tw, fb)**"
   ]
  },
  {
   "cell_type": "code",
   "execution_count": 68,
   "id": "32867c6f",
   "metadata": {},
   "outputs": [],
   "source": [
    "for col_name in ['article_text', 'fb_text', 'tw_text']:\n",
    "    try:\n",
    "        high_sites_fb_tw_df[col_name] = \\\n",
    "        high_sites_fb_tw_df[col_name].str.replace('\\xa0', ' ').str.replace('\\r', ' ')\\\n",
    "        .str.replace('\\n', ' ').str.replace('\\t', ' ').str.replace('    ', ' ')\\\n",
    "        .str.replace('   ', ' ').str.replace('  ', ' ')\n",
    "        low_sites_fb_tw_df[col_name] = \\\n",
    "        low_sites_fb_tw_df[col_name].str.replace('\\xa0', ' ').str.replace('\\r', ' ')\\\n",
    "        .str.replace('\\n', ' ').str.replace('\\t', ' ').str.replace('    ', ' ')\\\n",
    "        .str.replace('   ', ' ').str.replace('  ', ' ')\n",
    "    except:\n",
    "        pass"
   ]
  },
  {
   "cell_type": "markdown",
   "id": "fd43c536",
   "metadata": {},
   "source": [
    "### **Save csvs**"
   ]
  },
  {
   "cell_type": "code",
   "execution_count": 69,
   "id": "7e9b3882",
   "metadata": {},
   "outputs": [],
   "source": [
    "try:\n",
    "    high_sites_fb_tw_df.to_csv('0_csvs_for_IQ_feed/high_sites_' + filename + '.csv', index=False)\n",
    "    low_sites_fb_tw_df.to_csv('0_csvs_for_IQ_feed/low_sites_' + filename + '.csv', index=False)\n",
    "except:\n",
    "    pass"
   ]
  },
  {
   "cell_type": "code",
   "execution_count": 71,
   "id": "34efbdf6",
   "metadata": {},
   "outputs": [
    {
     "data": {
      "text/html": [
       "<div>\n",
       "<style scoped>\n",
       "    .dataframe tbody tr th:only-of-type {\n",
       "        vertical-align: middle;\n",
       "    }\n",
       "\n",
       "    .dataframe tbody tr th {\n",
       "        vertical-align: top;\n",
       "    }\n",
       "\n",
       "    .dataframe thead th {\n",
       "        text-align: right;\n",
       "    }\n",
       "</style>\n",
       "<table border=\"1\" class=\"dataframe\">\n",
       "  <thead>\n",
       "    <tr style=\"text-align: right;\">\n",
       "      <th></th>\n",
       "      <th>site</th>\n",
       "      <th>article_url</th>\n",
       "      <th>article_title</th>\n",
       "      <th>article_text</th>\n",
       "      <th>tw_in_id</th>\n",
       "      <th>tw_url</th>\n",
       "      <th>tw_text</th>\n",
       "      <th>tw_datetime</th>\n",
       "      <th>tw_retweets</th>\n",
       "      <th>tw_mentions</th>\n",
       "      <th>total_tweets</th>\n",
       "      <th>total_retweets</th>\n",
       "      <th>total_mentions</th>\n",
       "      <th>site_tw_followers</th>\n",
       "      <th>site_tw_following</th>\n",
       "      <th>total_followers</th>\n",
       "      <th>total_following</th>\n",
       "    </tr>\n",
       "  </thead>\n",
       "  <tbody>\n",
       "    <tr>\n",
       "      <th>0</th>\n",
       "      <td>iefimerida</td>\n",
       "      <td>http://www.iefimerida.gr/news/310100/ohi-2016-...</td>\n",
       "      <td>Οχι, το 2016 δεν ήταν η χειρότερη χρονιά της α...</td>\n",
       "      <td>Στο ίντερνετ, το τελευταίο διάστημα ένα σύνθημ...</td>\n",
       "      <td>0</td>\n",
       "      <td>https://twitter.com/iefimerida/status/81525611...</td>\n",
       "      <td>Οχι, το 2016 δεν ήταν η χειρότερη χρονιά της α...</td>\n",
       "      <td>2016-12-31T19:59:39Z</td>\n",
       "      <td>0.0</td>\n",
       "      <td>25854.0</td>\n",
       "      <td>1</td>\n",
       "      <td>0.0</td>\n",
       "      <td>25854.0</td>\n",
       "      <td>172080.0</td>\n",
       "      <td>4278.0</td>\n",
       "      <td>172080.0</td>\n",
       "      <td>4278.0</td>\n",
       "    </tr>\n",
       "    <tr>\n",
       "      <th>1</th>\n",
       "      <td>iefimerida</td>\n",
       "      <td>http://www.iefimerida.gr/news/310407/ypoyrgeio...</td>\n",
       "      <td>Το υπουργείο Οικονομίας διέψευσε τη «μεγάλη φυ...</td>\n",
       "      <td>Το υπουργείο Οικονομίας και Ανάπτυξης, με άτυπ...</td>\n",
       "      <td>1</td>\n",
       "      <td>https://twitter.com/iefimerida/status/81526386...</td>\n",
       "      <td>Το υπουργείο Οικονομίας διέψευσε τη «μεγάλη φυ...</td>\n",
       "      <td>2016-12-31T20:30:26Z</td>\n",
       "      <td>0.0</td>\n",
       "      <td>25854.0</td>\n",
       "      <td>2</td>\n",
       "      <td>0.0</td>\n",
       "      <td>25854.0</td>\n",
       "      <td>172080.0</td>\n",
       "      <td>4278.0</td>\n",
       "      <td>311703.0</td>\n",
       "      <td>4278.0</td>\n",
       "    </tr>\n",
       "    <tr>\n",
       "      <th>2</th>\n",
       "      <td>iefimerida</td>\n",
       "      <td>http://www.iefimerida.gr/news/310404/minyma-mi...</td>\n",
       "      <td>Μήνυμα Μητσοτάκη για το νέο έτος: «Είναι η ώρα...</td>\n",
       "      <td>«Το 2016 φεύγει, αφήνοντας πίσω του ένα αίσθημ...</td>\n",
       "      <td>2</td>\n",
       "      <td>https://twitter.com/iefimerida/status/81525431...</td>\n",
       "      <td>Μήνυμα Μητσοτάκη για το νέο έτος: «Είναι η ώρα...</td>\n",
       "      <td>2016-12-31T19:52:29Z</td>\n",
       "      <td>0.0</td>\n",
       "      <td>25854.0</td>\n",
       "      <td>1</td>\n",
       "      <td>0.0</td>\n",
       "      <td>25854.0</td>\n",
       "      <td>172080.0</td>\n",
       "      <td>4278.0</td>\n",
       "      <td>172080.0</td>\n",
       "      <td>4278.0</td>\n",
       "    </tr>\n",
       "    <tr>\n",
       "      <th>3</th>\n",
       "      <td>iefimerida</td>\n",
       "      <td>http://www.iefimerida.gr/news/310408/me-ilio-k...</td>\n",
       "      <td>Με ήλιο και κρύο «μπαίνει» η νέα χρονιά -Βελτί...</td>\n",
       "      <td>Με ήλιο, κρύο και χιόνια ξεκινάει η χρονιά. Αν...</td>\n",
       "      <td>3</td>\n",
       "      <td>https://twitter.com/iefimerida/status/81528249...</td>\n",
       "      <td>Με ήλιο και κρύο «μπαίνει» η νέα χρονιά -Βελτί...</td>\n",
       "      <td>2016-12-31T21:44:29Z</td>\n",
       "      <td>0.0</td>\n",
       "      <td>25854.0</td>\n",
       "      <td>1</td>\n",
       "      <td>0.0</td>\n",
       "      <td>25854.0</td>\n",
       "      <td>172080.0</td>\n",
       "      <td>4278.0</td>\n",
       "      <td>172080.0</td>\n",
       "      <td>4278.0</td>\n",
       "    </tr>\n",
       "    <tr>\n",
       "      <th>4</th>\n",
       "      <td>iefimerida</td>\n",
       "      <td>http://www.iefimerida.gr/news/310411/akatallil...</td>\n",
       "      <td>Ακατάλληλο για κατανάλωση το νερό στο Μεσολόγγ...</td>\n",
       "      <td>Ακατάλληλο για κατανάλωση και χρήση κρίθηκε το...</td>\n",
       "      <td>4</td>\n",
       "      <td>https://twitter.com/iefimerida/status/81527680...</td>\n",
       "      <td>Ακατάλληλο για κατανάλωση το νερό στο Μεσολόγγ...</td>\n",
       "      <td>2016-12-31T21:21:52Z</td>\n",
       "      <td>0.0</td>\n",
       "      <td>25854.0</td>\n",
       "      <td>1</td>\n",
       "      <td>0.0</td>\n",
       "      <td>25854.0</td>\n",
       "      <td>172080.0</td>\n",
       "      <td>4278.0</td>\n",
       "      <td>172080.0</td>\n",
       "      <td>4278.0</td>\n",
       "    </tr>\n",
       "    <tr>\n",
       "      <th>...</th>\n",
       "      <td>...</td>\n",
       "      <td>...</td>\n",
       "      <td>...</td>\n",
       "      <td>...</td>\n",
       "      <td>...</td>\n",
       "      <td>...</td>\n",
       "      <td>...</td>\n",
       "      <td>...</td>\n",
       "      <td>...</td>\n",
       "      <td>...</td>\n",
       "      <td>...</td>\n",
       "      <td>...</td>\n",
       "      <td>...</td>\n",
       "      <td>...</td>\n",
       "      <td>...</td>\n",
       "      <td>...</td>\n",
       "      <td>...</td>\n",
       "    </tr>\n",
       "    <tr>\n",
       "      <th>1183297</th>\n",
       "      <td>presspublica</td>\n",
       "      <td>https://www.presspublica.gr/toyrkia-vinteo-me-...</td>\n",
       "      <td>Τουρκία: Βίντεο με άνδρες που φέρεται ότι μετα...</td>\n",
       "      <td>Άνδρες που μεταφέρουν βαλίτσες, μέσα στις οποί...</td>\n",
       "      <td>1967480</td>\n",
       "      <td>https://twitter.com/PressPublica/status/107981...</td>\n",
       "      <td>Τουρκία: Βίντεο με άνδρες που φέρεται ότι μετα...</td>\n",
       "      <td>2018-12-31T21:17:45Z</td>\n",
       "      <td>0.0</td>\n",
       "      <td>0.0</td>\n",
       "      <td>1</td>\n",
       "      <td>0.0</td>\n",
       "      <td>0.0</td>\n",
       "      <td>1396.0</td>\n",
       "      <td>432.0</td>\n",
       "      <td>1396.0</td>\n",
       "      <td>432.0</td>\n",
       "    </tr>\n",
       "    <tr>\n",
       "      <th>1183298</th>\n",
       "      <td>presspublica</td>\n",
       "      <td>https://www.presspublica.gr/st-theodorakis-to-...</td>\n",
       "      <td>Στ. Θεοδωράκης: Το 2019 να σκεφτούμε και να πρ...</td>\n",
       "      <td>«Το 2019 μπορεί να είναι μία αληθινά νέα χρονι...</td>\n",
       "      <td>1967481</td>\n",
       "      <td>https://twitter.com/PressPublica/status/107982...</td>\n",
       "      <td>Στ. Θεοδωράκης: Το 2019 να σκεφτούμε και να πρ...</td>\n",
       "      <td>2018-12-31T21:27:40Z</td>\n",
       "      <td>0.0</td>\n",
       "      <td>0.0</td>\n",
       "      <td>1</td>\n",
       "      <td>0.0</td>\n",
       "      <td>0.0</td>\n",
       "      <td>1396.0</td>\n",
       "      <td>432.0</td>\n",
       "      <td>1396.0</td>\n",
       "      <td>432.0</td>\n",
       "    </tr>\n",
       "    <tr>\n",
       "      <th>1183299</th>\n",
       "      <td>presspublica</td>\n",
       "      <td>https://www.presspublica.gr/mitsotakis-i-chora...</td>\n",
       "      <td>Μητσοτάκης: Η χώρα δεν χρειάζεται άλλους διχασ...</td>\n",
       "      <td>«Το γύρισμα του χρόνου μάς οδηγεί και σε ένα γ...</td>\n",
       "      <td>1967482</td>\n",
       "      <td>https://twitter.com/PressPublica/status/107982...</td>\n",
       "      <td>Μητσοτάκης: Η χώρα δεν χρειάζεται άλλους διχασ...</td>\n",
       "      <td>2018-12-31T21:49:19Z</td>\n",
       "      <td>0.0</td>\n",
       "      <td>0.0</td>\n",
       "      <td>1</td>\n",
       "      <td>0.0</td>\n",
       "      <td>0.0</td>\n",
       "      <td>1396.0</td>\n",
       "      <td>432.0</td>\n",
       "      <td>1396.0</td>\n",
       "      <td>432.0</td>\n",
       "    </tr>\n",
       "    <tr>\n",
       "      <th>1183300</th>\n",
       "      <td>presspublica</td>\n",
       "      <td>https://www.presspublica.gr/tramp-argi-i-apoch...</td>\n",
       "      <td>Τραμπ: «Αργή» η αποχώρηση των Αμερικανών στρατ...</td>\n",
       "      <td>Ο πρόεδρος των ΗΠΑ Ντόναλντ Τραμπ επιβεβαίωσε ...</td>\n",
       "      <td>1967483</td>\n",
       "      <td>https://twitter.com/PressPublica/status/107982...</td>\n",
       "      <td>Τραμπ: «Αργή» η αποχώρηση των Αμερικανών στρατ...</td>\n",
       "      <td>2018-12-31T21:52:09Z</td>\n",
       "      <td>0.0</td>\n",
       "      <td>0.0</td>\n",
       "      <td>1</td>\n",
       "      <td>0.0</td>\n",
       "      <td>0.0</td>\n",
       "      <td>1396.0</td>\n",
       "      <td>432.0</td>\n",
       "      <td>1396.0</td>\n",
       "      <td>432.0</td>\n",
       "    </tr>\n",
       "    <tr>\n",
       "      <th>1183301</th>\n",
       "      <td>presspublica</td>\n",
       "      <td>https://www.presspublica.gr/erntogan-minyma-ap...</td>\n",
       "      <td>Ερντογάν: Μήνυμα αποφασιστικότητας για Αιγαίο ...</td>\n",
       "      <td>Μήνυμα πως η Τουρκία επιδεικνύει την αποφασιστ...</td>\n",
       "      <td>1967484</td>\n",
       "      <td>https://twitter.com/PressPublica/status/107982...</td>\n",
       "      <td>Ερντογάν: Μήνυμα αποφασιστικότητας για Αιγαίο ...</td>\n",
       "      <td>2018-12-31T21:55:13Z</td>\n",
       "      <td>0.0</td>\n",
       "      <td>0.0</td>\n",
       "      <td>1</td>\n",
       "      <td>0.0</td>\n",
       "      <td>0.0</td>\n",
       "      <td>1396.0</td>\n",
       "      <td>432.0</td>\n",
       "      <td>1396.0</td>\n",
       "      <td>432.0</td>\n",
       "    </tr>\n",
       "  </tbody>\n",
       "</table>\n",
       "<p>1183302 rows × 17 columns</p>\n",
       "</div>"
      ],
      "text/plain": [
       "                 site                                        article_url  \\\n",
       "0          iefimerida  http://www.iefimerida.gr/news/310100/ohi-2016-...   \n",
       "1          iefimerida  http://www.iefimerida.gr/news/310407/ypoyrgeio...   \n",
       "2          iefimerida  http://www.iefimerida.gr/news/310404/minyma-mi...   \n",
       "3          iefimerida  http://www.iefimerida.gr/news/310408/me-ilio-k...   \n",
       "4          iefimerida  http://www.iefimerida.gr/news/310411/akatallil...   \n",
       "...               ...                                                ...   \n",
       "1183297  presspublica  https://www.presspublica.gr/toyrkia-vinteo-me-...   \n",
       "1183298  presspublica  https://www.presspublica.gr/st-theodorakis-to-...   \n",
       "1183299  presspublica  https://www.presspublica.gr/mitsotakis-i-chora...   \n",
       "1183300  presspublica  https://www.presspublica.gr/tramp-argi-i-apoch...   \n",
       "1183301  presspublica  https://www.presspublica.gr/erntogan-minyma-ap...   \n",
       "\n",
       "                                             article_title  \\\n",
       "0        Οχι, το 2016 δεν ήταν η χειρότερη χρονιά της α...   \n",
       "1        Το υπουργείο Οικονομίας διέψευσε τη «μεγάλη φυ...   \n",
       "2        Μήνυμα Μητσοτάκη για το νέο έτος: «Είναι η ώρα...   \n",
       "3        Με ήλιο και κρύο «μπαίνει» η νέα χρονιά -Βελτί...   \n",
       "4        Ακατάλληλο για κατανάλωση το νερό στο Μεσολόγγ...   \n",
       "...                                                    ...   \n",
       "1183297  Τουρκία: Βίντεο με άνδρες που φέρεται ότι μετα...   \n",
       "1183298  Στ. Θεοδωράκης: Το 2019 να σκεφτούμε και να πρ...   \n",
       "1183299  Μητσοτάκης: Η χώρα δεν χρειάζεται άλλους διχασ...   \n",
       "1183300  Τραμπ: «Αργή» η αποχώρηση των Αμερικανών στρατ...   \n",
       "1183301  Ερντογάν: Μήνυμα αποφασιστικότητας για Αιγαίο ...   \n",
       "\n",
       "                                              article_text  tw_in_id  \\\n",
       "0        Στο ίντερνετ, το τελευταίο διάστημα ένα σύνθημ...         0   \n",
       "1        Το υπουργείο Οικονομίας και Ανάπτυξης, με άτυπ...         1   \n",
       "2        «Το 2016 φεύγει, αφήνοντας πίσω του ένα αίσθημ...         2   \n",
       "3        Με ήλιο, κρύο και χιόνια ξεκινάει η χρονιά. Αν...         3   \n",
       "4        Ακατάλληλο για κατανάλωση και χρήση κρίθηκε το...         4   \n",
       "...                                                    ...       ...   \n",
       "1183297  Άνδρες που μεταφέρουν βαλίτσες, μέσα στις οποί...   1967480   \n",
       "1183298  «Το 2019 μπορεί να είναι μία αληθινά νέα χρονι...   1967481   \n",
       "1183299  «Το γύρισμα του χρόνου μάς οδηγεί και σε ένα γ...   1967482   \n",
       "1183300  Ο πρόεδρος των ΗΠΑ Ντόναλντ Τραμπ επιβεβαίωσε ...   1967483   \n",
       "1183301  Μήνυμα πως η Τουρκία επιδεικνύει την αποφασιστ...   1967484   \n",
       "\n",
       "                                                    tw_url  \\\n",
       "0        https://twitter.com/iefimerida/status/81525611...   \n",
       "1        https://twitter.com/iefimerida/status/81526386...   \n",
       "2        https://twitter.com/iefimerida/status/81525431...   \n",
       "3        https://twitter.com/iefimerida/status/81528249...   \n",
       "4        https://twitter.com/iefimerida/status/81527680...   \n",
       "...                                                    ...   \n",
       "1183297  https://twitter.com/PressPublica/status/107981...   \n",
       "1183298  https://twitter.com/PressPublica/status/107982...   \n",
       "1183299  https://twitter.com/PressPublica/status/107982...   \n",
       "1183300  https://twitter.com/PressPublica/status/107982...   \n",
       "1183301  https://twitter.com/PressPublica/status/107982...   \n",
       "\n",
       "                                                   tw_text  \\\n",
       "0        Οχι, το 2016 δεν ήταν η χειρότερη χρονιά της α...   \n",
       "1        Το υπουργείο Οικονομίας διέψευσε τη «μεγάλη φυ...   \n",
       "2        Μήνυμα Μητσοτάκη για το νέο έτος: «Είναι η ώρα...   \n",
       "3        Με ήλιο και κρύο «μπαίνει» η νέα χρονιά -Βελτί...   \n",
       "4        Ακατάλληλο για κατανάλωση το νερό στο Μεσολόγγ...   \n",
       "...                                                    ...   \n",
       "1183297  Τουρκία: Βίντεο με άνδρες που φέρεται ότι μετα...   \n",
       "1183298  Στ. Θεοδωράκης: Το 2019 να σκεφτούμε και να πρ...   \n",
       "1183299  Μητσοτάκης: Η χώρα δεν χρειάζεται άλλους διχασ...   \n",
       "1183300  Τραμπ: «Αργή» η αποχώρηση των Αμερικανών στρατ...   \n",
       "1183301  Ερντογάν: Μήνυμα αποφασιστικότητας για Αιγαίο ...   \n",
       "\n",
       "                  tw_datetime  tw_retweets  tw_mentions  total_tweets  \\\n",
       "0        2016-12-31T19:59:39Z          0.0      25854.0             1   \n",
       "1        2016-12-31T20:30:26Z          0.0      25854.0             2   \n",
       "2        2016-12-31T19:52:29Z          0.0      25854.0             1   \n",
       "3        2016-12-31T21:44:29Z          0.0      25854.0             1   \n",
       "4        2016-12-31T21:21:52Z          0.0      25854.0             1   \n",
       "...                       ...          ...          ...           ...   \n",
       "1183297  2018-12-31T21:17:45Z          0.0          0.0             1   \n",
       "1183298  2018-12-31T21:27:40Z          0.0          0.0             1   \n",
       "1183299  2018-12-31T21:49:19Z          0.0          0.0             1   \n",
       "1183300  2018-12-31T21:52:09Z          0.0          0.0             1   \n",
       "1183301  2018-12-31T21:55:13Z          0.0          0.0             1   \n",
       "\n",
       "         total_retweets  total_mentions  site_tw_followers  site_tw_following  \\\n",
       "0                   0.0         25854.0           172080.0             4278.0   \n",
       "1                   0.0         25854.0           172080.0             4278.0   \n",
       "2                   0.0         25854.0           172080.0             4278.0   \n",
       "3                   0.0         25854.0           172080.0             4278.0   \n",
       "4                   0.0         25854.0           172080.0             4278.0   \n",
       "...                 ...             ...                ...                ...   \n",
       "1183297             0.0             0.0             1396.0              432.0   \n",
       "1183298             0.0             0.0             1396.0              432.0   \n",
       "1183299             0.0             0.0             1396.0              432.0   \n",
       "1183300             0.0             0.0             1396.0              432.0   \n",
       "1183301             0.0             0.0             1396.0              432.0   \n",
       "\n",
       "         total_followers  total_following  \n",
       "0               172080.0           4278.0  \n",
       "1               311703.0           4278.0  \n",
       "2               172080.0           4278.0  \n",
       "3               172080.0           4278.0  \n",
       "4               172080.0           4278.0  \n",
       "...                  ...              ...  \n",
       "1183297           1396.0            432.0  \n",
       "1183298           1396.0            432.0  \n",
       "1183299           1396.0            432.0  \n",
       "1183300           1396.0            432.0  \n",
       "1183301           1396.0            432.0  \n",
       "\n",
       "[1183302 rows x 17 columns]"
      ]
     },
     "execution_count": 71,
     "metadata": {},
     "output_type": "execute_result"
    }
   ],
   "source": [
    "high_sites_df = pd.read_csv(\"0_csvs_for_IQ_feed/high_sites_2017-2018.csv\")\n",
    "high_sites_df"
   ]
  },
  {
   "cell_type": "code",
   "execution_count": null,
   "id": "aae01220",
   "metadata": {},
   "outputs": [],
   "source": []
  },
  {
   "cell_type": "markdown",
   "id": "c1e2ecac",
   "metadata": {},
   "source": [
    "## **Top articles based on engagement**"
   ]
  },
  {
   "cell_type": "markdown",
   "id": "33765af6",
   "metadata": {},
   "source": [
    "**High quality sites**"
   ]
  },
  {
   "cell_type": "code",
   "execution_count": 78,
   "id": "06f27fb2",
   "metadata": {},
   "outputs": [
    {
     "name": "stdout",
     "output_type": "stream",
     "text": [
      "30\n",
      "['iefimerida' 'tvxs' 'thetoc' 'stokokkino' 'skai' 'tovima' 'ert' 'zougla'\n",
      " 'enikonomia' 'athensvoice' 'star' 'parapolitika' 'antinews' 'enikos'\n",
      " 'news247' 'balla' 'infokids' 'cyclades24' 'avgi' 'naftemporiki'\n",
      " 'paraskhnio' 'efsyn' 'kathimerini' 'amna' 'protagon' 'newspao' 'left'\n",
      " 'real' 'ipaideia' 'newpost']\n",
      "(4152, 17)\n"
     ]
    }
   ],
   "source": [
    "if main_csvs_path == '0_innews_data_sets/iqcsv/':\n",
    "    high_top_75_df = \\\n",
    "    high_sites_df[(high_sites_df['total_fb_posts'].ge(high_sites_df['total_fb_posts'].quantile(q=.75))) &\n",
    "                        (high_sites_df['total_fb_likes'].ge(high_sites_df['total_fb_likes'].quantile(q=.75))) &\n",
    "                        (high_sites_df['total_fb_comments'].ge(high_sites_df['total_fb_comments'].quantile(q=.75))) &\n",
    "                        (high_sites_df['total_tweets'].ge(high_sites_df['total_tweets'].quantile(q=.75))) & \n",
    "                        (high_sites_df['total_retweets'].ge(high_sites_df['total_retweets'].quantile(q=.75)))\n",
    "                        ]\n",
    "\n",
    "    print(high_top_75_df.site.nunique())\n",
    "    print(high_top_75_df.site.unique())\n",
    "    print(high_top_75_df.shape)\n",
    "elif main_csvs_path == '0_innews_data_sets/exports_2022/':\n",
    "    high_top_near_mean_df = \\\n",
    "    high_sites_df[(high_sites_df['total_tweets'].ge(0.09)) & \n",
    "                  (high_sites_df['total_retweets'].ge(0.07))]\n",
    "    print(high_top_near_mean_df.site.nunique())\n",
    "    print(high_top_near_mean_df.site.unique())\n",
    "    print(high_top_near_mean_df.shape)\n",
    "elif main_csvs_path == '0_innews_data_sets/exports_2017/':\n",
    "    high_top_98_df = \\\n",
    "    high_sites_df[(high_sites_df['total_tweets'].ge(high_sites_df['total_tweets'].quantile(q=.98))) & \n",
    "                  (high_sites_df['total_retweets'].ge(high_sites_df['total_retweets'].quantile(q=.98)))]\n",
    "    print(high_top_98_df.site.nunique())\n",
    "    print(high_top_98_df.site.unique())\n",
    "    print(high_top_98_df.shape)   "
   ]
  },
  {
   "cell_type": "code",
   "execution_count": 79,
   "id": "7c1fcecb",
   "metadata": {},
   "outputs": [],
   "source": [
    "if main_csvs_path == '0_innews_data_sets/iqcsv/':\n",
    "    high_top_75_df.to_csv('0_csvs_for_IQ_feed/high_sites_'+filename+'_top_75.csv', index=False)\n",
    "elif main_csvs_path == '0_innews_data_sets/exports_2022/':\n",
    "    high_top_near_mean_df.to_csv('0_csvs_for_IQ_feed/high_sites_'+filename+'_near_mean.csv', index=False)\n",
    "elif main_csvs_path == '0_innews_data_sets/exports_2017/':\n",
    "    high_top_98_df.to_csv('0_csvs_for_IQ_feed/high_sites_'+filename+'_top_98.csv', index=False)"
   ]
  },
  {
   "cell_type": "markdown",
   "id": "aa8e9185",
   "metadata": {},
   "source": [
    "**Low quality sites**"
   ]
  },
  {
   "cell_type": "code",
   "execution_count": null,
   "id": "059da5b5",
   "metadata": {},
   "outputs": [],
   "source": [
    "if main_csvs_path == '0_innews_data_sets/iqcsv/':\n",
    "    low_top_66_df = \\\n",
    "    low_sites_df[(low_sites_df['total_fb_posts'].ge(low_sites_df['total_fb_posts'].quantile(q=.66))) &\n",
    "                        (low_sites_df['total_fb_likes'].ge(low_sites_df['total_fb_likes'].quantile(q=.66))) &\n",
    "                        (low_sites_df['total_fb_comments'].ge(low_sites_df['total_fb_comments'].quantile(q=.66))) &\n",
    "                        (low_sites_df['total_tweets'].ge(low_sites_df['total_tweets'].quantile(q=.66))) & \n",
    "                        (low_sites_df['total_retweets'].ge(low_sites_df['total_retweets'].quantile(q=.66)))\n",
    "                        ]\n",
    "\n",
    "    print(low_top_66_df.site.nunique())\n",
    "    print(low_top_66_df.site.unique())\n",
    "    print(low_top_66_df.shape)"
   ]
  },
  {
   "cell_type": "code",
   "execution_count": null,
   "id": "cb7d1d49",
   "metadata": {},
   "outputs": [],
   "source": [
    "if main_csvs_path == '0_innews_data_sets/iqcsv/':\n",
    "    low_top_66_df.to_csv('0_csvs_for_IQ_feed/high_sites_'+filename+'_top_66.csv', index=False)"
   ]
  },
  {
   "cell_type": "code",
   "execution_count": null,
   "id": "123f0da1",
   "metadata": {},
   "outputs": [],
   "source": []
  }
 ],
 "metadata": {
  "kernelspec": {
   "display_name": "Python 3 (ipykernel)",
   "language": "python",
   "name": "python3"
  },
  "language_info": {
   "codemirror_mode": {
    "name": "ipython",
    "version": 3
   },
   "file_extension": ".py",
   "mimetype": "text/x-python",
   "name": "python",
   "nbconvert_exporter": "python",
   "pygments_lexer": "ipython3",
   "version": "3.8.10"
  }
 },
 "nbformat": 4,
 "nbformat_minor": 5
}
