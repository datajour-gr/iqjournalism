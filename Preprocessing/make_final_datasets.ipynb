{
 "cells": [
  {
   "cell_type": "code",
   "execution_count": 1,
   "id": "f48b8009",
   "metadata": {},
   "outputs": [],
   "source": [
    "import pandas as pd\n",
    "\n",
    "from datetime import date \n",
    "from datetime import datetime, timedelta\n",
    "import sys\n",
    "\n",
    "import os\n",
    "from pathlib import Path\n",
    "\n",
    "import time\n",
    "\n",
    "import re\n",
    "\n",
    "import shutil\n",
    "\n",
    "from os import listdir\n",
    "from os.path import isfile, join"
   ]
  },
  {
   "cell_type": "code",
   "execution_count": 2,
   "id": "85c4612c",
   "metadata": {},
   "outputs": [],
   "source": [
    "import sys \n",
    "#!{sys.executable} -m pip install --user matplotlib"
   ]
  },
  {
   "cell_type": "markdown",
   "id": "5b29a05a",
   "metadata": {},
   "source": [
    "# **Make comp dfs**"
   ]
  },
  {
   "cell_type": "markdown",
   "id": "258411c6",
   "metadata": {},
   "source": [
    "**Read sites list with ratings**"
   ]
  },
  {
   "cell_type": "code",
   "execution_count": 3,
   "id": "d98b1ca3",
   "metadata": {},
   "outputs": [
    {
     "data": {
      "text/html": [
       "<div>\n",
       "<style scoped>\n",
       "    .dataframe tbody tr th:only-of-type {\n",
       "        vertical-align: middle;\n",
       "    }\n",
       "\n",
       "    .dataframe tbody tr th {\n",
       "        vertical-align: top;\n",
       "    }\n",
       "\n",
       "    .dataframe thead th {\n",
       "        text-align: right;\n",
       "    }\n",
       "</style>\n",
       "<table border=\"1\" class=\"dataframe\">\n",
       "  <thead>\n",
       "    <tr style=\"text-align: right;\">\n",
       "      <th></th>\n",
       "      <th>news_site</th>\n",
       "      <th>url</th>\n",
       "      <th>rate</th>\n",
       "      <th>Unnamed: 3</th>\n",
       "    </tr>\n",
       "  </thead>\n",
       "  <tbody>\n",
       "    <tr>\n",
       "      <th>0</th>\n",
       "      <td>creteplus.gr</td>\n",
       "      <td>https://creteplus.gr</td>\n",
       "      <td>high</td>\n",
       "      <td>NaN</td>\n",
       "    </tr>\n",
       "  </tbody>\n",
       "</table>\n",
       "</div>"
      ],
      "text/plain": [
       "      news_site                   url  rate Unnamed: 3\n",
       "0  creteplus.gr  https://creteplus.gr  high        NaN"
      ]
     },
     "execution_count": 3,
     "metadata": {},
     "output_type": "execute_result"
    }
   ],
   "source": [
    "sites_list_df = pd.read_csv('iq_sites_list_rated(updated).csv')\n",
    "sites_list_df.head(1)"
   ]
  },
  {
   "cell_type": "markdown",
   "id": "770ec806",
   "metadata": {},
   "source": [
    "**Define column names**"
   ]
  },
  {
   "cell_type": "code",
   "execution_count": 4,
   "id": "f9d9c73d",
   "metadata": {},
   "outputs": [],
   "source": [
    "header_names = [\"type_s\", # τύπος social\n",
    "                \"url_s\", # url του social\n",
    "                \"external_link_s\", # url του άρθρου\n",
    "                \"source_s\", # όνομα του social\n",
    "                \"timestamp_dt\", # ημερομηνία δημοσίευσης στο social\n",
    "                \"text_txt_el\", # κείμενο στο social\n",
    "                \"retweet_count_l\", # πλήθος retweets (twitter)\n",
    "                \"followers_i\", # πλήθος followers (twitter)\n",
    "                \"following_i\", # πλήθος following (twitter)\n",
    "                \"mentions_i\", # πλήθος αναφορών (twitter)\n",
    "                \"comments_i\", # πλήθος σχολίων (fb)\n",
    "                \"likes_i\", # πλήθος likes (fb\n",
    "                \"full_artcl_text\" # κείμενο άρθρου στο site (δεν περιλαμβάνεται ο τίτλος)\n",
    "               ]"
   ]
  },
  {
   "cell_type": "markdown",
   "id": "ab4888e7",
   "metadata": {},
   "source": [
    "**Make comp dfs for high and low quality sites**"
   ]
  },
  {
   "cell_type": "code",
   "execution_count": null,
   "id": "ce396e5b",
   "metadata": {},
   "outputs": [],
   "source": [
    "# create dictionaries for the high and low sites dfs\n",
    "dfs_high = {}\n",
    "dfs_low = {}\n",
    "\n",
    "# path to csvs from innews\n",
    "main_csvs_path = '0_innews_data_sets/iqcsv/'\n",
    "\n",
    "# read csv, make df, put it in the dictionary\n",
    "for index, row in sites_list_df.iterrows():\n",
    "    key = row['news_site']\n",
    "    csv_name = key + '.csv'\n",
    "    site_df = pd.read_csv(main_csvs_path + csv_name, header=None, names=header_names, on_bad_lines='skip')\n",
    "    site_df['site'] = key\n",
    "    if row['rate'] == 'high':\n",
    "        dfs_high[key] = site_df\n",
    "    elif row['rate'] == 'low':\n",
    "        dfs_low[key] = site_df"
   ]
  },
  {
   "cell_type": "code",
   "execution_count": null,
   "id": "a22ae6f9",
   "metadata": {
    "scrolled": false
   },
   "outputs": [],
   "source": [
    "# make comp dfs for high and low dfs\n",
    "for q in ['high', 'low']:\n",
    "    if q == 'high':\n",
    "        for i in range(0, len(dfs_high)-1):\n",
    "            if i == 0:\n",
    "                high_comp_df = pd.concat([dfs_high[list(dfs_high.keys())[i]], dfs_high[list(dfs_high.keys())[i+1]]])\n",
    "            else:\n",
    "                high_comp_df = pd.concat([high_comp_df, dfs_high[list(dfs_high.keys())[i+1]]])\n",
    "    elif q == 'low':\n",
    "        for i in range(0, len(dfs_low)-1):\n",
    "            if i==0:\n",
    "                low_comp_df = pd.concat([dfs_low[list(dfs_low.keys())[i]], dfs_low[list(dfs_low.keys())[i+1]]])\n",
    "            else:\n",
    "                low_comp_df = pd.concat([low_comp_df, dfs_low[list(dfs_low.keys())[i+1]]])\n",
    "high_comp_df.reset_index(drop=True, inplace=True)\n",
    "low_comp_df.reset_index(drop=True, inplace=True)"
   ]
  },
  {
   "cell_type": "markdown",
   "id": "369e575a",
   "metadata": {},
   "source": [
    "**Add an ID column**"
   ]
  },
  {
   "cell_type": "code",
   "execution_count": null,
   "id": "3fba0a47",
   "metadata": {
    "scrolled": true
   },
   "outputs": [],
   "source": [
    "high_comp_df.insert(0, 'in_id', high_comp_df.index)\n",
    "low_comp_df.insert(0, 'in_id', low_comp_df.index)"
   ]
  },
  {
   "cell_type": "markdown",
   "id": "7b868232",
   "metadata": {},
   "source": [
    "### **Initial observations**"
   ]
  },
  {
   "cell_type": "code",
   "execution_count": null,
   "id": "3b79604a",
   "metadata": {
    "scrolled": true
   },
   "outputs": [],
   "source": [
    "print('start unique article urls high:', len(high_comp_df.external_link_s.unique()))\n",
    "print('start unique article urls low:', len(low_comp_df.external_link_s.unique()))\n",
    "print('start unique article text high:', len(high_comp_df.full_artcl_text.unique()))\n",
    "print('start unique article text low:', len(low_comp_df.full_artcl_text.unique()))\n",
    "print('start unique post url high:', len(high_comp_df.url_s.unique()))\n",
    "print('start unique post url low:', len(low_comp_df.url_s.unique()))\n",
    "print('start unique post text high:', len(high_comp_df.text_txt_el.unique()))\n",
    "print('start unique post text low:', len(low_comp_df.text_txt_el.unique()))"
   ]
  },
  {
   "cell_type": "markdown",
   "id": "0f2c419b",
   "metadata": {},
   "source": [
    "**Drop lines where typs_s is not twitter or facebook (NEW dfs)**"
   ]
  },
  {
   "cell_type": "code",
   "execution_count": null,
   "id": "7ff452f2",
   "metadata": {},
   "outputs": [],
   "source": [
    "print(len(high_comp_df))\n",
    "print(len(low_comp_df))"
   ]
  },
  {
   "cell_type": "code",
   "execution_count": null,
   "id": "892d05f0",
   "metadata": {},
   "outputs": [],
   "source": [
    "print(len(high_comp_df[(high_comp_df.type_s != 'twitter') & (high_comp_df.type_s != 'facebook')]))\n",
    "print(len(low_comp_df[(low_comp_df.type_s != 'twitter') & (low_comp_df.type_s != 'facebook')]))"
   ]
  },
  {
   "cell_type": "code",
   "execution_count": null,
   "id": "665be23e",
   "metadata": {},
   "outputs": [],
   "source": [
    "high_comp_df2 = high_comp_df.drop(high_comp_df[(high_comp_df.type_s != 'twitter') & (high_comp_df.type_s != 'facebook')].index)\n",
    "low_comp_df2 = low_comp_df.drop(low_comp_df[(low_comp_df.type_s != 'twitter') & (low_comp_df.type_s != 'facebook')].index)"
   ]
  },
  {
   "cell_type": "code",
   "execution_count": null,
   "id": "61df121a",
   "metadata": {
    "scrolled": false
   },
   "outputs": [],
   "source": [
    "print(high_comp_df2.shape)\n",
    "print(low_comp_df2.shape)"
   ]
  },
  {
   "cell_type": "markdown",
   "id": "59a96e58",
   "metadata": {},
   "source": [
    "**Drop lines if the site is not greek (NEW dfs)**"
   ]
  },
  {
   "cell_type": "code",
   "execution_count": null,
   "id": "730b0bf5",
   "metadata": {
    "scrolled": true
   },
   "outputs": [],
   "source": [
    "# make lists with NOT greek sites names\n",
    "not_greek_sites_high = high_comp_df2[high_comp_df2.apply(lambda x: False if x ['site'].endswith('.gr')\n",
    "                                  else True, axis=1)]['site'].unique()\n",
    "not_greek_sites_low = low_comp_df2[low_comp_df2.apply(lambda x: False if x ['site'].endswith('.gr')\n",
    "                                  else True, axis=1)]['site'].unique()\n",
    "print('nbr of not_greek_sites_high:', len(not_greek_sites_high))\n",
    "print(list(not_greek_sites_high))\n",
    "print('nbr of not_greek_sites_low:', len(not_greek_sites_low))\n",
    "print(list(not_greek_sites_low))"
   ]
  },
  {
   "cell_type": "code",
   "execution_count": null,
   "id": "5342fe26",
   "metadata": {},
   "outputs": [],
   "source": [
    "false_not_greek_sites_high = ['newsvolos.com', 'myvolos.net', 'luben.tv', 'xenesglosses.eu', 'paok24.com',\n",
    "                              'aek365.com', 'athens.indymedia.org', 'politisonline.com']\n",
    "false_not_greek_sites_low = ['national-pride.org', 'hellasjournal.com', 'tilestwra.com',\n",
    "                             'planet-greece.blogspot.com', 'enallaktikidrasi.com', 'press-gr.com',\n",
    "                             'inewsgr.com', 'oroskopos.tv', 'thesecretrealtruth.blogspot.com',\n",
    "                             'mignatiou.com', 'treloi.eu', 'touristikosodigos.com', 'i-eidisi.com',\n",
    "                             'ant1iwo.com', 'patrisnews.com', 'apotis4stis5.com', 'philenews.com']"
   ]
  },
  {
   "cell_type": "code",
   "execution_count": null,
   "id": "a0bfd981",
   "metadata": {},
   "outputs": [],
   "source": [
    "# make lists with greek sites names\n",
    "greek_sites_high = high_comp_df2[high_comp_df2.apply(lambda x: True if x ['site'].endswith('.gr')\n",
    "                                  else False, axis=1)]['site'].unique()\n",
    "greek_sites_low = low_comp_df2[low_comp_df2.apply(lambda x: True if x ['site'].endswith('.gr')\n",
    "                                  else False, axis=1)]['site'].unique()"
   ]
  },
  {
   "cell_type": "code",
   "execution_count": null,
   "id": "9a552515",
   "metadata": {},
   "outputs": [],
   "source": [
    "# add false_not_greek_sites to lists with greek sites names\n",
    "greek_sites_high_new = list(greek_sites_high) + false_not_greek_sites_high\n",
    "greek_sites_low_new = list(greek_sites_low) + false_not_greek_sites_low"
   ]
  },
  {
   "cell_type": "code",
   "execution_count": null,
   "id": "86f9cb9d",
   "metadata": {},
   "outputs": [],
   "source": [
    "high_comp_df3 = high_comp_df2[high_comp_df2['site'].isin(greek_sites_high_new)]\n",
    "low_comp_df3 = low_comp_df2[low_comp_df2['site'].isin(greek_sites_low_new)]"
   ]
  },
  {
   "cell_type": "code",
   "execution_count": null,
   "id": "40d92150",
   "metadata": {
    "scrolled": true
   },
   "outputs": [],
   "source": [
    "print(len(high_comp_df3))\n",
    "print(len(low_comp_df3))"
   ]
  },
  {
   "cell_type": "code",
   "execution_count": null,
   "id": "e27d5705",
   "metadata": {},
   "outputs": [],
   "source": [
    "# remove false_not_greek_sites from not_greek_sites list\n",
    "not_greek_sites_high_new = []\n",
    "for site in list(not_greek_sites_high):\n",
    "    if site not in false_not_greek_sites_high:\n",
    "        not_greek_sites_high_new.append(site)\n",
    "not_greek_sites_low_new = []\n",
    "for site in list(not_greek_sites_low):\n",
    "    if site not in false_not_greek_sites_low:\n",
    "        not_greek_sites_low_new.append(site)\n",
    "print('nbr of not_greek_sites_high:', len(not_greek_sites_high_new))\n",
    "print(not_greek_sites_high_new)\n",
    "print('nbr of not_greek_sites_low:', len(not_greek_sites_low_new))\n",
    "print(not_greek_sites_low_new)"
   ]
  },
  {
   "cell_type": "markdown",
   "id": "cf9ac328",
   "metadata": {},
   "source": [
    "**Drop lines whith NaN values in \"full_artcl_text\"**"
   ]
  },
  {
   "cell_type": "code",
   "execution_count": null,
   "id": "151305b7",
   "metadata": {
    "scrolled": true
   },
   "outputs": [],
   "source": [
    "print('null full_article_text high:', high_comp_df3[high_comp_df3['full_artcl_text'].isnull()].in_id.count())\n",
    "print('null full_article_text low:', low_comp_df3[low_comp_df3['full_artcl_text'].isnull()].in_id.count())"
   ]
  },
  {
   "cell_type": "code",
   "execution_count": null,
   "id": "4ad4d664",
   "metadata": {},
   "outputs": [],
   "source": [
    "print(len(high_comp_df3[high_comp_df3['full_artcl_text'].isnull()].external_link_s.unique()))\n",
    "print(len(low_comp_df3[low_comp_df3['full_artcl_text'].isnull()].external_link_s.unique()))"
   ]
  },
  {
   "cell_type": "code",
   "execution_count": null,
   "id": "8248077a",
   "metadata": {
    "scrolled": false
   },
   "outputs": [],
   "source": [
    "high_comp_df4 = high_comp_df3.drop(high_comp_df3[high_comp_df3['full_artcl_text'].isnull()].index)#.reset_index(drop=True)\n",
    "low_comp_df4 = low_comp_df3.drop(low_comp_df3[low_comp_df3['full_artcl_text'].isnull()].index)#.reset_index(drop=True)\n",
    "print(len(high_comp_df4))\n",
    "print(len(low_comp_df4))"
   ]
  },
  {
   "cell_type": "code",
   "execution_count": null,
   "id": "a6283c52",
   "metadata": {
    "scrolled": true
   },
   "outputs": [],
   "source": [
    "high_comp_df4.columns"
   ]
  },
  {
   "cell_type": "markdown",
   "id": "ce3e78d0",
   "metadata": {},
   "source": [
    "### **Corpus description**"
   ]
  },
  {
   "cell_type": "code",
   "execution_count": null,
   "id": "e10921d8",
   "metadata": {
    "scrolled": false
   },
   "outputs": [],
   "source": [
    "print('unique article urls high:', len(high_comp_df4.external_link_s.unique()))\n",
    "print('unique article urls low:', len(low_comp_df4.external_link_s.unique()))"
   ]
  },
  {
   "cell_type": "code",
   "execution_count": null,
   "id": "a8c077c2",
   "metadata": {},
   "outputs": [],
   "source": [
    "print('unique full article text high:', len(high_comp_df4.full_artcl_text.unique()))\n",
    "print('unique sites low:', len(low_comp_df4.full_artcl_text.unique()))"
   ]
  },
  {
   "cell_type": "code",
   "execution_count": null,
   "id": "590eb652",
   "metadata": {
    "scrolled": false
   },
   "outputs": [],
   "source": [
    "print('unique sites high:', len(high_comp_df4.site.unique()))\n",
    "print('unique sites low:', len(low_comp_df4.site.unique()))"
   ]
  },
  {
   "cell_type": "code",
   "execution_count": null,
   "id": "79b37aa9",
   "metadata": {},
   "outputs": [],
   "source": [
    "high_comp_df4.isnull().T.any().T.sum()"
   ]
  },
  {
   "cell_type": "code",
   "execution_count": null,
   "id": "41062ddf",
   "metadata": {},
   "outputs": [],
   "source": [
    "high_comp_df[high_comp_df.isnull().T.any()]"
   ]
  },
  {
   "cell_type": "code",
   "execution_count": null,
   "id": "67671749",
   "metadata": {
    "scrolled": false
   },
   "outputs": [],
   "source": [
    "high_comp_df4.groupby('external_link_s').size().sort_values()"
   ]
  },
  {
   "cell_type": "code",
   "execution_count": null,
   "id": "5257c29b",
   "metadata": {},
   "outputs": [],
   "source": [
    "high_comp_df4.groupby('type_s')[['in_id']].count()"
   ]
  },
  {
   "cell_type": "code",
   "execution_count": null,
   "id": "e85453a7",
   "metadata": {
    "scrolled": true
   },
   "outputs": [],
   "source": [
    "high_comp_df4.groupby(['external_link_s','type_s'], as_index=False)['in_id'].count()"
   ]
  },
  {
   "cell_type": "code",
   "execution_count": null,
   "id": "50c675f4",
   "metadata": {},
   "outputs": [],
   "source": [
    "df_out = df.copy()\n",
    "df_out = (df_out.groupby(['cluster', 'merchant']).agg({'latitude' : 'first',\n",
    "                                                  'longitude' : 'first',\n",
    "                                                  'city' : 'first',\n",
    "                                                  'category' : 'first',\n",
    "                                                  'cluster' : 'count'})\n",
    "          .rename({'cluster' : 'cluster_count'},axis=1).reset_index()\n",
    "          .sort_values(['cluster', 'cluster_count'], ascending = [True, False])\n",
    "          .drop('cluster_count', axis=1))\n",
    "df_out"
   ]
  },
  {
   "cell_type": "code",
   "execution_count": null,
   "id": "4967b53d",
   "metadata": {},
   "outputs": [],
   "source": []
  },
  {
   "cell_type": "markdown",
   "id": "aca4d2be",
   "metadata": {},
   "source": [
    "**Check if source_s == site**"
   ]
  },
  {
   "cell_type": "code",
   "execution_count": null,
   "id": "84f12cbe",
   "metadata": {},
   "outputs": [],
   "source": [
    "len(high_comp_df4[(high_comp_df4.type_s == 'twitter') & (high_comp_df4.source_s == high_comp_df4.site)])"
   ]
  },
  {
   "cell_type": "code",
   "execution_count": null,
   "id": "dafe95d7",
   "metadata": {
    "scrolled": false
   },
   "outputs": [],
   "source": [
    "len(high_comp_df4[(high_comp_df4.type_s == 'facebook') & (high_comp_df4.source_s == high_comp_df4.site)])"
   ]
  },
  {
   "cell_type": "code",
   "execution_count": null,
   "id": "ff5274af",
   "metadata": {},
   "outputs": [],
   "source": [
    "high_comp_df4[(high_comp_df4.type_s == 'facebook') & (high_comp_df4.source_s == high_comp_df4.site)\n",
    "             ].groupby('site')['site'].count()"
   ]
  },
  {
   "cell_type": "markdown",
   "id": "0093cf4f",
   "metadata": {},
   "source": [
    "### **Important Notes:** \n",
    "- Δεν υπάρχει κανένα tweet στο οποίο το source_s == site\n",
    "- Yπάρχει μόνο στο facebook και αφορά μόνο 8 sites\n",
    "\n",
    "Αυτό συνιστά τεράστιο πρόβλημα γιατί χάνεται πάρα πολύ πληροφορία από το dataset"
   ]
  },
  {
   "cell_type": "markdown",
   "id": "940abfe5",
   "metadata": {},
   "source": [
    "**Ποια source_s μοιάζουν πολύ με το site?**"
   ]
  },
  {
   "cell_type": "markdown",
   "id": "e8906aba",
   "metadata": {},
   "source": [
    "**High quality**"
   ]
  },
  {
   "cell_type": "code",
   "execution_count": null,
   "id": "7a34cb52",
   "metadata": {
    "scrolled": false
   },
   "outputs": [],
   "source": [
    "# high sites that are likely to be the social source\n",
    "sitesL_with_social_high = high_comp_df4[high_comp_df4.apply(lambda x: True if x ['source_s'].lower()\n",
    "                                  .startswith(x['site'][:-3]) else False, axis=1)]['site'].unique()\n",
    "sitesL_with_social_high"
   ]
  },
  {
   "cell_type": "code",
   "execution_count": null,
   "id": "d4c0177a",
   "metadata": {
    "scrolled": true
   },
   "outputs": [],
   "source": [
    "# high source_s that are likely to belong to sites\n",
    "sourceL_with_social_high = high_comp_df4[high_comp_df4.apply(lambda x: True if x ['source_s'].lower()\n",
    "                                  .startswith(x['site'][:-3]) else False, axis=1)]['source_s'].unique()\n",
    "sourceL_with_social_high"
   ]
  },
  {
   "cell_type": "code",
   "execution_count": null,
   "id": "d1df1820",
   "metadata": {
    "scrolled": true
   },
   "outputs": [],
   "source": [
    "print(len(sitesL_with_social_high))\n",
    "print(len(sourceL_with_social_high))"
   ]
  },
  {
   "cell_type": "markdown",
   "id": "350c8ff7",
   "metadata": {},
   "source": [
    "**Low quality**"
   ]
  },
  {
   "cell_type": "code",
   "execution_count": null,
   "id": "bc71d825",
   "metadata": {},
   "outputs": [],
   "source": [
    "# low sites that are likely to be the social source\n",
    "sitesL_with_social_low = low_comp_df4[low_comp_df4.apply(lambda x: True if x ['source_s'].lower()\n",
    "                                  .startswith(x['site'][:-3]) else False, axis=1)]['site'].unique()\n",
    "sitesL_with_social_low"
   ]
  },
  {
   "cell_type": "code",
   "execution_count": null,
   "id": "b5f7dd94",
   "metadata": {},
   "outputs": [],
   "source": [
    "# low source_s that are likely to belong to sites\n",
    "sourceL_with_social_low = low_comp_df4[low_comp_df4.apply(lambda x: True if x ['source_s'].lower()\n",
    "                                  .startswith(x['site'][:-3]) else False, axis=1)]['source_s'].unique()\n",
    "sourceL_with_social_low"
   ]
  },
  {
   "cell_type": "code",
   "execution_count": null,
   "id": "64991031",
   "metadata": {
    "scrolled": false
   },
   "outputs": [],
   "source": [
    "print(len(sitesL_with_social_low))\n",
    "print(len(sourceL_with_social_low))"
   ]
  },
  {
   "cell_type": "markdown",
   "id": "484914be",
   "metadata": {},
   "source": [
    "**Create new source_s column**"
   ]
  },
  {
   "cell_type": "markdown",
   "id": "d134420d",
   "metadata": {},
   "source": [
    "**High quality**"
   ]
  },
  {
   "cell_type": "code",
   "execution_count": null,
   "id": "394c3d20",
   "metadata": {},
   "outputs": [],
   "source": [
    "high_comp_df5 = high_comp_df4\n",
    "low_comp_df5 = low_comp_df4"
   ]
  },
  {
   "cell_type": "code",
   "execution_count": null,
   "id": "da1d7ddf",
   "metadata": {},
   "outputs": [],
   "source": [
    "# make a 'new_source_s' column with True values if 'source_s' matches 'site'\n",
    "high_comp_df5['new_source_s'] = high_comp_df5.apply(lambda x: True if x ['source_s'].lower()\n",
    "                                  .startswith(x['site'][:-3]) else False, axis=1)\n",
    "high_comp_df5['source_new'] = high_comp_df5.apply(lambda x: x['site']\n",
    "                                                  if x['new_source_s']==True else pd.NA, axis=1)\n",
    "high_comp_df5.head(1)"
   ]
  },
  {
   "cell_type": "code",
   "execution_count": null,
   "id": "88dff15f",
   "metadata": {
    "scrolled": true
   },
   "outputs": [],
   "source": [
    "# drop lines where source_s doesn't match site\n",
    "high_comp_df5 = high_comp_df5.dropna(subset=['source_new'])\n",
    "print(len(high_comp_df5))\n",
    "print(len(high_comp_df5.source_new.unique()))"
   ]
  },
  {
   "cell_type": "markdown",
   "id": "f27a769b",
   "metadata": {},
   "source": [
    "**Low quality**"
   ]
  },
  {
   "cell_type": "code",
   "execution_count": null,
   "id": "b5b5e9bc",
   "metadata": {},
   "outputs": [],
   "source": [
    "# make a 'new_source_s' column with True values if 'source_s' matches 'site'\n",
    "low_comp_df5['new_source_s'] = low_comp_df5.apply(lambda x: True if x ['source_s'].lower()\n",
    "                                  .startswith(x['site'][:-3]) else False, axis=1)\n",
    "low_comp_df5['source_new'] = low_comp_df5.apply(lambda x: x['site']\n",
    "                                                  if x['new_source_s']==True else pd.NA, axis=1)\n",
    "low_comp_df5.head(1)"
   ]
  },
  {
   "cell_type": "code",
   "execution_count": null,
   "id": "ca62d333",
   "metadata": {},
   "outputs": [],
   "source": [
    "# drop lines where source_s doesn't match site\n",
    "low_comp_df5 = low_comp_df5.dropna(subset=['source_new'])\n",
    "print(len(low_comp_df5))\n",
    "print(len(low_comp_df5.source_new.unique()))"
   ]
  },
  {
   "cell_type": "markdown",
   "id": "a0f06573",
   "metadata": {},
   "source": [
    "### **Datasets report**"
   ]
  },
  {
   "cell_type": "code",
   "execution_count": null,
   "id": "64786800",
   "metadata": {
    "scrolled": true
   },
   "outputs": [],
   "source": [
    "print('DATASETS REPORT')\n",
    "print('+'*15)\n",
    "print('\\n')\n",
    "print('start datasets')\n",
    "print('='*14)\n",
    "print('start nbr of rows high:', len(high_comp_df))\n",
    "print('start nbr of rows low:', len(low_comp_df))\n",
    "print('-'*10)\n",
    "print('start nbr of articles high:', len(high_comp_df.external_link_s.unique()))\n",
    "print('start nbr of articles low:', len(low_comp_df.external_link_s.unique()))\n",
    "print('-'*10)\n",
    "print('start nbr of sites high:', len(high_comp_df.site.unique()))\n",
    "print('start nbr of sites low:', len(low_comp_df.site.unique()))\n",
    "print('-'*10)\n",
    "print('\\n')\n",
    "print('final datasets (greek sites only, social posts from sites with identical name, full_artcl_text is not NaN)')\n",
    "print('='*10)\n",
    "print('final nbr of rows high:', len(high_comp_df5))\n",
    "print('final nbr of rows low:', len(low_comp_df5))\n",
    "print('-'*10)\n",
    "print('final nbr of articles high:', len(high_comp_df5.external_link_s.unique()))\n",
    "print('final nbr of articles low:', len(low_comp_df5.external_link_s.unique()))\n",
    "print('-'*10)\n",
    "print('final nbr of sites high:', len(high_comp_df5.site.unique()))\n",
    "print('final nbr of sites low:', len(low_comp_df5.site.unique()))\n",
    "print('-'*10)"
   ]
  },
  {
   "cell_type": "markdown",
   "id": "ffde8014",
   "metadata": {},
   "source": [
    "## **Construct dfs**"
   ]
  },
  {
   "cell_type": "markdown",
   "id": "a86869ad",
   "metadata": {},
   "source": [
    "### **High quality**"
   ]
  },
  {
   "cell_type": "code",
   "execution_count": null,
   "id": "42e0ba4f",
   "metadata": {
    "scrolled": true
   },
   "outputs": [],
   "source": [
    "high_comp_df5.head(1)"
   ]
  },
  {
   "cell_type": "markdown",
   "id": "576b92d7",
   "metadata": {},
   "source": [
    "**Create high_comp_df for facebook**"
   ]
  },
  {
   "cell_type": "code",
   "execution_count": null,
   "id": "652181a1",
   "metadata": {
    "scrolled": false
   },
   "outputs": [],
   "source": [
    "high_comp_df_fb = high_comp_df5[high_comp_df5.type_s == 'facebook'][['in_id', 'site', 'external_link_s',\n",
    "                                                                     'full_artcl_text', 'url_s', 'text_txt_el',\n",
    "                                                                    'likes_i', 'comments_i', 'timestamp_dt']]\n",
    "high_comp_df_fb.head(1)"
   ]
  },
  {
   "cell_type": "markdown",
   "id": "96f0da3e",
   "metadata": {},
   "source": [
    "**Create high_comp_df for twitter**"
   ]
  },
  {
   "cell_type": "code",
   "execution_count": null,
   "id": "a38b8683",
   "metadata": {},
   "outputs": [],
   "source": [
    "high_comp_df_tw = high_comp_df5[high_comp_df5.type_s == 'twitter'][['in_id', 'external_link_s', 'full_artcl_text',\n",
    "                                                                     'url_s', 'text_txt_el', 'retweet_count_l',\n",
    "                                                                    'followers_i', 'following_i', 'mentions_i',\n",
    "                                                                    'timestamp_dt']]\n",
    "high_comp_df_tw.head(1)"
   ]
  },
  {
   "cell_type": "code",
   "execution_count": null,
   "id": "7a83b0f4",
   "metadata": {
    "scrolled": true
   },
   "outputs": [],
   "source": [
    "print(len(high_comp_df_fb))\n",
    "print(len(high_comp_df_tw))"
   ]
  },
  {
   "cell_type": "markdown",
   "id": "e8ae7dba",
   "metadata": {},
   "source": [
    "**Merge fb and tw (on article_url and full_text)**"
   ]
  },
  {
   "cell_type": "code",
   "execution_count": null,
   "id": "3b0e6c35",
   "metadata": {
    "scrolled": true
   },
   "outputs": [],
   "source": [
    "high_comp_merged_df = pd.merge(high_comp_df_fb, high_comp_df_tw, on=[\"external_link_s\", \"full_artcl_text\"])\n",
    "high_comp_merged_df"
   ]
  },
  {
   "cell_type": "code",
   "execution_count": null,
   "id": "34463602",
   "metadata": {
    "scrolled": true
   },
   "outputs": [],
   "source": [
    "high_comp_merged_df.drop_duplicates(subset=\"external_link_s\", keep='first', inplace=False)"
   ]
  },
  {
   "cell_type": "markdown",
   "id": "47150e96",
   "metadata": {},
   "source": [
    "### **Low quality**"
   ]
  },
  {
   "cell_type": "code",
   "execution_count": null,
   "id": "e6d17c17",
   "metadata": {
    "scrolled": true
   },
   "outputs": [],
   "source": [
    "low_comp_df5.head(1)"
   ]
  },
  {
   "cell_type": "markdown",
   "id": "8881f8a1",
   "metadata": {},
   "source": [
    "**Create low_comp_df for facebook**"
   ]
  },
  {
   "cell_type": "code",
   "execution_count": null,
   "id": "64e981aa",
   "metadata": {
    "scrolled": false
   },
   "outputs": [],
   "source": [
    "low_comp_df_fb = low_comp_df5[low_comp_df5.type_s == 'facebook'][['in_id', 'site', 'external_link_s',\n",
    "                                                                     'full_artcl_text', 'url_s', 'text_txt_el',\n",
    "                                                                    'likes_i', 'comments_i', 'timestamp_dt']]\n",
    "low_comp_df_fb.head(1)"
   ]
  },
  {
   "cell_type": "markdown",
   "id": "900a269c",
   "metadata": {},
   "source": [
    "**Create low_comp_df for twitter**"
   ]
  },
  {
   "cell_type": "code",
   "execution_count": null,
   "id": "a117ca49",
   "metadata": {},
   "outputs": [],
   "source": [
    "low_comp_df_tw = low_comp_df5[low_comp_df5.type_s == 'twitter'][['in_id', 'external_link_s', 'full_artcl_text',\n",
    "                                                                     'url_s', 'text_txt_el', 'retweet_count_l',\n",
    "                                                                    'followers_i', 'following_i', 'mentions_i',\n",
    "                                                                    'timestamp_dt']]\n",
    "low_comp_df_tw.head(1)"
   ]
  },
  {
   "cell_type": "code",
   "execution_count": null,
   "id": "461e8cd9",
   "metadata": {
    "scrolled": true
   },
   "outputs": [],
   "source": [
    "print(len(low_comp_df_fb))\n",
    "print(len(low_comp_df_tw))"
   ]
  },
  {
   "cell_type": "markdown",
   "id": "b1fec3ad",
   "metadata": {},
   "source": [
    "**Merge fb and tw (on article_url and full_text)**"
   ]
  },
  {
   "cell_type": "code",
   "execution_count": null,
   "id": "7bbb714d",
   "metadata": {
    "scrolled": true
   },
   "outputs": [],
   "source": [
    "low_comp_merged_df = pd.merge(low_comp_df_fb, low_comp_df_tw, on=[\"external_link_s\", \"full_artcl_text\"])\n",
    "low_comp_merged_df"
   ]
  },
  {
   "cell_type": "code",
   "execution_count": null,
   "id": "5d9d3f7b",
   "metadata": {
    "scrolled": false
   },
   "outputs": [],
   "source": [
    "low_comp_merged_df.drop_duplicates(subset=\"external_link_s\", keep='first', inplace=False).reset_index()"
   ]
  }
 ],
 "metadata": {
  "kernelspec": {
   "display_name": "Python 3 (ipykernel)",
   "language": "python",
   "name": "python3"
  },
  "language_info": {
   "codemirror_mode": {
    "name": "ipython",
    "version": 3
   },
   "file_extension": ".py",
   "mimetype": "text/x-python",
   "name": "python",
   "nbconvert_exporter": "python",
   "pygments_lexer": "ipython3",
   "version": "3.8.10"
  }
 },
 "nbformat": 4,
 "nbformat_minor": 5
}
