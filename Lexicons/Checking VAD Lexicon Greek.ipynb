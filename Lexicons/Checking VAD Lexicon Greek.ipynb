{
 "cells": [
  {
   "cell_type": "code",
   "execution_count": 19,
   "id": "120d8c66",
   "metadata": {},
   "outputs": [],
   "source": [
    "import pandas as pd\n",
    "import numpy as np\n",
    "\n",
    "import requests\n",
    "import os\n",
    "import pandas as pd\n",
    "import numpy as np\n",
    "import nltk"
   ]
  },
  {
   "cell_type": "code",
   "execution_count": 20,
   "id": "9900690f",
   "metadata": {},
   "outputs": [],
   "source": [
    "VAD_df = pd.read_csv(\"../LEXIKA/fixed_csvs/fixed_greek_NRC_VAD_lex_2023_01.csv\")"
   ]
  },
  {
   "cell_type": "code",
   "execution_count": 21,
   "id": "e43f9a0c",
   "metadata": {},
   "outputs": [
    {
     "data": {
      "text/html": [
       "<div>\n",
       "<style scoped>\n",
       "    .dataframe tbody tr th:only-of-type {\n",
       "        vertical-align: middle;\n",
       "    }\n",
       "\n",
       "    .dataframe tbody tr th {\n",
       "        vertical-align: top;\n",
       "    }\n",
       "\n",
       "    .dataframe thead th {\n",
       "        text-align: right;\n",
       "    }\n",
       "</style>\n",
       "<table border=\"1\" class=\"dataframe\">\n",
       "  <thead>\n",
       "    <tr style=\"text-align: right;\">\n",
       "      <th></th>\n",
       "      <th>English</th>\n",
       "      <th>Greek</th>\n",
       "      <th>Valence</th>\n",
       "      <th>Arousal</th>\n",
       "      <th>Dominance</th>\n",
       "    </tr>\n",
       "  </thead>\n",
       "  <tbody>\n",
       "    <tr>\n",
       "      <th>0</th>\n",
       "      <td>False</td>\n",
       "      <td>ψευδής</td>\n",
       "      <td>0.120</td>\n",
       "      <td>0.404</td>\n",
       "      <td>0.240</td>\n",
       "    </tr>\n",
       "    <tr>\n",
       "      <th>1</th>\n",
       "      <td>True</td>\n",
       "      <td>αληθής</td>\n",
       "      <td>0.896</td>\n",
       "      <td>0.436</td>\n",
       "      <td>0.777</td>\n",
       "    </tr>\n",
       "    <tr>\n",
       "      <th>2</th>\n",
       "      <td>aaaaaaah</td>\n",
       "      <td>ααααααχ</td>\n",
       "      <td>0.479</td>\n",
       "      <td>0.606</td>\n",
       "      <td>0.291</td>\n",
       "    </tr>\n",
       "    <tr>\n",
       "      <th>3</th>\n",
       "      <td>aaaah</td>\n",
       "      <td>ααααχ</td>\n",
       "      <td>0.520</td>\n",
       "      <td>0.636</td>\n",
       "      <td>0.282</td>\n",
       "    </tr>\n",
       "    <tr>\n",
       "      <th>4</th>\n",
       "      <td>aardvark</td>\n",
       "      <td>μυρμηγκοφάγο θηλαστικό</td>\n",
       "      <td>0.427</td>\n",
       "      <td>0.490</td>\n",
       "      <td>0.437</td>\n",
       "    </tr>\n",
       "    <tr>\n",
       "      <th>...</th>\n",
       "      <td>...</td>\n",
       "      <td>...</td>\n",
       "      <td>...</td>\n",
       "      <td>...</td>\n",
       "      <td>...</td>\n",
       "    </tr>\n",
       "    <tr>\n",
       "      <th>25818</th>\n",
       "      <td>zoo</td>\n",
       "      <td>ζωολογικος κηπος</td>\n",
       "      <td>0.760</td>\n",
       "      <td>0.520</td>\n",
       "      <td>0.580</td>\n",
       "    </tr>\n",
       "    <tr>\n",
       "      <th>25819</th>\n",
       "      <td>zoological</td>\n",
       "      <td>ζωολογικός</td>\n",
       "      <td>0.667</td>\n",
       "      <td>0.458</td>\n",
       "      <td>0.492</td>\n",
       "    </tr>\n",
       "    <tr>\n",
       "      <th>25820</th>\n",
       "      <td>zoology</td>\n",
       "      <td>ζωολογία</td>\n",
       "      <td>0.568</td>\n",
       "      <td>0.347</td>\n",
       "      <td>0.509</td>\n",
       "    </tr>\n",
       "    <tr>\n",
       "      <th>25821</th>\n",
       "      <td>zoom</td>\n",
       "      <td>ανίπταμαι διαγωνίως</td>\n",
       "      <td>0.490</td>\n",
       "      <td>0.520</td>\n",
       "      <td>0.462</td>\n",
       "    </tr>\n",
       "    <tr>\n",
       "      <th>25822</th>\n",
       "      <td>zucchini</td>\n",
       "      <td>κολοκύθι</td>\n",
       "      <td>0.510</td>\n",
       "      <td>0.321</td>\n",
       "      <td>0.250</td>\n",
       "    </tr>\n",
       "  </tbody>\n",
       "</table>\n",
       "<p>25823 rows × 5 columns</p>\n",
       "</div>"
      ],
      "text/plain": [
       "          English                   Greek  Valence  Arousal  Dominance\n",
       "0           False                  ψευδής    0.120    0.404      0.240\n",
       "1            True                  αληθής    0.896    0.436      0.777\n",
       "2        aaaaaaah                 ααααααχ    0.479    0.606      0.291\n",
       "3           aaaah                   ααααχ    0.520    0.636      0.282\n",
       "4        aardvark  μυρμηγκοφάγο θηλαστικό    0.427    0.490      0.437\n",
       "...           ...                     ...      ...      ...        ...\n",
       "25818         zoo        ζωολογικος κηπος    0.760    0.520      0.580\n",
       "25819  zoological              ζωολογικός    0.667    0.458      0.492\n",
       "25820     zoology                ζωολογία    0.568    0.347      0.509\n",
       "25821        zoom     ανίπταμαι διαγωνίως    0.490    0.520      0.462\n",
       "25822    zucchini                κολοκύθι    0.510    0.321      0.250\n",
       "\n",
       "[25823 rows x 5 columns]"
      ]
     },
     "execution_count": 21,
     "metadata": {},
     "output_type": "execute_result"
    }
   ],
   "source": [
    "VAD_df"
   ]
  },
  {
   "cell_type": "code",
   "execution_count": 22,
   "id": "ec57131f",
   "metadata": {},
   "outputs": [],
   "source": [
    "VAD_df.rename(columns={'Greek': 'Word'}, inplace=True)"
   ]
  },
  {
   "cell_type": "code",
   "execution_count": 23,
   "id": "a90fdc9a",
   "metadata": {},
   "outputs": [],
   "source": [
    "VAD_df.drop('English', axis=1, inplace=True)"
   ]
  },
  {
   "cell_type": "code",
   "execution_count": 24,
   "id": "8b56bda5",
   "metadata": {},
   "outputs": [],
   "source": [
    "VAD_df = VAD_df.drop_duplicates(['Word'], keep='last')"
   ]
  },
  {
   "cell_type": "code",
   "execution_count": 25,
   "id": "d5e78ba8",
   "metadata": {},
   "outputs": [
    {
     "data": {
      "text/plain": [
       "(17362, 4)"
      ]
     },
     "execution_count": 25,
     "metadata": {},
     "output_type": "execute_result"
    }
   ],
   "source": [
    "VAD_df.shape"
   ]
  },
  {
   "cell_type": "code",
   "execution_count": 28,
   "id": "47d281a2",
   "metadata": {},
   "outputs": [
    {
     "data": {
      "text/plain": [
       "{'valence': 0.917, 'arousal': 0.769, 'dominance': 0.845}"
      ]
     },
     "execution_count": 28,
     "metadata": {},
     "output_type": "execute_result"
    }
   ],
   "source": [
    "import numpy as np\n",
    "w2scores = {}\n",
    "for w,val,ar,dom in VAD_df.values:\n",
    "    w2scores[w] = {'valence':val,'arousal':ar,'dominance':dom}\n",
    "def get_vad_score(doc,tokenizer=nltk.word_tokenize,agg='mean'):\n",
    "    if type(doc)==str:\n",
    "        doc = tokenizer(doc)\n",
    "    assert type(doc)==list,\"please input either a list or a string\"\n",
    "        \n",
    "    matches = []\n",
    "    for w in doc:\n",
    "        w = w.lower()\n",
    "        if w in w2scores:\n",
    "            matches.append(w2scores[w])\n",
    "    if len(matches)==0:\n",
    "        return {'arousal':np.nan,'dominance':np.nan,'valence':np.nan}\n",
    "    scores = pd.DataFrame(matches)\n",
    "    if agg=='mean':\n",
    "        scores =  scores.mean()\n",
    "    elif agg=='max':\n",
    "        scores =  scores.max()\n",
    "    else:\n",
    "        scores =  agg(scores)\n",
    "    return dict(scores)\n",
    "\n",
    "\n",
    "get_vad_score('πάθος',agg='mean')\n"
   ]
  },
  {
   "cell_type": "code",
   "execution_count": 29,
   "id": "f6edb0a1",
   "metadata": {},
   "outputs": [
    {
     "data": {
      "text/plain": [
       "0.43299999999999994"
      ]
     },
     "execution_count": 29,
     "metadata": {},
     "output_type": "execute_result"
    }
   ],
   "source": [
    "#only valence\n",
    "import numpy as np\n",
    "w2scores = {}\n",
    "for w,val,ar,dom in VAD_df.values:\n",
    "    w2scores[w] = {'valence':val,'arousal':ar,'dominance':dom}\n",
    "def get_valence_score(doc,tokenizer=nltk.word_tokenize,agg='mean'):\n",
    "    if type(doc)==str:\n",
    "        doc = tokenizer(doc)\n",
    "    assert type(doc)==list,\"please input either a list or a string\"\n",
    "        \n",
    "    matches = []\n",
    "    for w in doc:\n",
    "        w = w.lower()\n",
    "        if w in w2scores:\n",
    "            matches.append(w2scores[w])\n",
    "    if len(matches)==0:\n",
    "        return {'arousal':np.nan,'dominance':np.nan,'valence':np.nan}\n",
    "    scores = pd.DataFrame(matches)\n",
    "    if agg=='mean':\n",
    "        scores =  scores.mean()\n",
    "    elif agg=='max':\n",
    "        scores =  scores.max()\n",
    "    else:\n",
    "        scores =  agg(scores)\n",
    "    return list(dict(scores).values())[0]\n",
    "get_valence_score('ψευδής η δήλωση σας',agg='mean')\n",
    "\n"
   ]
  },
  {
   "cell_type": "code",
   "execution_count": null,
   "id": "ff69d1a5",
   "metadata": {},
   "outputs": [],
   "source": [
    "df_news ['Valence'] = df_news['lemmatized'].apply(lambda x: get_valence_score(x))"
   ]
  },
  {
   "cell_type": "code",
   "execution_count": 14,
   "id": "a12eb547",
   "metadata": {},
   "outputs": [
    {
     "data": {
      "text/plain": [
       "0.6970000000000001"
      ]
     },
     "execution_count": 14,
     "metadata": {},
     "output_type": "execute_result"
    }
   ],
   "source": [
    "#only arousal\n",
    "\n",
    "import numpy as np\n",
    "w2scores = {}\n",
    "for w,val,ar,dom in VAD_df.values:\n",
    "    w2scores[w] = {'valence':val,'arousal':ar,'dominance':dom}\n",
    "def get_arousal_score(doc,tokenizer=nltk.word_tokenize,agg='mean'):\n",
    "    if type(doc)==str:\n",
    "        doc = tokenizer(doc)\n",
    "    assert type(doc)==list,\"please input either a list or a string\"\n",
    "        \n",
    "    matches = []\n",
    "    for w in doc:\n",
    "        w = w.lower()\n",
    "        if w in w2scores:\n",
    "            matches.append(w2scores[w])\n",
    "    if len(matches)==0:\n",
    "        return {'arousal':np.nan,'dominance':np.nan,'valence':np.nan}\n",
    "    scores = pd.DataFrame(matches)\n",
    "    if agg=='mean':\n",
    "        scores =  scores.mean()\n",
    "    elif agg=='max':\n",
    "        scores =  scores.max()\n",
    "    else:\n",
    "        scores =  agg(scores)\n",
    "    return list(dict(scores).values())[1]\n",
    "get_arousal_score('Σε αγαπώ και σε μισώ',agg='mean')\n"
   ]
  },
  {
   "cell_type": "code",
   "execution_count": null,
   "id": "ac60442d",
   "metadata": {},
   "outputs": [],
   "source": [
    "df_news ['Arousal'] = df_news['lemmatized'].apply(lambda x: get_arousal_score(x))"
   ]
  },
  {
   "cell_type": "code",
   "execution_count": 18,
   "id": "521eca4e",
   "metadata": {},
   "outputs": [
    {
     "data": {
      "text/plain": [
       "0.5123333333333333"
      ]
     },
     "execution_count": 18,
     "metadata": {},
     "output_type": "execute_result"
    }
   ],
   "source": [
    "#only dominance\n",
    "\n",
    "import numpy as np\n",
    "w2scores = {}\n",
    "for w,val,ar,dom in VAD_df.values:\n",
    "    w2scores[w] = {'valence':val,'arousal':ar,'dominance':dom}\n",
    "def get_dom_score(doc,tokenizer=nltk.word_tokenize,agg='mean'):\n",
    "    if type(doc)==str:\n",
    "        doc = tokenizer(doc)\n",
    "    assert type(doc)==list,\"please input either a list or a string\"\n",
    "        \n",
    "    matches = []\n",
    "    for w in doc:\n",
    "        w = w.lower()\n",
    "        if w in w2scores:\n",
    "            matches.append(w2scores[w])\n",
    "    if len(matches)==0:\n",
    "        return {'arousal':np.nan,'dominance':np.nan,'valence':np.nan}\n",
    "    scores = pd.DataFrame(matches)\n",
    "    if agg=='mean':\n",
    "        scores =  scores.mean()\n",
    "    elif agg=='max':\n",
    "        scores =  scores.max()\n",
    "    else:\n",
    "        scores =  agg(scores)\n",
    "    return list(dict(scores).values())[2]\n",
    "get_dom_score('δεν τον αντέχω καθόλου',agg='mean')\n"
   ]
  },
  {
   "cell_type": "code",
   "execution_count": null,
   "id": "3886b488",
   "metadata": {},
   "outputs": [],
   "source": [
    "df_news ['Dominance'] = df_news['lemmatized'].apply(lambda x: get_dom_score(x))"
   ]
  },
  {
   "cell_type": "code",
   "execution_count": null,
   "id": "94508808",
   "metadata": {},
   "outputs": [],
   "source": [
    "df_news [['Valence','Arousal','Dominance']]"
   ]
  }
 ],
 "metadata": {
  "kernelspec": {
   "display_name": "Python 3 (ipykernel)",
   "language": "python",
   "name": "python3"
  },
  "language_info": {
   "codemirror_mode": {
    "name": "ipython",
    "version": 3
   },
   "file_extension": ".py",
   "mimetype": "text/x-python",
   "name": "python",
   "nbconvert_exporter": "python",
   "pygments_lexer": "ipython3",
   "version": "3.8.10"
  }
 },
 "nbformat": 4,
 "nbformat_minor": 5
}
